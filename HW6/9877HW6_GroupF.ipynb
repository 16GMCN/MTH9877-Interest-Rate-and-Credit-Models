{
 "cells": [
  {
   "cell_type": "markdown",
   "metadata": {},
   "source": [
    "# Group F\n",
    "* Chenyu Zhao\n",
    "* Mingxiang Jia\n",
    "* Shenyi Mao\n",
    "* Zichao Wang"
   ]
  },
  {
   "cell_type": "markdown",
   "metadata": {},
   "source": [
    "### Problem I\n",
    "\n",
    "(i)\n",
    "\n",
    "In this model, $\\lambda$ is not a function of mortgage rate curve. So it cannot model the behavior that when $\\lambda$ increase the mortgage rate $M$ goes down. Also it cannot model $\\lambda$ has finite saturation level when $C-M\\to \\infty$ and  $C-M\\to -\\infty$ "
   ]
  },
  {
   "cell_type": "markdown",
   "metadata": {},
   "source": [
    "(ii)\n",
    "$$\n",
    "S(0,t)=exp(-\\int_0^t\\lambda(s)ds)=exp(-\\int_0^t \\lambda^\\gamma \\gamma s^{\\gamma-1}ds)=exp(1-\\lambda^\\gamma t^\\gamma)\n",
    "$$\n",
    "\n",
    "$$\n",
    "S(u,t)=exp(-\\int_u^t\\lambda(s)ds)=exp(-\\int_u^t \\lambda^\\gamma \\gamma s^{\\gamma-1}ds)=exp(\\lambda^\\gamma u^\\gamma-\\lambda^\\gamma t^\\gamma)\n",
    "$$\n",
    "\n",
    "is the survival rate"
   ]
  },
  {
   "cell_type": "markdown",
   "metadata": {},
   "source": [
    "(iii)\n",
    "\n",
    "$$\n",
    "\\begin{split}\n",
    "P(T)=&E\\big[\\sum_j Z(T,T_j)\\times\\big(S(T,T_{j-1})C_j+(S(T,T_{j-1})-S(T,T_j))B_j) \\big) \\big]\\\\\n",
    "=&E\\big[\\sum_j e^{-r(T_j-T)}\\times\\big(e^{\\lambda^\\gamma(T_{j-1}^\\gamma-T^\\gamma)}C_j+(e^{\\lambda^\\gamma(T_{j-1}^\\gamma-T^\\gamma)}-e^{\\lambda^\\gamma(T_{j}^\\gamma-T^\\gamma)}))B_j) \\big) \\big]\\\\\n",
    "=&E\\big[\\sum_j e^{-r(T_j-T)+\\lambda^\\gamma(T_{j-1}^\\gamma-T^\\gamma)}\\times\\big(C_j+(1-e^{\\lambda^\\gamma(T_{j}^\\gamma-T_{j-1}^\\gamma)}))B_j) \\big) \\big]\\\\\n",
    "\\end{split}\n",
    "$$\n",
    "\n",
    "where E is the expected value under the risk neutral measure, and $Z(T,T_j)$ denotes the discount factor, $B_j$ denotes the outstanding balance ."
   ]
  },
  {
   "cell_type": "markdown",
   "metadata": {},
   "source": [
    "### Problem II\n",
    "\n",
    "(i)\n",
    "\n",
    "As in Problem I, the prepayment behavior does not show the characteristics :\n",
    "* The  intersity $\\lambda (t) $ should depend exogenously on the mortgage rate curve and increases as the mortgage rate M goes down, vice versa. \n",
    "* $\\lambda (t) $ clearly does not have finite saturation levels. "
   ]
  },
  {
   "cell_type": "markdown",
   "metadata": {},
   "source": [
    "(ii)\n",
    "$$\n",
    "\\begin{eqnarray*}\n",
    "S(0,t) &=&exp(-\\int_0^t\\lambda(s)ds) \\\\ &=& exp(-\\int_0^t \\frac{\\lambda \\gamma (\\lambda t)^{\\gamma-1}}{1+(\\lambda t)^\\gamma}ds) \\\\\n",
    "&=& exp(- ln(1+(\\lambda t)^ \\gamma))\\\\\n",
    "&=& \\frac{1}{1+(\\lambda t)^\\gamma}\n",
    "\\end{eqnarray*}\n",
    "$$\n",
    "\n",
    "$$\n",
    "\\begin{eqnarray*}\n",
    "S(u,t) &=&exp(-\\int_u^t\\lambda(s)ds) \\\\ &=& exp(-\\int_u^t \\frac{\\lambda \\gamma (\\lambda t)^{\\gamma-1}}{1+(\\lambda t)^\\gamma}ds) \\\\\n",
    "&=& \\frac{1+(\\lambda u)^\\gamma}{1+(\\lambda t)^\\gamma}\n",
    "\\end{eqnarray*}\n",
    "$$\n",
    "\n"
   ]
  },
  {
   "cell_type": "markdown",
   "metadata": {},
   "source": [
    "(iii)\n",
    "\n",
    "$$\n",
    "\\begin{split}\n",
    "P(T)=&E\\big[\\sum_j Z(T,T_j)\\times\\big(S(T,T_{j-1})C_j+(S(T,T_{j-1})-S(T,T_j))B_j) \\big) \\big]\\\\\n",
    "=&E\\big[\\sum_j e^{-r(T_j-T)}\\times\\big( \\frac{1+(\\lambda T_{j-1})^\\gamma}{1+(\\lambda T)^\\gamma}C_j+(\\frac{1+(\\lambda T_{j-1})^\\gamma}{1+(\\lambda T)^\\gamma}-\\frac{1+(\\lambda T_{j})^\\gamma}{1+(\\lambda T)^\\gamma})B_j) \\big) \\big]\\\\\n",
    "\\end{split}\n",
    "$$\n",
    "\n"
   ]
  },
  {
   "cell_type": "markdown",
   "metadata": {},
   "source": [
    "(iv)\n",
    "\n",
    "I would choose Model2 since in Model1, the willingness of prepayment is monotonous of t, this is inconsistent with the reality. However in second model, borrowers are more likely to prepay during the middle of the mortgage. \n"
   ]
  },
  {
   "cell_type": "code",
   "execution_count": null,
   "metadata": {},
   "outputs": [],
   "source": []
  }
 ],
 "metadata": {
  "author": "mes",
  "kernelspec": {
   "display_name": "Python 3",
   "language": "python",
   "name": "python3"
  },
  "language_info": {
   "codemirror_mode": {
    "name": "ipython",
    "version": 3
   },
   "file_extension": ".py",
   "mimetype": "text/x-python",
   "name": "python",
   "nbconvert_exporter": "python",
   "pygments_lexer": "ipython3",
   "version": "3.6.5"
  },
  "latex_envs": {
   "LaTeX_envs_menu_present": true,
   "autoclose": true,
   "autocomplete": true,
   "bibliofile": "biblio.bib",
   "cite_by": "apalike",
   "current_citInitial": 1,
   "eqLabelWithNumbers": false,
   "eqNumInitial": 1,
   "hotkeys": {
    "equation": "Ctrl-E",
    "itemize": "Ctrl-I"
   },
   "labels_anchors": false,
   "latex_user_defs": false,
   "report_style_numbering": false,
   "user_envs_cfg": false
  },
  "toc": {
   "base_numbering": 1,
   "nav_menu": {},
   "number_sections": true,
   "sideBar": true,
   "skip_h1_title": false,
   "title_cell": "Table of Contents",
   "title_sidebar": "Contents",
   "toc_cell": false,
   "toc_position": {},
   "toc_section_display": true,
   "toc_window_display": false
  },
  "varInspector": {
   "cols": {
    "lenName": 16,
    "lenType": 16,
    "lenVar": 40
   },
   "kernels_config": {
    "python": {
     "delete_cmd_postfix": "",
     "delete_cmd_prefix": "del ",
     "library": "var_list.py",
     "varRefreshCmd": "print(var_dic_list())"
    },
    "r": {
     "delete_cmd_postfix": ") ",
     "delete_cmd_prefix": "rm(",
     "library": "var_list.r",
     "varRefreshCmd": "cat(var_dic_list()) "
    }
   },
   "types_to_exclude": [
    "module",
    "function",
    "builtin_function_or_method",
    "instance",
    "_Feature"
   ],
   "window_display": false
  }
 },
 "nbformat": 4,
 "nbformat_minor": 2
}
