{
 "cells": [
  {
   "cell_type": "markdown",
   "metadata": {},
   "source": [
    "### Q4\n",
    "\n",
    "(i)\n",
    "\n",
    "Let $x_i$ be the one day loss. By the definition of Var, $\\Pr(x_i>VaR)=0.01 $. Let B be the number of total breaches within one year(250 days).\n",
    "\n",
    "$$\n",
    "\\Pr(B=k)={250 \\choose k} 0.01^k 0.99^{(250-k)}\n",
    "$$\n",
    "\n",
    "where $k=1,2,\\dots,250$\n",
    "\n",
    "The expectation of this binomial distribution is $np$.\n",
    "\n",
    "Therefore\n",
    "\n",
    "$$\n",
    "E[B]=250\\times 0.01=2.5\n",
    "$$"
   ]
  },
  {
   "cell_type": "markdown",
   "metadata": {},
   "source": [
    "(ii)"
   ]
  },
  {
   "cell_type": "code",
   "execution_count": 1,
   "metadata": {},
   "outputs": [],
   "source": [
    "from scipy.special import comb\n",
    "def prob(k):\n",
    "    return comb(250,k)*0.01**k*0.99**(250-k)"
   ]
  },
  {
   "cell_type": "code",
   "execution_count": 2,
   "metadata": {},
   "outputs": [
    {
     "name": "stdout",
     "output_type": "stream",
     "text": [
      "k =  0 , probability is  0.08105851616218128\n",
      "k =  1 , probability is  0.2046932226317709\n",
      "k =  2 , probability is  0.2574172345217725\n",
      "k =  3 , probability is  0.21494772444915689\n",
      "k =  4 , probability is  0.13407092913874177\n",
      "k =  5 , probability is  0.06662918902652622\n",
      "k =  6 , probability is  0.027481736214644652\n",
      "k =  7 , probability is  0.00967610914339581\n",
      "k =  8 , probability is  0.002968806214450987\n",
      "k =  9 , probability is  0.0008063424286163176\n",
      "k =  10 , probability is  0.00019629143969346715\n"
     ]
    }
   ],
   "source": [
    "for i in range(11):\n",
    "    print(\"k = \",i,\", probability is \",prob(i))"
   ]
  },
  {
   "cell_type": "markdown",
   "metadata": {},
   "source": [
    "(iii)\n",
    "\n",
    "If this VaR model does **not** work properly with the confidence level of 95%, then the probability that number of breaches greater or equal than 4 should less than 5%."
   ]
  },
  {
   "cell_type": "code",
   "execution_count": 6,
   "metadata": {},
   "outputs": [
    {
     "name": "stdout",
     "output_type": "stream",
     "text": [
      "probability that number of breaches greater or equal than 4 is 0.24188330223511845\n"
     ]
    }
   ],
   "source": [
    "s=0\n",
    "for i in range(4):\n",
    "    s+=prob(i)\n",
    "print(\"probability that number of breaches greater or equal than 4 is\",1-s)"
   ]
  },
  {
   "cell_type": "markdown",
   "metadata": {},
   "source": [
    "Hence we cannot reject the hypothesis, at the confidence level of 95%, the hypothesis that the VaR model is working\n",
    "properly"
   ]
  }
 ],
 "metadata": {
  "kernelspec": {
   "display_name": "Python 3",
   "language": "python",
   "name": "python3"
  },
  "language_info": {
   "codemirror_mode": {
    "name": "ipython",
    "version": 3
   },
   "file_extension": ".py",
   "mimetype": "text/x-python",
   "name": "python",
   "nbconvert_exporter": "python",
   "pygments_lexer": "ipython3",
   "version": "3.7.2"
  }
 },
 "nbformat": 4,
 "nbformat_minor": 2
}
