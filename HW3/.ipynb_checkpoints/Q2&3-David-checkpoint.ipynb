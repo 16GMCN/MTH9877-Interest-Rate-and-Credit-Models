{
 "cells": [
  {
   "cell_type": "markdown",
   "metadata": {},
   "source": [
    "### Q2"
   ]
  },
  {
   "cell_type": "markdown",
   "metadata": {},
   "source": [
    "#### (i)\n",
    "\n",
    "For this part, let's just consider a call option.\n",
    "\n",
    "From the lecture note, we have\n",
    "\n",
    "- Normal Model (formula (23), (24) in lecture note):\n",
    "\n",
    "$$\n",
    "\\begin{aligned}\n",
    "&P_n^{call}=\\mathcal{N}(0)\\sigma_n\\sqrt{T}(d_{1+}N(d_{1+})+N'(d_{1+}))\\\\\n",
    "&\\text{where }d_{1+}=\\pm\\frac{F_0-K}{\\sigma_n\\sqrt{T}}\n",
    "\\end{aligned}\n",
    "$$\n",
    "\n",
    "- Non-shifted Lognormal Model (let $\\sigma_0=0,\\sigma_1\\equiv\\sigma_{ln}$ in formula (28), (29) in lecture note):\n",
    "\n",
    "$$\n",
    "\\begin{aligned}\n",
    "&P_{ln}^{call}=\\mathcal{N}(0)[F_0N(d_{2+})-KN(d_{2-})]\\\\\n",
    "&\\text{where }d_{2\\pm}=\\frac{ln(\\frac{F_0}K)\\pm\\frac12\\sigma_{ln}^2T}{\\sigma_{ln}\\sqrt{T}}\n",
    "\\end{aligned}\n",
    "$$"
   ]
  },
  {
   "cell_type": "markdown",
   "metadata": {},
   "source": [
    "For ATM call, $F_0=K$. So the equations above are simplified to\n",
    "\n",
    "$$\n",
    "\\begin{aligned}\n",
    "&d_{1\\pm}=0\\\\\n",
    "&d_{2\\pm}=\\pm\\frac12\\sigma_{ln}\\sqrt{T}\n",
    "\\end{aligned}\n",
    "$$"
   ]
  },
  {
   "cell_type": "markdown",
   "metadata": {},
   "source": [
    "Now let $P_n^{call,ATM}=P_{ln}^{call,ATM}$.\n",
    "\n",
    "We have\n",
    "\n",
    "$$\n",
    "\\begin{aligned}\n",
    "&\\mathcal{N}(0)\\sigma_n\\sqrt{\\frac T{2\\pi}}=\\mathcal{N}(0)F_0\\int_{-\\frac12\\sigma_{ln}\\sqrt{T}}^{\\frac12\\sigma_{ln}\\sqrt{T}}\\frac1{\\sqrt{2\\pi}}e^{-\\frac12x^2}dx\\\\\n",
    "\\Rightarrow\\ &\\sigma_n=\\frac{F_0}{\\sqrt{T}}\\int_{-\\frac12\\sigma_{ln}\\sqrt{T}}^{\\frac12\\sigma_{ln}\\sqrt{T}}e^{-\\frac12x^2}dx\\\\\n",
    "\\Rightarrow\\ &\\sigma_n=\\sqrt{\\frac{2\\pi}T}F_0\\int_{t=0}^{t=\\frac{\\sqrt{T}}{2\\sqrt{2}}\\sigma_{ln}}\\sqrt{\\frac2\\pi}e^{-t^2}\\sqrt{2}dt\\ \\text{($t\\equiv\\frac x{\\sqrt{2}}$)}\\\\\n",
    "\\Rightarrow\\ &\\sigma_n=\\sqrt{\\frac{2\\pi}T}F_0\\ \\text{erf}(\\frac{\\sqrt{T}}{2\\sqrt{2}}\\sigma_{ln})\n",
    "\\end{aligned}\n",
    "$$"
   ]
  },
  {
   "cell_type": "markdown",
   "metadata": {},
   "source": [
    "#### (ii)"
   ]
  },
  {
   "cell_type": "markdown",
   "metadata": {},
   "source": [
    "From part (i), we know that\n",
    "\n",
    "$$\n",
    "\\sigma_n=\\sqrt{\\frac8T}F_0\\int_0^{\\sqrt{\\frac T8}\\sigma_{ln}}e^{-u^2}du\n",
    "$$\n",
    "\n",
    "We also know from Taylor's expansion that when $u$ is close to 0,\n",
    "\n",
    "$$\n",
    "e^{-u^2}=1-u^2+\\frac{u^4}2-...\n",
    "$$"
   ]
  },
  {
   "cell_type": "markdown",
   "metadata": {},
   "source": [
    "Plugging this series into the integral, we have\n",
    "\n",
    "$$\n",
    "\\begin{aligned}\n",
    "\\int_0^{\\sqrt{\\frac T8}\\sigma_{ln}}e^{-u^2}du&\\approx\\int_0^{\\sqrt{\\frac T8}\\sigma_{ln}}(1-u^2+\\frac{u^4}2)du\\\\\n",
    "&=\\sqrt{\\frac T8}\\sigma_{ln}[1-\\frac{(\\sqrt{\\frac T8}\\sigma_{ln})^2}3+\\frac1{10}(\\sqrt{\\frac T8}\\sigma_{ln})^4]\\\\\n",
    "\\end{aligned}\n",
    "$$\n",
    "\n",
    "So we finally have\n",
    "\n",
    "$$\n",
    "\\sigma_n\\approx F_0\\sigma_{ln}[1-\\frac1{24}(T\\sigma_{ln}^2)+\\frac1{640}(T\\sigma_{ln}^2)^2]\n",
    "$$"
   ]
  },
  {
   "cell_type": "markdown",
   "metadata": {},
   "source": [
    "### Q3"
   ]
  },
  {
   "cell_type": "markdown",
   "metadata": {},
   "source": [
    "#### Normal SABR Model $(\\beta=0,\\ \\rho=0)$"
   ]
  },
  {
   "cell_type": "markdown",
   "metadata": {},
   "source": [
    "We already know that\n",
    "\n",
    "$$\n",
    "\\begin{aligned}\n",
    "&\\sigma_n\\approx\\alpha\\ \\frac{F_0-K}{D(\\xi)}\\\\\n",
    "&\\text{where }D(\\xi)=ln(\\frac{\\sqrt{1-2\\rho\\xi+\\xi^2}+\\xi-\\rho}{1-\\rho})\\\\\n",
    "&\\text{and }\\xi=\\frac\\alpha{\\sigma_0}(F_0-K)\n",
    "\\end{aligned}\n",
    "$$"
   ]
  },
  {
   "cell_type": "markdown",
   "metadata": {},
   "source": [
    "In order to use L'Hopital's rule, we need to express $\\sigma_n$ as a function od $\\xi$. Indeed, with a little calculation, we can show that\n",
    "\n",
    "$$\n",
    "\\sigma_n=\\sigma_0\\frac\\xi{D(\\xi)}\n",
    "$$\n",
    "\n",
    "So using L'Hopital's rule, we have\n",
    "\n",
    "$$\n",
    "\\begin{aligned}\n",
    "\\lim_{F_0\\rightarrow K}\\sigma_n&=\\lim_{\\xi\\rightarrow0}\\sigma_n\\\\\n",
    "&=\\sigma_0\\frac1{\\frac{dD(\\xi)}{d\\xi}}\\\\\n",
    "&=\\lim_{\\xi\\rightarrow0}\\sigma_0\\cdot\\frac{\\sqrt{1-2\\rho\\xi+\\xi^2}+\\xi-\\rho}{1+\\frac{2\\xi-2\\rho}{2\\sqrt{1-2\\rho\\xi+\\xi^2}}}\\\\\n",
    "&=\\sigma_0\n",
    "\\end{aligned}\n",
    "$$"
   ]
  },
  {
   "cell_type": "markdown",
   "metadata": {},
   "source": [
    "#### Lognormal SABR Model"
   ]
  },
  {
   "cell_type": "markdown",
   "metadata": {},
   "source": [
    "Now we have\n",
    "\n",
    "$$\n",
    "\\begin{aligned}\n",
    "\\sigma_{ln}&\\approx\\alpha\\cdot\\frac{ln(\\frac{F_0}K)}{D(\\xi)}\\\\\n",
    "&=\\alpha\\cdot\\frac{ln(\\frac{F_0-K}K+1)}{D(\\xi)}\\\\\n",
    "&\\approx\\frac\\alpha K\\frac{F_0-K}{D(\\xi)}\\ \\text{(Taylor expansion)}\\\\\n",
    "&=\\frac{\\sigma_0\\xi}{KD(\\xi)}\\ \\text{(expression of $\\xi$)}\\\\\n",
    "&=\\frac{\\sigma_n}K\n",
    "\\end{aligned}\n",
    "$$\n",
    "\n",
    "So\n",
    "\n",
    "$$\n",
    "\\lim_{F_0\\rightarrow K}\\sigma_{ln}=\\lim_{\\xi\\rightarrow0}\\sigma_{ln}=\\lim_{\\xi\\rightarrow0}\\frac{\\sigma_{n}}K=\\frac{\\sigma_0}K\n",
    "$$"
   ]
  },
  {
   "cell_type": "code",
   "execution_count": null,
   "metadata": {},
   "outputs": [],
   "source": []
  }
 ],
 "metadata": {
  "kernelspec": {
   "display_name": "Python 3",
   "language": "python",
   "name": "python3"
  },
  "language_info": {
   "codemirror_mode": {
    "name": "ipython",
    "version": 3
   },
   "file_extension": ".py",
   "mimetype": "text/x-python",
   "name": "python",
   "nbconvert_exporter": "python",
   "pygments_lexer": "ipython3",
   "version": "3.7.2"
  }
 },
 "nbformat": 4,
 "nbformat_minor": 2
}
