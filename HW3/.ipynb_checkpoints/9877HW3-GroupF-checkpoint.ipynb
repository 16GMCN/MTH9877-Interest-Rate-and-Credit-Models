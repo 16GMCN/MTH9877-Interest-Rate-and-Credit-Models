{
 "cells": [
  {
   "cell_type": "markdown",
   "metadata": {},
   "source": [
    "# Group F\n",
    "* Shenyi Mao\n",
    "* Chenyu Zhao\n",
    "* Zichao Wang\n",
    "* Mingxiang Jia"
   ]
  },
  {
   "cell_type": "markdown",
   "metadata": {},
   "source": [
    "### Q1\n",
    "$\\textit{proof}$: A receiver swaption gives the owner of the swaption the right to enter into a swap in which they will receive the fixed leg, and pay the floating leg. Thus, the value of a receiver swaption at $T_0$ is\n",
    "$$V(T_0, T_0, T) = [KA(T_0, T_0, T_0, T)-\\sum_{1\\leq j\\leq n_f}\\delta_j L_jP(T_0, T_0, T_j^f)]^+,$$\n",
    "where $V(t, T_0, T)$ denotes the time $t$ value of a swaption that settles at $T_0$ and matures at $T$, and $A(t,T_{val}, T_0, T) = \\sum_{1\\leq j\\leq n_c}\\alpha_j P(t, T_{val}, T_j^c)$ is the forward annuity function.\n",
    "\n",
    "Taking the annunity function of the underlying swap as a numeraire, we get\n",
    "$$\\frac{V(T_0, T_0, T)}{A(T_0, T_0, T_0, T)} = [K-\\frac{\\sum_{1\\leq j\\leq n_f}\\delta_j L_jP(T_0, T_0, T_j^f)}{A(T_0, T_0, T_0, T)}]^+,$$\n",
    "\n",
    "Recalling that the forward swap rate is given by\n",
    "$S(t,T_0, T) = \\frac{\\sum_{1 j \\leq n_f}\\delta_j L_j P(t,T_{val}, T_j^f)}{A(t,T_{val}, T_0, T)}$, then\n",
    "$$\\frac{V(T_0, T_0, T)}{A(T_0, T_0, T_0, T)} = [K-S(T_0, T_0, T)]^+$$\n",
    "\n",
    "Suppose the market is arbitrage-free and complete, then according to the second fundamental theorem of arbitrage-free pricing, the value process of the receiver swaption, expressed in the units of the annuity function, is a martingale under the swap measure $Q^{T_0, T}$. Hence\n",
    "$$\\frac{V(0, T_0, T)}{A(0, 0, T_0, T)} = \\mathbb{E}^{Q^{T_0, T}}\\left[\\frac{V(T_0, T_0, T)}{A(T_0, T_0, T_0, T)}\\right]=\\mathbb{E}^{Q^{T_0, T}}[(K-S(T_0, T_0, T))^+],$$\n",
    "which concludes the proof."
   ]
  },
  {
   "cell_type": "markdown",
   "metadata": {},
   "source": [
    "### Q2"
   ]
  },
  {
   "cell_type": "markdown",
   "metadata": {},
   "source": [
    "#### (i)\n",
    "\n",
    "For this part, let's just consider a call option.\n",
    "\n",
    "From the lecture note, we have\n",
    "\n",
    "- Normal Model (formula (23), (24) in lecture note):\n",
    "\n",
    "$$\n",
    "\\begin{aligned}\n",
    "&P_n^{call}=\\mathcal{N}(0)\\sigma_n\\sqrt{T}(d_{1+}N(d_{1+})+N'(d_{1+}))\\\\\n",
    "&\\text{where }d_{1+}=\\pm\\frac{F_0-K}{\\sigma_n\\sqrt{T}}\n",
    "\\end{aligned}\n",
    "$$\n",
    "\n",
    "- Non-shifted Lognormal Model (let $\\sigma_0=0,\\sigma_1\\equiv\\sigma_{ln}$ in formula (28), (29) in lecture note):\n",
    "\n",
    "$$\n",
    "\\begin{aligned}\n",
    "&P_{ln}^{call}=\\mathcal{N}(0)[F_0N(d_{2+})-KN(d_{2-})]\\\\\n",
    "&\\text{where }d_{2\\pm}=\\frac{ln(\\frac{F_0}K)\\pm\\frac12\\sigma_{ln}^2T}{\\sigma_{ln}\\sqrt{T}}\n",
    "\\end{aligned}\n",
    "$$"
   ]
  },
  {
   "cell_type": "markdown",
   "metadata": {},
   "source": [
    "For ATM call, $F_0=K$. So the equations above are simplified to\n",
    "\n",
    "$$\n",
    "\\begin{aligned}\n",
    "&d_{1\\pm}=0\\\\\n",
    "&d_{2\\pm}=\\pm\\frac12\\sigma_{ln}\\sqrt{T}\n",
    "\\end{aligned}\n",
    "$$"
   ]
  },
  {
   "cell_type": "markdown",
   "metadata": {},
   "source": [
    "Now let $P_n^{call,ATM}=P_{ln}^{call,ATM}$.\n",
    "\n",
    "We have\n",
    "\n",
    "$$\n",
    "\\begin{aligned}\n",
    "&\\mathcal{N}(0)\\sigma_n\\sqrt{\\frac T{2\\pi}}=\\mathcal{N}(0)F_0\\int_{-\\frac12\\sigma_{ln}\\sqrt{T}}^{\\frac12\\sigma_{ln}\\sqrt{T}}\\frac1{\\sqrt{2\\pi}}e^{-\\frac12x^2}dx\\\\\n",
    "\\Rightarrow\\ &\\sigma_n=\\frac{F_0}{\\sqrt{T}}\\int_{-\\frac12\\sigma_{ln}\\sqrt{T}}^{\\frac12\\sigma_{ln}\\sqrt{T}}e^{-\\frac12x^2}dx\\\\\n",
    "\\Rightarrow\\ &\\sigma_n=\\sqrt{\\frac{2\\pi}T}F_0\\int_{t=0}^{t=\\frac{\\sqrt{T}}{2\\sqrt{2}}\\sigma_{ln}}\\sqrt{\\frac2\\pi}e^{-t^2}\\sqrt{2}dt\\ \\text{($t\\equiv\\frac x{\\sqrt{2}}$)}\\\\\n",
    "\\Rightarrow\\ &\\sigma_n=\\sqrt{\\frac{2\\pi}T}F_0\\ \\text{erf}(\\frac{\\sqrt{T}}{2\\sqrt{2}}\\sigma_{ln})\n",
    "\\end{aligned}\n",
    "$$"
   ]
  },
  {
   "cell_type": "markdown",
   "metadata": {},
   "source": [
    "#### (ii)"
   ]
  },
  {
   "cell_type": "markdown",
   "metadata": {},
   "source": [
    "From part (i), we know that\n",
    "\n",
    "$$\n",
    "\\sigma_n=\\sqrt{\\frac8T}F_0\\int_0^{\\sqrt{\\frac T8}\\sigma_{ln}}e^{-u^2}du\n",
    "$$\n",
    "\n",
    "We also know from Taylor's expansion that when $u$ is close to 0,\n",
    "\n",
    "$$\n",
    "e^{-u^2}=1-u^2+\\frac{u^4}2-...\n",
    "$$"
   ]
  },
  {
   "cell_type": "markdown",
   "metadata": {},
   "source": [
    "Plugging this series into the integral, we have\n",
    "\n",
    "$$\n",
    "\\begin{aligned}\n",
    "\\int_0^{\\sqrt{\\frac T8}\\sigma_{ln}}e^{-u^2}du&\\approx\\int_0^{\\sqrt{\\frac T8}\\sigma_{ln}}(1-u^2+\\frac{u^4}2)du\\\\\n",
    "&=\\sqrt{\\frac T8}\\sigma_{ln}[1-\\frac{(\\sqrt{\\frac T8}\\sigma_{ln})^2}3+\\frac1{10}(\\sqrt{\\frac T8}\\sigma_{ln})^4]\\\\\n",
    "\\end{aligned}\n",
    "$$\n",
    "\n",
    "So we finally have\n",
    "\n",
    "$$\n",
    "\\sigma_n\\approx F_0\\sigma_{ln}[1-\\frac1{24}(T\\sigma_{ln}^2)+\\frac1{640}(T\\sigma_{ln}^2)^2]\n",
    "$$"
   ]
  },
  {
   "cell_type": "markdown",
   "metadata": {},
   "source": [
    "### Q3"
   ]
  },
  {
   "cell_type": "markdown",
   "metadata": {},
   "source": [
    "#### Normal SABR Model $(\\beta=0,\\ \\rho=0)$"
   ]
  },
  {
   "cell_type": "markdown",
   "metadata": {},
   "source": [
    "We already know that\n",
    "\n",
    "$$\n",
    "\\begin{aligned}\n",
    "&\\sigma_n\\approx\\alpha\\ \\frac{F_0-K}{D(\\xi)}\\\\\n",
    "&\\text{where }D(\\xi)=ln(\\frac{\\sqrt{1-2\\rho\\xi+\\xi^2}+\\xi-\\rho}{1-\\rho})\\\\\n",
    "&\\text{and }\\xi=\\frac\\alpha{\\sigma_0}(F_0-K)\n",
    "\\end{aligned}\n",
    "$$"
   ]
  },
  {
   "cell_type": "markdown",
   "metadata": {},
   "source": [
    "In order to use L'Hopital's rule, we need to express $\\sigma_n$ as a function od $\\xi$. Indeed, with a little calculation, we can show that\n",
    "\n",
    "$$\n",
    "\\sigma_n=\\sigma_0\\frac\\xi{D(\\xi)}\n",
    "$$\n",
    "\n",
    "So using L'Hopital's rule, we have\n",
    "\n",
    "$$\n",
    "\\begin{aligned}\n",
    "\\lim_{F_0\\rightarrow K}\\sigma_n&=\\lim_{\\xi\\rightarrow0}\\sigma_n\\\\\n",
    "&=\\sigma_0\\frac1{\\frac{dD(\\xi)}{d\\xi}}\\\\\n",
    "&=\\lim_{\\xi\\rightarrow0}\\sigma_0\\cdot\\frac{\\sqrt{1-2\\rho\\xi+\\xi^2}+\\xi-\\rho}{1+\\frac{2\\xi-2\\rho}{2\\sqrt{1-2\\rho\\xi+\\xi^2}}}\\\\\n",
    "&=\\sigma_0\n",
    "\\end{aligned}\n",
    "$$"
   ]
  },
  {
   "cell_type": "markdown",
   "metadata": {},
   "source": [
    "#### Lognormal SABR Model"
   ]
  },
  {
   "cell_type": "markdown",
   "metadata": {},
   "source": [
    "Now we have\n",
    "\n",
    "$$\n",
    "\\begin{aligned}\n",
    "\\sigma_{ln}&\\approx\\alpha\\cdot\\frac{ln(\\frac{F_0}K)}{D(\\xi)}\\\\\n",
    "&=\\alpha\\cdot\\frac{ln(\\frac{F_0-K}K+1)}{D(\\xi)}\\\\\n",
    "&\\approx\\frac\\alpha K\\frac{F_0-K}{D(\\xi)}\\ \\text{(Taylor expansion)}\\\\\n",
    "&=\\frac{\\sigma_0\\xi}{KD(\\xi)}\\ \\text{(expression of $\\xi$)}\\\\\n",
    "&=\\frac{\\sigma_n}K\n",
    "\\end{aligned}\n",
    "$$\n",
    "\n",
    "So\n",
    "\n",
    "$$\n",
    "\\lim_{F_0\\rightarrow K}\\sigma_{ln}=\\lim_{\\xi\\rightarrow0}\\sigma_{ln}=\\lim_{\\xi\\rightarrow0}\\frac{\\sigma_{n}}K=\\frac{\\sigma_0}K\n",
    "$$"
   ]
  },
  {
   "cell_type": "markdown",
   "metadata": {},
   "source": [
    "### Q4"
   ]
  },
  {
   "cell_type": "markdown",
   "metadata": {},
   "source": [
    "#### i.  Implement normal and lognormal option models"
   ]
  },
  {
   "cell_type": "code",
   "execution_count": 1,
   "metadata": {},
   "outputs": [],
   "source": [
    "from scipy.stats import norm\n",
    "import math\n",
    "from lmfit import Model\n",
    "import numpy as np\n",
    "from scipy.optimize import curve_fit\n",
    "# normal models according to the lecture notes \n",
    "def B_n(T,K,F0,sig, Type):\n",
    "    if Type =='C':\n",
    "        d =(F0-k)/sig/(T**0.5)\n",
    "        return  sig* (T**0.5) * (d*norm.cdf(d)+norm.pdf(d))\n",
    "    else:\n",
    "        d =-(F0-k)/sig/(T**0.5)\n",
    "        return  sig* (T**0.5) * (d*norm.cdf(d)+norm.pdf(d))\n",
    "        \n",
    "def Normal(N0, T, K, F0, sig, Type):\n",
    "    return N0 * B_sln(T,K,F0,sig,Type)\n",
    "\n",
    "# shifted log normal models according to the lecture notes \n",
    "def LogNormal(N0,T,K,F0,sig0, sig1, Type):\n",
    "    return N0 * B_sln(T,K,F0, sig0, sig1 ,Type)\n",
    "\n",
    "def B_sln(T,K,F0, sig0, sig1 ,Type):\n",
    "    d_plus=(0.5*T*sig1*sig1+math.log((sig0+sig1*F0)/(sig0+sig1*K)))/sig1/(T**0.5)\n",
    "    d_minus = (-0.5*T*sig1*sig1+math.log((sig0+sig1*F0)/(sig0+sig1*K)))/sig1/(T**0.5)\n",
    "    if Type =='C':\n",
    "        return  (F0+sig0/sig1)*norm.cdf(d_plus) -  (K+sig0/sig1)*norm.cdf(d_minus)\n",
    "    else:\n",
    "        return  -(F0+sig0/sig1)*norm.cdf(-d_plus) + (K+sig0/sig1)*norm.cdf(-d_minus)\n",
    "\n",
    "\n",
    "\n",
    "    "
   ]
  },
  {
   "cell_type": "markdown",
   "metadata": {},
   "source": [
    "#### ii. Implement the SABR implied normal and lognormal volatility functions."
   ]
  },
  {
   "cell_type": "code",
   "execution_count": 2,
   "metadata": {},
   "outputs": [],
   "source": [
    "def C(F, beta):\n",
    "    return F**beta\n",
    "\n",
    "def D(ksi,rho):\n",
    "    #print(math.log((ksi-rho+math.sqrt(1-2*rho*ksi+ksi**2))/(1-rho)))\n",
    "    try:\n",
    "        return math.log((ksi-rho+math.sqrt(1-2*rho*ksi+ksi**2))/(1-rho))\n",
    "    except:\n",
    "        print(ksi, rho)\n",
    "        \n",
    "def sig_n(T, K, F0, sig0, alpha, beta, rho):\n",
    "    if K == F0:\n",
    "        return  sig0*K**beta\n",
    "    \n",
    "    epsilon = T * alpha *alpha\n",
    "    ksi = alpha / sig0 / (1-beta)*(F0**(1-beta)-K**(1-beta))\n",
    "    \n",
    "    Fmid = (F0+K)/2\n",
    "    gamma1 = beta/Fmid\n",
    "    gamma2 = beta*(beta-1)/Fmid/Fmid\n",
    "    \n",
    "    sig = alpha*(F0-K)/D(ksi,rho)*(1+epsilon*((2-3*rho*rho)/24+rho*gamma1/4*sig0*C(Fmid, beta)/alpha + (2*gamma2-gamma1**2)/24*(sig0*C(Fmid,beta)/alpha)**2))\n",
    "    return sig\n",
    "\n",
    "def sig_ln(T, K, F0, sig0, alpha, beta, rho):\n",
    "    if K==F0:\n",
    "        return sig0*K**(beta-1)\n",
    "    epsilon = T * alpha *alpha\n",
    "    ksi = alpha / sig0 / (1-beta)*(F0**(1-beta)-K**(1-beta))\n",
    "    Fmid = (F0+K)/2\n",
    "    gamma1 = beta/Fmid\n",
    "    gamma2 = beta*(beta-1)/Fmid/Fmid\n",
    "    sig = alpha*math.log(F0/K)/D(ksi,rho)*(1+epsilon*((2-3*rho*rho)/24+rho*gamma1/4*sig0*C(Fmid, beta)/alpha + (2*gamma2-gamma1**2+1/Fmid/Fmid)/24*(sig0*C(Fmid,beta)/alpha)**2))\n",
    "    return sig\n"
   ]
  },
  {
   "cell_type": "markdown",
   "metadata": {},
   "source": [
    "#### iii. Calibrate the parameters of the SABR model."
   ]
  },
  {
   "cell_type": "code",
   "execution_count": 19,
   "metadata": {},
   "outputs": [
    {
     "ename": "XLRDError",
     "evalue": "No sheet named <'IV'>",
     "output_type": "error",
     "traceback": [
      "\u001b[0;31m---------------------------------------------------------------------------\u001b[0m",
      "\u001b[0;31mValueError\u001b[0m                                Traceback (most recent call last)",
      "\u001b[0;32m~/Documents/anaconda3/lib/python3.7/site-packages/xlrd/book.py\u001b[0m in \u001b[0;36msheet_by_name\u001b[0;34m(self, sheet_name)\u001b[0m\n\u001b[1;32m    469\u001b[0m         \u001b[0;32mtry\u001b[0m\u001b[0;34m:\u001b[0m\u001b[0;34m\u001b[0m\u001b[0;34m\u001b[0m\u001b[0m\n\u001b[0;32m--> 470\u001b[0;31m             \u001b[0msheetx\u001b[0m \u001b[0;34m=\u001b[0m \u001b[0mself\u001b[0m\u001b[0;34m.\u001b[0m\u001b[0m_sheet_names\u001b[0m\u001b[0;34m.\u001b[0m\u001b[0mindex\u001b[0m\u001b[0;34m(\u001b[0m\u001b[0msheet_name\u001b[0m\u001b[0;34m)\u001b[0m\u001b[0;34m\u001b[0m\u001b[0;34m\u001b[0m\u001b[0m\n\u001b[0m\u001b[1;32m    471\u001b[0m         \u001b[0;32mexcept\u001b[0m \u001b[0mValueError\u001b[0m\u001b[0;34m:\u001b[0m\u001b[0;34m\u001b[0m\u001b[0;34m\u001b[0m\u001b[0m\n",
      "\u001b[0;31mValueError\u001b[0m: 'IV' is not in list",
      "\nDuring handling of the above exception, another exception occurred:\n",
      "\u001b[0;31mXLRDError\u001b[0m                                 Traceback (most recent call last)",
      "\u001b[0;32m<ipython-input-19-3f74a16f1e7f>\u001b[0m in \u001b[0;36m<module>\u001b[0;34m()\u001b[0m\n\u001b[1;32m     10\u001b[0m         \u001b[0mlst\u001b[0m\u001b[0;34m.\u001b[0m\u001b[0mappend\u001b[0m\u001b[0;34m(\u001b[0m\u001b[0mF0\u001b[0m\u001b[0;34m[\u001b[0m\u001b[0mi\u001b[0m\u001b[0;34m]\u001b[0m\u001b[0;34m+\u001b[0m\u001b[0mbp_out\u001b[0m\u001b[0;34m[\u001b[0m\u001b[0mj\u001b[0m\u001b[0;34m]\u001b[0m\u001b[0;34m/\u001b[0m\u001b[0;36m10000.0\u001b[0m\u001b[0;34m)\u001b[0m\u001b[0;34m\u001b[0m\u001b[0;34m\u001b[0m\u001b[0m\n\u001b[1;32m     11\u001b[0m     \u001b[0mK\u001b[0m\u001b[0;34m.\u001b[0m\u001b[0mappend\u001b[0m\u001b[0;34m(\u001b[0m\u001b[0mlst\u001b[0m\u001b[0;34m)\u001b[0m\u001b[0;34m\u001b[0m\u001b[0;34m\u001b[0m\u001b[0m\n\u001b[0;32m---> 12\u001b[0;31m \u001b[0mIV\u001b[0m \u001b[0;34m=\u001b[0m \u001b[0mpd\u001b[0m\u001b[0;34m.\u001b[0m\u001b[0mread_excel\u001b[0m\u001b[0;34m(\u001b[0m\u001b[0;34m\"SwaptionVolData.xls\"\u001b[0m\u001b[0;34m,\u001b[0m \u001b[0msheet_name\u001b[0m\u001b[0;34m=\u001b[0m\u001b[0;34m\"IV\"\u001b[0m\u001b[0;34m,\u001b[0m \u001b[0mconvert_float\u001b[0m\u001b[0;34m=\u001b[0m \u001b[0;36m1\u001b[0m\u001b[0;34m,\u001b[0m \u001b[0mheader\u001b[0m\u001b[0;34m=\u001b[0m\u001b[0;32mNone\u001b[0m\u001b[0;34m)\u001b[0m\u001b[0;34m.\u001b[0m\u001b[0mvalues\u001b[0m\u001b[0;34m.\u001b[0m\u001b[0mtolist\u001b[0m\u001b[0;34m(\u001b[0m\u001b[0;34m)\u001b[0m\u001b[0;34m\u001b[0m\u001b[0;34m\u001b[0m\u001b[0m\n\u001b[0m\u001b[1;32m     13\u001b[0m \u001b[0;34m\u001b[0m\u001b[0m\n\u001b[1;32m     14\u001b[0m \u001b[0;31m#initial guess for sig0, alpha, rho\u001b[0m\u001b[0;34m\u001b[0m\u001b[0;34m\u001b[0m\u001b[0;34m\u001b[0m\u001b[0m\n",
      "\u001b[0;32m~/Documents/anaconda3/lib/python3.7/site-packages/pandas/util/_decorators.py\u001b[0m in \u001b[0;36mwrapper\u001b[0;34m(*args, **kwargs)\u001b[0m\n\u001b[1;32m    176\u001b[0m                 \u001b[0;32melse\u001b[0m\u001b[0;34m:\u001b[0m\u001b[0;34m\u001b[0m\u001b[0;34m\u001b[0m\u001b[0m\n\u001b[1;32m    177\u001b[0m                     \u001b[0mkwargs\u001b[0m\u001b[0;34m[\u001b[0m\u001b[0mnew_arg_name\u001b[0m\u001b[0;34m]\u001b[0m \u001b[0;34m=\u001b[0m \u001b[0mnew_arg_value\u001b[0m\u001b[0;34m\u001b[0m\u001b[0;34m\u001b[0m\u001b[0m\n\u001b[0;32m--> 178\u001b[0;31m             \u001b[0;32mreturn\u001b[0m \u001b[0mfunc\u001b[0m\u001b[0;34m(\u001b[0m\u001b[0;34m*\u001b[0m\u001b[0margs\u001b[0m\u001b[0;34m,\u001b[0m \u001b[0;34m**\u001b[0m\u001b[0mkwargs\u001b[0m\u001b[0;34m)\u001b[0m\u001b[0;34m\u001b[0m\u001b[0;34m\u001b[0m\u001b[0m\n\u001b[0m\u001b[1;32m    179\u001b[0m         \u001b[0;32mreturn\u001b[0m \u001b[0mwrapper\u001b[0m\u001b[0;34m\u001b[0m\u001b[0;34m\u001b[0m\u001b[0m\n\u001b[1;32m    180\u001b[0m     \u001b[0;32mreturn\u001b[0m \u001b[0m_deprecate_kwarg\u001b[0m\u001b[0;34m\u001b[0m\u001b[0;34m\u001b[0m\u001b[0m\n",
      "\u001b[0;32m~/Documents/anaconda3/lib/python3.7/site-packages/pandas/util/_decorators.py\u001b[0m in \u001b[0;36mwrapper\u001b[0;34m(*args, **kwargs)\u001b[0m\n\u001b[1;32m    176\u001b[0m                 \u001b[0;32melse\u001b[0m\u001b[0;34m:\u001b[0m\u001b[0;34m\u001b[0m\u001b[0;34m\u001b[0m\u001b[0m\n\u001b[1;32m    177\u001b[0m                     \u001b[0mkwargs\u001b[0m\u001b[0;34m[\u001b[0m\u001b[0mnew_arg_name\u001b[0m\u001b[0;34m]\u001b[0m \u001b[0;34m=\u001b[0m \u001b[0mnew_arg_value\u001b[0m\u001b[0;34m\u001b[0m\u001b[0;34m\u001b[0m\u001b[0m\n\u001b[0;32m--> 178\u001b[0;31m             \u001b[0;32mreturn\u001b[0m \u001b[0mfunc\u001b[0m\u001b[0;34m(\u001b[0m\u001b[0;34m*\u001b[0m\u001b[0margs\u001b[0m\u001b[0;34m,\u001b[0m \u001b[0;34m**\u001b[0m\u001b[0mkwargs\u001b[0m\u001b[0;34m)\u001b[0m\u001b[0;34m\u001b[0m\u001b[0;34m\u001b[0m\u001b[0m\n\u001b[0m\u001b[1;32m    179\u001b[0m         \u001b[0;32mreturn\u001b[0m \u001b[0mwrapper\u001b[0m\u001b[0;34m\u001b[0m\u001b[0;34m\u001b[0m\u001b[0m\n\u001b[1;32m    180\u001b[0m     \u001b[0;32mreturn\u001b[0m \u001b[0m_deprecate_kwarg\u001b[0m\u001b[0;34m\u001b[0m\u001b[0;34m\u001b[0m\u001b[0m\n",
      "\u001b[0;32m~/Documents/anaconda3/lib/python3.7/site-packages/pandas/io/excel.py\u001b[0m in \u001b[0;36mread_excel\u001b[0;34m(io, sheet_name, header, names, index_col, usecols, squeeze, dtype, engine, converters, true_values, false_values, skiprows, nrows, na_values, parse_dates, date_parser, thousands, comment, skipfooter, convert_float, **kwds)\u001b[0m\n\u001b[1;32m    327\u001b[0m         \u001b[0mskipfooter\u001b[0m\u001b[0;34m=\u001b[0m\u001b[0mskipfooter\u001b[0m\u001b[0;34m,\u001b[0m\u001b[0;34m\u001b[0m\u001b[0;34m\u001b[0m\u001b[0m\n\u001b[1;32m    328\u001b[0m         \u001b[0mconvert_float\u001b[0m\u001b[0;34m=\u001b[0m\u001b[0mconvert_float\u001b[0m\u001b[0;34m,\u001b[0m\u001b[0;34m\u001b[0m\u001b[0;34m\u001b[0m\u001b[0m\n\u001b[0;32m--> 329\u001b[0;31m         **kwds)\n\u001b[0m\u001b[1;32m    330\u001b[0m \u001b[0;34m\u001b[0m\u001b[0m\n\u001b[1;32m    331\u001b[0m \u001b[0;34m\u001b[0m\u001b[0m\n",
      "\u001b[0;32m~/Documents/anaconda3/lib/python3.7/site-packages/pandas/io/excel.py\u001b[0m in \u001b[0;36mparse\u001b[0;34m(self, sheet_name, header, names, index_col, usecols, squeeze, converters, true_values, false_values, skiprows, nrows, na_values, parse_dates, date_parser, thousands, comment, skipfooter, convert_float, **kwds)\u001b[0m\n\u001b[1;32m    454\u001b[0m                                  \u001b[0mskipfooter\u001b[0m\u001b[0;34m=\u001b[0m\u001b[0mskipfooter\u001b[0m\u001b[0;34m,\u001b[0m\u001b[0;34m\u001b[0m\u001b[0;34m\u001b[0m\u001b[0m\n\u001b[1;32m    455\u001b[0m                                  \u001b[0mconvert_float\u001b[0m\u001b[0;34m=\u001b[0m\u001b[0mconvert_float\u001b[0m\u001b[0;34m,\u001b[0m\u001b[0;34m\u001b[0m\u001b[0;34m\u001b[0m\u001b[0m\n\u001b[0;32m--> 456\u001b[0;31m                                  **kwds)\n\u001b[0m\u001b[1;32m    457\u001b[0m \u001b[0;34m\u001b[0m\u001b[0m\n\u001b[1;32m    458\u001b[0m     \u001b[0;32mdef\u001b[0m \u001b[0m_should_parse\u001b[0m\u001b[0;34m(\u001b[0m\u001b[0mself\u001b[0m\u001b[0;34m,\u001b[0m \u001b[0mi\u001b[0m\u001b[0;34m,\u001b[0m \u001b[0musecols\u001b[0m\u001b[0;34m)\u001b[0m\u001b[0;34m:\u001b[0m\u001b[0;34m\u001b[0m\u001b[0;34m\u001b[0m\u001b[0m\n",
      "\u001b[0;32m~/Documents/anaconda3/lib/python3.7/site-packages/pandas/io/excel.py\u001b[0m in \u001b[0;36m_parse_excel\u001b[0;34m(self, sheet_name, header, names, index_col, usecols, squeeze, dtype, true_values, false_values, skiprows, nrows, na_values, verbose, parse_dates, date_parser, thousands, comment, skipfooter, convert_float, **kwds)\u001b[0m\n\u001b[1;32m    605\u001b[0m \u001b[0;34m\u001b[0m\u001b[0m\n\u001b[1;32m    606\u001b[0m             \u001b[0;32mif\u001b[0m \u001b[0misinstance\u001b[0m\u001b[0;34m(\u001b[0m\u001b[0masheetname\u001b[0m\u001b[0;34m,\u001b[0m \u001b[0mcompat\u001b[0m\u001b[0;34m.\u001b[0m\u001b[0mstring_types\u001b[0m\u001b[0;34m)\u001b[0m\u001b[0;34m:\u001b[0m\u001b[0;34m\u001b[0m\u001b[0;34m\u001b[0m\u001b[0m\n\u001b[0;32m--> 607\u001b[0;31m                 \u001b[0msheet\u001b[0m \u001b[0;34m=\u001b[0m \u001b[0mself\u001b[0m\u001b[0;34m.\u001b[0m\u001b[0mbook\u001b[0m\u001b[0;34m.\u001b[0m\u001b[0msheet_by_name\u001b[0m\u001b[0;34m(\u001b[0m\u001b[0masheetname\u001b[0m\u001b[0;34m)\u001b[0m\u001b[0;34m\u001b[0m\u001b[0;34m\u001b[0m\u001b[0m\n\u001b[0m\u001b[1;32m    608\u001b[0m             \u001b[0;32melse\u001b[0m\u001b[0;34m:\u001b[0m  \u001b[0;31m# assume an integer if not a string\u001b[0m\u001b[0;34m\u001b[0m\u001b[0;34m\u001b[0m\u001b[0m\n\u001b[1;32m    609\u001b[0m                 \u001b[0msheet\u001b[0m \u001b[0;34m=\u001b[0m \u001b[0mself\u001b[0m\u001b[0;34m.\u001b[0m\u001b[0mbook\u001b[0m\u001b[0;34m.\u001b[0m\u001b[0msheet_by_index\u001b[0m\u001b[0;34m(\u001b[0m\u001b[0masheetname\u001b[0m\u001b[0;34m)\u001b[0m\u001b[0;34m\u001b[0m\u001b[0;34m\u001b[0m\u001b[0m\n",
      "\u001b[0;32m~/Documents/anaconda3/lib/python3.7/site-packages/xlrd/book.py\u001b[0m in \u001b[0;36msheet_by_name\u001b[0;34m(self, sheet_name)\u001b[0m\n\u001b[1;32m    470\u001b[0m             \u001b[0msheetx\u001b[0m \u001b[0;34m=\u001b[0m \u001b[0mself\u001b[0m\u001b[0;34m.\u001b[0m\u001b[0m_sheet_names\u001b[0m\u001b[0;34m.\u001b[0m\u001b[0mindex\u001b[0m\u001b[0;34m(\u001b[0m\u001b[0msheet_name\u001b[0m\u001b[0;34m)\u001b[0m\u001b[0;34m\u001b[0m\u001b[0;34m\u001b[0m\u001b[0m\n\u001b[1;32m    471\u001b[0m         \u001b[0;32mexcept\u001b[0m \u001b[0mValueError\u001b[0m\u001b[0;34m:\u001b[0m\u001b[0;34m\u001b[0m\u001b[0;34m\u001b[0m\u001b[0m\n\u001b[0;32m--> 472\u001b[0;31m             \u001b[0;32mraise\u001b[0m \u001b[0mXLRDError\u001b[0m\u001b[0;34m(\u001b[0m\u001b[0;34m'No sheet named <%r>'\u001b[0m \u001b[0;34m%\u001b[0m \u001b[0msheet_name\u001b[0m\u001b[0;34m)\u001b[0m\u001b[0;34m\u001b[0m\u001b[0;34m\u001b[0m\u001b[0m\n\u001b[0m\u001b[1;32m    473\u001b[0m         \u001b[0;32mreturn\u001b[0m \u001b[0mself\u001b[0m\u001b[0;34m.\u001b[0m\u001b[0msheet_by_index\u001b[0m\u001b[0;34m(\u001b[0m\u001b[0msheetx\u001b[0m\u001b[0;34m)\u001b[0m\u001b[0;34m\u001b[0m\u001b[0;34m\u001b[0m\u001b[0m\n\u001b[1;32m    474\u001b[0m \u001b[0;34m\u001b[0m\u001b[0m\n",
      "\u001b[0;31mXLRDError\u001b[0m: No sheet named <'IV'>"
     ]
    }
   ],
   "source": [
    "#input data \n",
    "import pandas as pd \n",
    "maturity_years = [0.25, 0.5, 1, 2, 3, 5]\n",
    "F0 = [0.0351, 0.03632, 0.03872, 0.04313, 0.04657, 0.0503]\n",
    "bp_out = [-250, -200, -150, -100, -50, -25, 0, 25, 50, 100, 150, 200, 250]\n",
    "K = []\n",
    "for i in range(6):\n",
    "    lst = []\n",
    "    for j in range(13):\n",
    "        lst.append(F0[i]+bp_out[j]/10000.0)\n",
    "    K.append(lst)\n",
    "IV = pd.read_excel(\"SwaptionVolData.xls\", sheet_name=\"IV\", convert_float= 1, header=None).values.tolist()\n",
    "\n",
    "#initial guess for sig0, alpha, rho\n",
    "guess_vals = [0.1, 0.3, 0]\n"
   ]
  },
  {
   "cell_type": "code",
   "execution_count": 5,
   "metadata": {},
   "outputs": [],
   "source": [
    "def lognormal_residual(vals, data, maturity_years,K,F0):\n",
    "    resi = 0\n",
    "    for i in range(len(maturity_years)):\n",
    "        T = maturity_years[i]\n",
    "        f0 = F0[i]\n",
    "        Klst = K[i]\n",
    "        for j in range(len(Klst)):\n",
    "            resi += (sig_ln(T,Klst[j],f0,vals[0],vals[1],0.5,vals[2]) - data[i][j])**2\n",
    "    return resi\n",
    "\n",
    "def normal_residual(vals, data, maturity_years,K,F0):\n",
    "    resi = 0\n",
    "    for i in range(len(maturity_years)):\n",
    "        T = maturity_years[i]\n",
    "        f0 = F0[i]\n",
    "        Klst = K[i]\n",
    "        for j in range(len(Klst)):\n",
    "            resi += (sig_n(T,Klst[j],f0,vals[0],vals[1],0,vals[2]) - data[i][j])**2\n",
    "    return resi"
   ]
  },
  {
   "cell_type": "code",
   "execution_count": 6,
   "metadata": {},
   "outputs": [
    {
     "ename": "NameError",
     "evalue": "name 'minimize' is not defined",
     "output_type": "error",
     "traceback": [
      "\u001b[0;31m---------------------------------------------------------------------------\u001b[0m",
      "\u001b[0;31mNameError\u001b[0m                                 Traceback (most recent call last)",
      "\u001b[0;32m<ipython-input-6-9d60403c6ae1>\u001b[0m in \u001b[0;36m<module>\u001b[0;34m()\u001b[0m\n\u001b[1;32m      1\u001b[0m \u001b[0;31m# for normal SBAR, set beta = 0 and rho = 0, then we converge\u001b[0m\u001b[0;34m\u001b[0m\u001b[0;34m\u001b[0m\u001b[0;34m\u001b[0m\u001b[0m\n\u001b[0;32m----> 2\u001b[0;31m \u001b[0mnormal_fit\u001b[0m  \u001b[0;34m=\u001b[0m \u001b[0mminimize\u001b[0m\u001b[0;34m(\u001b[0m\u001b[0mnormal_residual\u001b[0m\u001b[0;34m,\u001b[0m \u001b[0mguess_vals\u001b[0m\u001b[0;34m,\u001b[0m \u001b[0margs\u001b[0m\u001b[0;34m=\u001b[0m\u001b[0;34m(\u001b[0m\u001b[0mIV\u001b[0m\u001b[0;34m,\u001b[0m \u001b[0mmaturity_years\u001b[0m\u001b[0;34m,\u001b[0m \u001b[0mK\u001b[0m\u001b[0;34m,\u001b[0m\u001b[0mF0\u001b[0m\u001b[0;34m)\u001b[0m\u001b[0;34m,\u001b[0m\u001b[0mmethod\u001b[0m \u001b[0;34m=\u001b[0m\u001b[0;34m'Nelder-Mead'\u001b[0m\u001b[0;34m,\u001b[0m\u001b[0mtol\u001b[0m\u001b[0;34m=\u001b[0m\u001b[0;36m0.000001\u001b[0m\u001b[0;34m)\u001b[0m\u001b[0;34m\u001b[0m\u001b[0;34m\u001b[0m\u001b[0m\n\u001b[0m\u001b[1;32m      3\u001b[0m \u001b[0mprint\u001b[0m \u001b[0;34m(\u001b[0m\u001b[0;34m'Normal SBAR Model: \\n'\u001b[0m\u001b[0;34m,\u001b[0m \u001b[0;34m'Sigma:'\u001b[0m\u001b[0;34m,\u001b[0m \u001b[0mnormal_fit\u001b[0m\u001b[0;34m.\u001b[0m\u001b[0mx\u001b[0m\u001b[0;34m[\u001b[0m\u001b[0;36m0\u001b[0m\u001b[0;34m]\u001b[0m\u001b[0;34m,\u001b[0m \u001b[0;34m'\\n alpha:'\u001b[0m\u001b[0;34m,\u001b[0m \u001b[0mnormal_fit\u001b[0m\u001b[0;34m.\u001b[0m\u001b[0mx\u001b[0m\u001b[0;34m[\u001b[0m\u001b[0;36m1\u001b[0m\u001b[0;34m]\u001b[0m \u001b[0;34m,\u001b[0m \u001b[0;34m'\\n rho:'\u001b[0m\u001b[0;34m,\u001b[0m \u001b[0mnormal_fit\u001b[0m\u001b[0;34m.\u001b[0m\u001b[0mx\u001b[0m\u001b[0;34m[\u001b[0m\u001b[0;36m2\u001b[0m\u001b[0;34m]\u001b[0m\u001b[0;34m)\u001b[0m\u001b[0;34m\u001b[0m\u001b[0;34m\u001b[0m\u001b[0m\n",
      "\u001b[0;31mNameError\u001b[0m: name 'minimize' is not defined"
     ]
    }
   ],
   "source": [
    "# for normal SBAR, set beta = 0 and rho = 0, then we converge \n",
    "normal_fit  = minimize(normal_residual, guess_vals, args=(IV, maturity_years, K,F0),method ='Nelder-Mead',tol=0.000001)\n",
    "print ('Normal SBAR Model: \\n', 'Sigma:', normal_fit.x[0], '\\n alpha:', normal_fit.x[1] , '\\n rho:', normal_fit.x[2])"
   ]
  },
  {
   "cell_type": "code",
   "execution_count": 7,
   "metadata": {},
   "outputs": [
    {
     "ename": "NameError",
     "evalue": "name 'minimize' is not defined",
     "output_type": "error",
     "traceback": [
      "\u001b[0;31m---------------------------------------------------------------------------\u001b[0m",
      "\u001b[0;31mNameError\u001b[0m                                 Traceback (most recent call last)",
      "\u001b[0;32m<ipython-input-7-06da4225101f>\u001b[0m in \u001b[0;36m<module>\u001b[0;34m()\u001b[0m\n\u001b[1;32m      1\u001b[0m \u001b[0;31m# for lognormal SBAR, run the model again, converge\u001b[0m\u001b[0;34m\u001b[0m\u001b[0;34m\u001b[0m\u001b[0;34m\u001b[0m\u001b[0m\n\u001b[0;32m----> 2\u001b[0;31m \u001b[0mlognormal_fit\u001b[0m  \u001b[0;34m=\u001b[0m \u001b[0mminimize\u001b[0m\u001b[0;34m(\u001b[0m\u001b[0mlognormal_residual\u001b[0m\u001b[0;34m,\u001b[0m \u001b[0mguess_vals\u001b[0m\u001b[0;34m,\u001b[0m \u001b[0margs\u001b[0m\u001b[0;34m=\u001b[0m\u001b[0;34m(\u001b[0m\u001b[0mIV\u001b[0m\u001b[0;34m,\u001b[0m \u001b[0mmaturity_years\u001b[0m\u001b[0;34m,\u001b[0m \u001b[0mK\u001b[0m\u001b[0;34m,\u001b[0m\u001b[0mF0\u001b[0m\u001b[0;34m)\u001b[0m\u001b[0;34m,\u001b[0m\u001b[0mmethod\u001b[0m \u001b[0;34m=\u001b[0m\u001b[0;34m'Nelder-Mead'\u001b[0m\u001b[0;34m,\u001b[0m\u001b[0mtol\u001b[0m\u001b[0;34m=\u001b[0m\u001b[0;36m0.000001\u001b[0m\u001b[0;34m)\u001b[0m\u001b[0;34m\u001b[0m\u001b[0;34m\u001b[0m\u001b[0m\n\u001b[0m\u001b[1;32m      3\u001b[0m \u001b[0;34m\u001b[0m\u001b[0m\n\u001b[1;32m      4\u001b[0m \u001b[0mprint\u001b[0m \u001b[0;34m(\u001b[0m\u001b[0;34m'Lognormal SBAR Model: \\n'\u001b[0m\u001b[0;34m,\u001b[0m \u001b[0;34m'Sigma:'\u001b[0m\u001b[0;34m,\u001b[0m \u001b[0mlognormal_fit\u001b[0m\u001b[0;34m.\u001b[0m\u001b[0mx\u001b[0m\u001b[0;34m[\u001b[0m\u001b[0;36m0\u001b[0m\u001b[0;34m]\u001b[0m\u001b[0;34m,\u001b[0m \u001b[0;34m'\\n alpha:'\u001b[0m\u001b[0;34m,\u001b[0m \u001b[0mlognormal_fit\u001b[0m\u001b[0;34m.\u001b[0m\u001b[0mx\u001b[0m\u001b[0;34m[\u001b[0m\u001b[0;36m1\u001b[0m\u001b[0;34m]\u001b[0m \u001b[0;34m,\u001b[0m \u001b[0;34m'\\n rho:'\u001b[0m\u001b[0;34m,\u001b[0m \u001b[0mlognormal_fit\u001b[0m\u001b[0;34m.\u001b[0m\u001b[0mx\u001b[0m\u001b[0;34m[\u001b[0m\u001b[0;36m2\u001b[0m\u001b[0;34m]\u001b[0m\u001b[0;34m)\u001b[0m\u001b[0;34m\u001b[0m\u001b[0;34m\u001b[0m\u001b[0m\n",
      "\u001b[0;31mNameError\u001b[0m: name 'minimize' is not defined"
     ]
    }
   ],
   "source": [
    "# for lognormal SBAR, run the model again, converge \n",
    "lognormal_fit  = minimize(lognormal_residual, guess_vals, args=(IV, maturity_years, K,F0),method ='Nelder-Mead',tol=0.000001)\n",
    "\n",
    "print ('Lognormal SBAR Model: \\n', 'Sigma:', lognormal_fit.x[0], '\\n alpha:', lognormal_fit.x[1] , '\\n rho:', lognormal_fit.x[2])"
   ]
  },
  {
   "cell_type": "markdown",
   "metadata": {},
   "source": [
    "## Q5"
   ]
  },
  {
   "cell_type": "markdown",
   "metadata": {},
   "source": [
    "(i)"
   ]
  },
  {
   "cell_type": "code",
   "execution_count": 8,
   "metadata": {},
   "outputs": [
    {
     "name": "stdout",
     "output_type": "stream",
     "text": [
      "correlation between x and y is:  0.487142274948538\n"
     ]
    }
   ],
   "source": [
    "import numpy as np\n",
    "import pandas as pd\n",
    "from scipy.stats import norm\n",
    "import multiprocessing\n",
    "import datetime\n",
    "import matplotlib.pyplot as plt\n",
    "\n",
    "def GaussianPairs(rho,num):\n",
    "    x = np.random.normal(0,1,num)\n",
    "    y = np.sqrt(1-rho*rho) * np.random.normal(0,1,num) + rho * x\n",
    "    return x,y\n",
    "\n",
    "x,y=GaussianPairs(0.5,1000)\n",
    "\n",
    "print(\"correlation between x and y is: \", np.corrcoef(x,y)[1,0])"
   ]
  },
  {
   "cell_type": "markdown",
   "metadata": {},
   "source": [
    "(ii)"
   ]
  },
  {
   "cell_type": "code",
   "execution_count": 9,
   "metadata": {},
   "outputs": [],
   "source": [
    "# generate one path, default step is 500\n",
    "def SABRPath(param,step=500):\n",
    "    delta_t=param['T']/step\n",
    "    x,y=GaussianPairs(param['rho'],step)\n",
    "    F=param['F0']\n",
    "    sigma=param['sigma0']\n",
    "    sqrtt=np.sqrt(delta_t)\n",
    "    for i in range(step):\n",
    "        F=max(F + sigma*F**param['beta']*sqrtt*x[i], 0)\n",
    "        sigma=sigma*np.exp(param['alpha']*sqrtt*y[i]-param['alpha']**2*delta_t/2)\n",
    "    if param['type']=='call':\n",
    "        return max(F-param['K'],0)\n",
    "    else:\n",
    "        return max(param['K']-F,0)\n"
   ]
  },
  {
   "cell_type": "markdown",
   "metadata": {},
   "source": [
    "（iii）"
   ]
  },
  {
   "cell_type": "code",
   "execution_count": 10,
   "metadata": {},
   "outputs": [],
   "source": [
    "def impvol_normal(param):\n",
    "    Fm=(param['F0']+param['K'])/2\n",
    "    gamma1=param['beta']/Fm\n",
    "    gamma2=param['beta']*(param['beta']-1)/Fm/Fm\n",
    "    zeta=param['alpha']/param['sigma0']/(1-param['beta'])*(param['F0']**(1-param['beta'])-param['K']**(1-param['beta']))\n",
    "    Dz=np.log((np.sqrt(1-2*param['rho']*zeta+zeta**2)+zeta-param['rho'])/(1-param['rho']))\n",
    "    epsilon=param['T']*param['alpha']**2\n",
    "    return param['alpha']*(param['F0']-param['K'])/Dz*(1+\n",
    "                ((2*gamma2-gamma1**2)/24*(param['sigma0']*Fm**param['beta']/param['alpha'])**2\n",
    "                +param['rho']*gamma1/4*param['sigma0']*Fm**param['beta']/param['alpha']\n",
    "                +(2-3*param['rho']**2)/24)*epsilon)\n",
    "\n",
    "def impvol_lognormal(param):\n",
    "    Fm=(param['F0']+param['K'])/2\n",
    "    gamma1=param['beta']/Fm\n",
    "    gamma2=param['beta']*(param['beta']-1)/Fm/Fm\n",
    "    zeta=param['alpha']/param['sigma0']/(1-param['beta'])*(param['F0']**(1-param['beta'])-param['K']**(1-param['beta']))\n",
    "    Dz=np.log((np.sqrt(1-2*param['rho']*zeta+zeta**2)+zeta-param['rho'])/(1-param['rho']))\n",
    "    epsilon=param['T']*param['alpha']**2\n",
    "    return param['alpha']*np.log(param['F0']/param['K'])/Dz*(1+\n",
    "                ((2*gamma2-gamma1**2+1/Fm/Fm)/24*(param['sigma0']*Fm**param['beta']/param['alpha'])**2\n",
    "                +param['rho']*gamma1/4*param['sigma0']*Fm**param['beta']/param['alpha']\n",
    "                +(2-3*param['rho']**2)/24)*epsilon)"
   ]
  },
  {
   "cell_type": "code",
   "execution_count": 11,
   "metadata": {},
   "outputs": [],
   "source": [
    "def normalModel(param):\n",
    "    sigma=impvol_normal(param)\n",
    "    d=(param['F0']-param['K'])/sigma/np.sqrt(param['T'])\n",
    "    if param['type']=='put':\n",
    "        d=-d\n",
    "    return sigma*np.sqrt(param['T'])*(d*norm.cdf(d)+norm.pdf(d))\n",
    "\n",
    "def lognormalModel(param):\n",
    "    sigma=impvol_lognormal(param)\n",
    "    d1=(np.log(param['F0']/param['K'])+0.5*sigma**2*param['T'])/sigma/np.sqrt(param['T'])\n",
    "    d2=(np.log(param['F0']/param['K'])-0.5*sigma**2*param['T'])/sigma/np.sqrt(param['T'])\n",
    "    if param['type']=='call':\n",
    "        return param['F0']*norm.cdf(d1)-param['K']*norm.cdf(d2)\n",
    "    else:\n",
    "        return -param['F0']*norm.cdf(-d1)+param['K']*norm.cdf(-d2)"
   ]
  },
  {
   "cell_type": "code",
   "execution_count": 12,
   "metadata": {},
   "outputs": [],
   "source": [
    "# read parameters\n",
    "data=pd.read_excel('MC.xls')"
   ]
  },
  {
   "cell_type": "code",
   "execution_count": 21,
   "metadata": {},
   "outputs": [],
   "source": [
    "# totally 5000 path simulations\n",
    "# you can change procs and path_for_each to fit your PC's hardware!\n",
    "\n",
    "procs = 8   # Number of threads to create\n",
    "path_for_each = 625  # Number of generated path for each thread "
   ]
  },
  {
   "cell_type": "code",
   "execution_count": 13,
   "metadata": {},
   "outputs": [],
   "source": [
    "# used in multithread \n",
    "def res_append(param, count, seed, outlist):\n",
    "    np.random.seed(seed)\n",
    "    res=0\n",
    "    for i in range(count):\n",
    "        res+=SABRPath(param)\n",
    "    outlist.put(res/count)"
   ]
  },
  {
   "cell_type": "code",
   "execution_count": 14,
   "metadata": {},
   "outputs": [
    {
     "name": "stdout",
     "output_type": "stream",
     "text": [
      "0 th option completed!  time used:  15\n",
      "1 th option completed!  time used:  16\n",
      "2 th option completed!  time used:  16\n",
      "3 th option completed!  time used:  16\n",
      "4 th option completed!  time used:  16\n",
      "5 th option completed!  time used:  17\n",
      "6 th option completed!  time used:  17\n",
      "7 th option completed!  time used:  17\n",
      "8 th option completed!  time used:  17\n",
      "9 th option completed!  time used:  16\n",
      "10 th option completed!  time used:  17\n",
      "11 th option completed!  time used:  17\n",
      "12 th option completed!  time used:  17\n",
      "13 th option completed!  time used:  16\n",
      "14 th option completed!  time used:  16\n",
      "15 th option completed!  time used:  16\n",
      "16 th option completed!  time used:  17\n",
      "17 th option completed!  time used:  17\n",
      "18 th option completed!  time used:  17\n",
      "19 th option completed!  time used:  17\n"
     ]
    }
   ],
   "source": [
    "for j in range(len(data)):\n",
    "    starttime = datetime.datetime.now()\n",
    "    \n",
    "    option = data.iloc[j]\n",
    "    jobs = []\n",
    "    result_list= multiprocessing.Queue()\n",
    "    \n",
    "    # process in multithread\n",
    "    for i in range(procs):\n",
    "        out_list = list()\n",
    "        process = multiprocessing.Process(target=res_append,\n",
    "                                          args=(option, path_for_each, j*23+i*7, result_list))\n",
    "        jobs.append(process)\n",
    "    \n",
    "    # start threads\n",
    "    for job in jobs:\n",
    "        job.start()\n",
    "    \n",
    "    # wait for all finish\n",
    "    for job in jobs:\n",
    "        job.join()\n",
    "    \n",
    "    # get results from Queue\n",
    "    res=[]\n",
    "    for i in range(procs):\n",
    "        res.append(result_list.get())\n",
    "    data.at[j,'MC'] = sum(res)/procs\n",
    "    \n",
    "    endtime = datetime.datetime.now()\n",
    "    print(j,\"th option completed!  time used: \",(endtime - starttime).seconds)"
   ]
  },
  {
   "cell_type": "code",
   "execution_count": 15,
   "metadata": {},
   "outputs": [],
   "source": [
    "# calculate normal and lognormal model\n",
    "for i in range(len(data)):\n",
    "    option=data.iloc[i]\n",
    "    data.at[i,'normal'] = normalModel(option)\n",
    "    data.at[i,'lognormal'] = lognormalModel(option)"
   ]
  },
  {
   "cell_type": "code",
   "execution_count": 16,
   "metadata": {},
   "outputs": [
    {
     "data": {
      "text/html": [
       "<div>\n",
       "<style scoped>\n",
       "    .dataframe tbody tr th:only-of-type {\n",
       "        vertical-align: middle;\n",
       "    }\n",
       "\n",
       "    .dataframe tbody tr th {\n",
       "        vertical-align: top;\n",
       "    }\n",
       "\n",
       "    .dataframe thead th {\n",
       "        text-align: right;\n",
       "    }\n",
       "</style>\n",
       "<table border=\"1\" class=\"dataframe\">\n",
       "  <thead>\n",
       "    <tr style=\"text-align: right;\">\n",
       "      <th></th>\n",
       "      <th>type</th>\n",
       "      <th>T</th>\n",
       "      <th>F0</th>\n",
       "      <th>K</th>\n",
       "      <th>sigma0</th>\n",
       "      <th>alpha</th>\n",
       "      <th>beta</th>\n",
       "      <th>rho</th>\n",
       "      <th>MC</th>\n",
       "      <th>normal</th>\n",
       "      <th>lognormal</th>\n",
       "    </tr>\n",
       "  </thead>\n",
       "  <tbody>\n",
       "    <tr>\n",
       "      <th>0</th>\n",
       "      <td>call</td>\n",
       "      <td>0.25</td>\n",
       "      <td>0.005</td>\n",
       "      <td>0.010</td>\n",
       "      <td>0.0072</td>\n",
       "      <td>1.1</td>\n",
       "      <td>0.2</td>\n",
       "      <td>0.8</td>\n",
       "      <td>1.323816e-05</td>\n",
       "      <td>1.534732e-05</td>\n",
       "      <td>1.501893e-05</td>\n",
       "    </tr>\n",
       "    <tr>\n",
       "      <th>1</th>\n",
       "      <td>call</td>\n",
       "      <td>0.25</td>\n",
       "      <td>0.050</td>\n",
       "      <td>0.060</td>\n",
       "      <td>0.0224</td>\n",
       "      <td>0.8</td>\n",
       "      <td>0.5</td>\n",
       "      <td>-0.2</td>\n",
       "      <td>0.000000e+00</td>\n",
       "      <td>4.885530e-07</td>\n",
       "      <td>4.883099e-07</td>\n",
       "    </tr>\n",
       "    <tr>\n",
       "      <th>2</th>\n",
       "      <td>call</td>\n",
       "      <td>0.50</td>\n",
       "      <td>0.010</td>\n",
       "      <td>0.020</td>\n",
       "      <td>0.0400</td>\n",
       "      <td>0.8</td>\n",
       "      <td>0.5</td>\n",
       "      <td>0.7</td>\n",
       "      <td>7.799626e-05</td>\n",
       "      <td>7.652787e-05</td>\n",
       "      <td>7.487559e-05</td>\n",
       "    </tr>\n",
       "    <tr>\n",
       "      <th>3</th>\n",
       "      <td>call</td>\n",
       "      <td>0.50</td>\n",
       "      <td>0.050</td>\n",
       "      <td>0.060</td>\n",
       "      <td>0.0182</td>\n",
       "      <td>0.7</td>\n",
       "      <td>0.2</td>\n",
       "      <td>-0.3</td>\n",
       "      <td>2.866437e-04</td>\n",
       "      <td>2.608603e-04</td>\n",
       "      <td>2.608575e-04</td>\n",
       "    </tr>\n",
       "    <tr>\n",
       "      <th>4</th>\n",
       "      <td>call</td>\n",
       "      <td>1.00</td>\n",
       "      <td>0.015</td>\n",
       "      <td>0.020</td>\n",
       "      <td>0.0232</td>\n",
       "      <td>0.6</td>\n",
       "      <td>0.2</td>\n",
       "      <td>0.4</td>\n",
       "      <td>2.325147e-03</td>\n",
       "      <td>2.437508e-03</td>\n",
       "      <td>2.421782e-03</td>\n",
       "    </tr>\n",
       "    <tr>\n",
       "      <th>5</th>\n",
       "      <td>call</td>\n",
       "      <td>1.00</td>\n",
       "      <td>0.040</td>\n",
       "      <td>0.050</td>\n",
       "      <td>0.0500</td>\n",
       "      <td>0.5</td>\n",
       "      <td>0.5</td>\n",
       "      <td>-0.3</td>\n",
       "      <td>9.187197e-04</td>\n",
       "      <td>9.183497e-04</td>\n",
       "      <td>9.184970e-04</td>\n",
       "    </tr>\n",
       "    <tr>\n",
       "      <th>6</th>\n",
       "      <td>call</td>\n",
       "      <td>2.00</td>\n",
       "      <td>0.020</td>\n",
       "      <td>0.030</td>\n",
       "      <td>0.0707</td>\n",
       "      <td>0.5</td>\n",
       "      <td>0.5</td>\n",
       "      <td>0.3</td>\n",
       "      <td>3.013644e-03</td>\n",
       "      <td>3.212124e-03</td>\n",
       "      <td>3.173179e-03</td>\n",
       "    </tr>\n",
       "    <tr>\n",
       "      <th>7</th>\n",
       "      <td>call</td>\n",
       "      <td>2.00</td>\n",
       "      <td>0.060</td>\n",
       "      <td>0.070</td>\n",
       "      <td>0.0176</td>\n",
       "      <td>0.5</td>\n",
       "      <td>0.2</td>\n",
       "      <td>-0.1</td>\n",
       "      <td>2.403597e-03</td>\n",
       "      <td>2.329473e-03</td>\n",
       "      <td>2.327886e-03</td>\n",
       "    </tr>\n",
       "    <tr>\n",
       "      <th>8</th>\n",
       "      <td>call</td>\n",
       "      <td>5.00</td>\n",
       "      <td>0.050</td>\n",
       "      <td>0.060</td>\n",
       "      <td>0.0146</td>\n",
       "      <td>0.4</td>\n",
       "      <td>0.2</td>\n",
       "      <td>0.2</td>\n",
       "      <td>3.881238e-03</td>\n",
       "      <td>4.312865e-03</td>\n",
       "      <td>4.299161e-03</td>\n",
       "    </tr>\n",
       "    <tr>\n",
       "      <th>9</th>\n",
       "      <td>call</td>\n",
       "      <td>5.00</td>\n",
       "      <td>0.050</td>\n",
       "      <td>0.070</td>\n",
       "      <td>0.0447</td>\n",
       "      <td>0.3</td>\n",
       "      <td>0.5</td>\n",
       "      <td>-0.5</td>\n",
       "      <td>2.265074e-03</td>\n",
       "      <td>2.207605e-03</td>\n",
       "      <td>2.213884e-03</td>\n",
       "    </tr>\n",
       "    <tr>\n",
       "      <th>10</th>\n",
       "      <td>put</td>\n",
       "      <td>0.25</td>\n",
       "      <td>0.005</td>\n",
       "      <td>0.002</td>\n",
       "      <td>0.0354</td>\n",
       "      <td>0.9</td>\n",
       "      <td>0.5</td>\n",
       "      <td>0.8</td>\n",
       "      <td>2.425447e-08</td>\n",
       "      <td>2.751750e-09</td>\n",
       "      <td>2.842920e-09</td>\n",
       "    </tr>\n",
       "    <tr>\n",
       "      <th>11</th>\n",
       "      <td>put</td>\n",
       "      <td>0.25</td>\n",
       "      <td>0.040</td>\n",
       "      <td>0.020</td>\n",
       "      <td>0.0095</td>\n",
       "      <td>0.9</td>\n",
       "      <td>0.2</td>\n",
       "      <td>0.0</td>\n",
       "      <td>0.000000e+00</td>\n",
       "      <td>3.236303e-09</td>\n",
       "      <td>3.182069e-09</td>\n",
       "    </tr>\n",
       "    <tr>\n",
       "      <th>12</th>\n",
       "      <td>put</td>\n",
       "      <td>0.50</td>\n",
       "      <td>0.010</td>\n",
       "      <td>0.005</td>\n",
       "      <td>0.0400</td>\n",
       "      <td>0.7</td>\n",
       "      <td>0.5</td>\n",
       "      <td>0.4</td>\n",
       "      <td>1.286762e-05</td>\n",
       "      <td>1.529728e-05</td>\n",
       "      <td>1.527679e-05</td>\n",
       "    </tr>\n",
       "    <tr>\n",
       "      <th>13</th>\n",
       "      <td>put</td>\n",
       "      <td>0.50</td>\n",
       "      <td>0.030</td>\n",
       "      <td>0.020</td>\n",
       "      <td>0.5770</td>\n",
       "      <td>0.6</td>\n",
       "      <td>0.5</td>\n",
       "      <td>-0.2</td>\n",
       "      <td>1.384652e-02</td>\n",
       "      <td>1.547799e-02</td>\n",
       "      <td>1.595415e-02</td>\n",
       "    </tr>\n",
       "    <tr>\n",
       "      <th>14</th>\n",
       "      <td>put</td>\n",
       "      <td>1.00</td>\n",
       "      <td>0.030</td>\n",
       "      <td>0.010</td>\n",
       "      <td>0.0202</td>\n",
       "      <td>0.6</td>\n",
       "      <td>0.2</td>\n",
       "      <td>0.5</td>\n",
       "      <td>3.492498e-05</td>\n",
       "      <td>3.630093e-05</td>\n",
       "      <td>3.596888e-05</td>\n",
       "    </tr>\n",
       "    <tr>\n",
       "      <th>15</th>\n",
       "      <td>put</td>\n",
       "      <td>1.00</td>\n",
       "      <td>0.050</td>\n",
       "      <td>0.040</td>\n",
       "      <td>0.0182</td>\n",
       "      <td>0.6</td>\n",
       "      <td>0.2</td>\n",
       "      <td>-0.5</td>\n",
       "      <td>1.258618e-03</td>\n",
       "      <td>1.276635e-03</td>\n",
       "      <td>1.273697e-03</td>\n",
       "    </tr>\n",
       "    <tr>\n",
       "      <th>16</th>\n",
       "      <td>put</td>\n",
       "      <td>2.00</td>\n",
       "      <td>0.040</td>\n",
       "      <td>0.025</td>\n",
       "      <td>0.0500</td>\n",
       "      <td>0.5</td>\n",
       "      <td>0.5</td>\n",
       "      <td>0.2</td>\n",
       "      <td>8.787241e-04</td>\n",
       "      <td>9.184515e-04</td>\n",
       "      <td>9.142442e-04</td>\n",
       "    </tr>\n",
       "    <tr>\n",
       "      <th>17</th>\n",
       "      <td>put</td>\n",
       "      <td>2.00</td>\n",
       "      <td>0.050</td>\n",
       "      <td>0.035</td>\n",
       "      <td>0.0447</td>\n",
       "      <td>0.5</td>\n",
       "      <td>0.5</td>\n",
       "      <td>-0.1</td>\n",
       "      <td>1.200486e-03</td>\n",
       "      <td>1.287755e-03</td>\n",
       "      <td>1.281620e-03</td>\n",
       "    </tr>\n",
       "    <tr>\n",
       "      <th>18</th>\n",
       "      <td>put</td>\n",
       "      <td>5.00</td>\n",
       "      <td>0.050</td>\n",
       "      <td>0.035</td>\n",
       "      <td>0.0146</td>\n",
       "      <td>0.4</td>\n",
       "      <td>0.2</td>\n",
       "      <td>0.1</td>\n",
       "      <td>2.232460e-03</td>\n",
       "      <td>2.461721e-03</td>\n",
       "      <td>2.447389e-03</td>\n",
       "    </tr>\n",
       "    <tr>\n",
       "      <th>19</th>\n",
       "      <td>put</td>\n",
       "      <td>5.00</td>\n",
       "      <td>0.060</td>\n",
       "      <td>0.040</td>\n",
       "      <td>0.0176</td>\n",
       "      <td>0.4</td>\n",
       "      <td>0.2</td>\n",
       "      <td>0.0</td>\n",
       "      <td>2.854207e-03</td>\n",
       "      <td>3.064642e-03</td>\n",
       "      <td>3.037701e-03</td>\n",
       "    </tr>\n",
       "  </tbody>\n",
       "</table>\n",
       "</div>"
      ],
      "text/plain": [
       "    type     T     F0      K  sigma0  alpha  beta  rho            MC  \\\n",
       "0   call  0.25  0.005  0.010  0.0072    1.1   0.2  0.8  1.323816e-05   \n",
       "1   call  0.25  0.050  0.060  0.0224    0.8   0.5 -0.2  0.000000e+00   \n",
       "2   call  0.50  0.010  0.020  0.0400    0.8   0.5  0.7  7.799626e-05   \n",
       "3   call  0.50  0.050  0.060  0.0182    0.7   0.2 -0.3  2.866437e-04   \n",
       "4   call  1.00  0.015  0.020  0.0232    0.6   0.2  0.4  2.325147e-03   \n",
       "5   call  1.00  0.040  0.050  0.0500    0.5   0.5 -0.3  9.187197e-04   \n",
       "6   call  2.00  0.020  0.030  0.0707    0.5   0.5  0.3  3.013644e-03   \n",
       "7   call  2.00  0.060  0.070  0.0176    0.5   0.2 -0.1  2.403597e-03   \n",
       "8   call  5.00  0.050  0.060  0.0146    0.4   0.2  0.2  3.881238e-03   \n",
       "9   call  5.00  0.050  0.070  0.0447    0.3   0.5 -0.5  2.265074e-03   \n",
       "10   put  0.25  0.005  0.002  0.0354    0.9   0.5  0.8  2.425447e-08   \n",
       "11   put  0.25  0.040  0.020  0.0095    0.9   0.2  0.0  0.000000e+00   \n",
       "12   put  0.50  0.010  0.005  0.0400    0.7   0.5  0.4  1.286762e-05   \n",
       "13   put  0.50  0.030  0.020  0.5770    0.6   0.5 -0.2  1.384652e-02   \n",
       "14   put  1.00  0.030  0.010  0.0202    0.6   0.2  0.5  3.492498e-05   \n",
       "15   put  1.00  0.050  0.040  0.0182    0.6   0.2 -0.5  1.258618e-03   \n",
       "16   put  2.00  0.040  0.025  0.0500    0.5   0.5  0.2  8.787241e-04   \n",
       "17   put  2.00  0.050  0.035  0.0447    0.5   0.5 -0.1  1.200486e-03   \n",
       "18   put  5.00  0.050  0.035  0.0146    0.4   0.2  0.1  2.232460e-03   \n",
       "19   put  5.00  0.060  0.040  0.0176    0.4   0.2  0.0  2.854207e-03   \n",
       "\n",
       "          normal     lognormal  \n",
       "0   1.534732e-05  1.501893e-05  \n",
       "1   4.885530e-07  4.883099e-07  \n",
       "2   7.652787e-05  7.487559e-05  \n",
       "3   2.608603e-04  2.608575e-04  \n",
       "4   2.437508e-03  2.421782e-03  \n",
       "5   9.183497e-04  9.184970e-04  \n",
       "6   3.212124e-03  3.173179e-03  \n",
       "7   2.329473e-03  2.327886e-03  \n",
       "8   4.312865e-03  4.299161e-03  \n",
       "9   2.207605e-03  2.213884e-03  \n",
       "10  2.751750e-09  2.842920e-09  \n",
       "11  3.236303e-09  3.182069e-09  \n",
       "12  1.529728e-05  1.527679e-05  \n",
       "13  1.547799e-02  1.595415e-02  \n",
       "14  3.630093e-05  3.596888e-05  \n",
       "15  1.276635e-03  1.273697e-03  \n",
       "16  9.184515e-04  9.142442e-04  \n",
       "17  1.287755e-03  1.281620e-03  \n",
       "18  2.461721e-03  2.447389e-03  \n",
       "19  3.064642e-03  3.037701e-03  "
      ]
     },
     "execution_count": 16,
     "metadata": {},
     "output_type": "execute_result"
    }
   ],
   "source": [
    "data"
   ]
  },
  {
   "cell_type": "code",
   "execution_count": 20,
   "metadata": {},
   "outputs": [
    {
     "data": {
      "text/plain": [
       "Text(0.5,0,'Option number')"
      ]
     },
     "execution_count": 20,
     "metadata": {},
     "output_type": "execute_result"
    },
    {
     "data": {
      "image/png": "[encoded data removed]",
      "text/plain": [
       "<Figure size 1920x1080 with 1 Axes>"
      ]
     },
     "metadata": {
      "needs_background": "light"
     },
     "output_type": "display_data"
    }
   ],
   "source": [
    "# plot for three values\n",
    "plt.figure(figsize=(16,9),dpi= 120)\n",
    "plt.plot(data['lognormal'], c = 'red', label = 'LogNormal')\n",
    "plt.plot(data['normal'], c = 'orange', label = 'Normal')\n",
    "plt.plot(data['MC'], c='blue', label = 'Monte Carlo')\n",
    "plt.legend()\n",
    "plt.ylabel(\"value\")\n",
    "plt.xlabel(\"Option number\")"
   ]
  },
  {
   "cell_type": "code",
   "execution_count": 18,
   "metadata": {},
   "outputs": [],
   "source": [
    "data.to_excel(\"MC.xls\")"
   ]
  },
  {
   "cell_type": "markdown",
   "metadata": {},
   "source": [
    "We can see the lognomal and normal value are almost same, and MC value fits good with these two values."
   ]
  }
 ],
 "metadata": {
  "kernelspec": {
   "display_name": "Python 3",
   "language": "python",
   "name": "python3"
  },
  "language_info": {
   "codemirror_mode": {
    "name": "ipython",
    "version": 3
   },
   "file_extension": ".py",
   "mimetype": "text/x-python",
   "name": "python",
   "nbconvert_exporter": "python",
   "pygments_lexer": "ipython3",
   "version": "3.7.2"
  }
 },
 "nbformat": 4,
 "nbformat_minor": 2
}
