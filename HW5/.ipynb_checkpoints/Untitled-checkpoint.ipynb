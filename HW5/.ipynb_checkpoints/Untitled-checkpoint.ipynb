{
 "cells": [
  {
   "cell_type": "markdown",
   "metadata": {},
   "source": [
    "### Q2"
   ]
  },
  {
   "cell_type": "markdown",
   "metadata": {},
   "source": [
    "zero coupon price is given by\n",
    "$$\n",
    "P(t,T)=A(t,T)e^{-B(t,T)r(t)}\n",
    "$$\n",
    "\n",
    "and $Q_0$-dynamics is given by\n",
    "$$\n",
    "dr(t)=\\mu(t,r(t))dt+\\sigma(t,r(t))dW(t)\n",
    "$$"
   ]
  },
  {
   "cell_type": "markdown",
   "metadata": {},
   "source": [
    "(a)\n",
    "under spot measure $Q_0$, $P(t,T)=E^{Q_0}[e^{-\\int_t^T r(u)du}]$\n",
    "\n",
    "$$\n",
    "\\begin{split}\n",
    "d\\left(P(t,s)e^{-\\int_t^s r(u)du}\\right)&=e^{-\\int_t^s r(u)du}\\left\\{ \\frac{\\partial P}{\\partial t}ds+\\frac{\\partial P}{\\partial r}dr+\\frac12\\frac{\\partial^2P}{\\partial r^2}d[r,r]-rPds\\right\\}   \\\\\n",
    "&=e^{-\\int_t^s r(u)du}\\left\\{ \\frac{\\partial P}{\\partial t}+\\frac{\\partial P}{\\partial r}\\mu +\\frac12\\frac{\\partial^2P}{\\partial r^2}\\sigma^2 -rP\\right\\}ds+e^{-\\int_t^s r(u)du}\\frac{\\partial P}{\\partial r}\\sigma dW\n",
    "\\end{split}\n",
    "$$\n",
    "\n",
    "\n"
   ]
  },
  {
   "cell_type": "markdown",
   "metadata": {},
   "source": [
    "integrate s from t to T\n",
    "$$\n",
    "P(T,T)e^{-\\int_t^T r(u)du}-P(t,T)=\\int_t^T \\left\\{ e^{-\\int_t^s r(u)du}\\left( \\frac{\\partial P}{\\partial t}+\\frac{\\partial P}{\\partial r}\\mu +\\frac12\\frac{\\partial^2P}{\\partial r^2}\\sigma^2 -rP\\right)ds+e^{-\\int_t^s r(u)du}\\frac{\\partial P}{\\partial r}\\sigma dW\\right\\}\n",
    "$$"
   ]
  },
  {
   "cell_type": "markdown",
   "metadata": {},
   "source": [
    "From definition, we know $P(T,T)=1$. We take expectation for last equation, and LHS should be zero. So the drift term of RHS should be zero too. Thus we have "
   ]
  },
  {
   "cell_type": "markdown",
   "metadata": {},
   "source": [
    "(a) under spot measure $Q_0$, $P(t,T)=E^{Q_0}[e^{-\\int_t^T r(u)du}]$\n",
    "\n",
    "according to Feynman-Kac formula, we directly have \n",
    "\n",
    "$$\n",
    "\\frac{\\partial P}{\\partial t}+\\frac{\\partial P}{\\partial r}\\mu +\\frac12\\frac{\\partial^2P}{\\partial r^2}\\sigma^2 =rP\n",
    "$$\n",
    "\n",
    "with terminal condition\n",
    "\n",
    "$$\n",
    "P(T,T)=1\n",
    "$$\n",
    "\n",
    "which is what we desired"
   ]
  },
  {
   "cell_type": "markdown",
   "metadata": {},
   "source": [
    "(b)\n",
    "Under affine model,\n",
    "\n",
    "$$\n",
    "\\begin{split}\n",
    "    \\frac{\\partial P}{\\partial t}&=\\frac{\\partial A}{\\partial t}e^{-Br}-\\frac{\\partial B}{\\partial t}Are^{-Br}\\\\\n",
    "\\frac{\\partial P}{\\partial r}&=-ABe^{-Br}\\\\\n",
    "\\frac{\\partial^2 P}{\\partial r^2}&=AB^2e^{-Br}\n",
    "\\end{split}\n",
    "$$\n"
   ]
  },
  {
   "cell_type": "markdown",
   "metadata": {},
   "source": [
    "plug into the formula from (a), we have\n",
    "\n",
    "$$\n",
    "\\frac{\\partial A}{\\partial t}e^{-Br}-\\frac{\\partial B}{\\partial t}Are^{-Br}-\\mu ABe^{-Br}+\\frac12 \\sigma^2 AB^2e^{-Br}=rAe^{-Br}\n",
    "$$\n"
   ]
  },
  {
   "cell_type": "markdown",
   "metadata": {},
   "source": [
    "divide $Ae^{-Br}$ from both side\n",
    "\n",
    "$$\n",
    "\\frac{1}{A}\\frac{\\partial A}{\\partial t}-\\frac{\\partial B}{\\partial t}r-\\mu B+\\frac12 \\sigma^2 B^2=r\n",
    "$$"
   ]
  },
  {
   "cell_type": "markdown",
   "metadata": {},
   "source": [
    "this is equivalent to\n",
    "\n",
    "$$\n",
    "\\frac{\\partial \\log(A)}{\\partial t}-\\frac{\\partial B}{\\partial t}r-\\mu B+\\frac12 \\sigma^2 B^2=r\n",
    "$$"
   ]
  },
  {
   "cell_type": "markdown",
   "metadata": {},
   "source": [
    "plug P's expression to terminal condition from (a), for any r, $P(T,T)=1$ holds, the only possible way is\n",
    "\n",
    "$$\n",
    "A(T,T)=1\n",
    "$$\n",
    "\n",
    "$$\n",
    "B(T,T)=0\n",
    "$$"
   ]
  },
  {
   "cell_type": "markdown",
   "metadata": {},
   "source": [
    "(c) Here we assume \n",
    "\n",
    "$$\n",
    "\\begin{split}\n",
    "\\mu(t,x)&=a(t)x+b(t)\\\\\n",
    "\\sigma(t,x)^2&=c(t)x+d(t)\n",
    "\\end{split}\n",
    "$$"
   ]
  },
  {
   "cell_type": "markdown",
   "metadata": {},
   "source": [
    "Plug into the equation from (b), we have\n",
    "\n",
    "$$\n",
    "\\frac{\\partial \\log(A)}{\\partial t}-b(t)B+\\frac12d(t)B^2-\\left( \\frac{\\partial B}{\\partial t}+a(t)B-\\frac12c(t)B+1\\right)r=0\n",
    "$$"
   ]
  },
  {
   "cell_type": "markdown",
   "metadata": {},
   "source": [
    "This equation holds for any r, so we have\n",
    "\n",
    "$$\n",
    "\\frac{\\partial \\log(A(t,T))}{\\partial t}-b(t)B(t,T)+\\frac12d(t)B(t,T)^2=0\n",
    "$$\n",
    "\n",
    "$$\n",
    "\\frac{\\partial B(t,T)}{\\partial t}+a(t)B(t,T)-\\frac12c(t)B(t,T)+1=0\n",
    "$$"
   ]
  }
 ],
 "metadata": {
  "kernelspec": {
   "display_name": "Python 3",
   "language": "python",
   "name": "python3"
  },
  "language_info": {
   "codemirror_mode": {
    "name": "ipython",
    "version": 3
   },
   "file_extension": ".py",
   "mimetype": "text/x-python",
   "name": "python",
   "nbconvert_exporter": "python",
   "pygments_lexer": "ipython3",
   "version": "3.7.3"
  }
 },
 "nbformat": 4,
 "nbformat_minor": 2
}
