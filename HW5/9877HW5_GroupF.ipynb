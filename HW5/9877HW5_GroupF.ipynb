{
 "cells": [
  {
   "cell_type": "markdown",
   "metadata": {},
   "source": [
    "# Group F\n",
    "* Chenyu Zhao\n",
    "* Mingxiang Jia\n",
    "* Shenyi Mao\n",
    "* Zichao Wang"
   ]
  },
  {
   "cell_type": "markdown",
   "metadata": {},
   "source": [
    "## Q1\n",
    "From the lecture note, we first write CMS rate as:\n",
    "\n",
    "\n",
    "$$C(T_0, T| T_p) = S_0(T_0, T) + \\Delta_{corr}(T_0, T| T_p) + \\Delta_{delay}(T_0, T| T_p)\n",
    "$$\n",
    "\n",
    "* $S_0(T_0, T)$ is the forward swap rate. \n",
    "\n",
    "\n",
    "* $\\Delta_{corr}(T_0, T| T_p) \\approx S_0(T_0,T)\\theta _c (e^{\\sigma ^2T_0}-1)$\n",
    "\n",
    "\n",
    "* $\\Delta_{delay}(T_0, T| T_p) \\approx - S_0(T_0,T)\\theta _d (e^{\\sigma ^2T_0}-1)$\n",
    "\n",
    "Moreover, we have:\n",
    "* $\\theta _d =\\frac{S_0/f_{CMS}}{1+S_0/f} $ \n",
    "\n",
    "\n",
    "* $\\theta _c =1 - \\frac{1}{1+S_0/f}\\frac{nS_0/f}{(1+S_0/f)^n-1} $ \n",
    "\n",
    "Now we can plug in the parameters and get the result.\n",
    "\n",
    "### 10 year CMS settling in 1 year and paying 3 months later\n",
    "$T_0 = 1$, $T = 10$, $S_0=3.87242634731286\\%$, $\\sigma = 30.3502228491797\\%$\n",
    "\n",
    "### 10 year CMS settling in 5 year and paying 3 months later\n",
    "$T_0 = 5$, $T = 10$, $S_0=5.03030935604922\\%$, $\\sigma = 22.1544712774529\\%$"
   ]
  },
  {
   "cell_type": "code",
   "execution_count": 1,
   "metadata": {},
   "outputs": [],
   "source": [
    "import math\n",
    "def CMS(T0, T, S0, sigma):\n",
    "    theta_d = S0/4/(1+S0/2)\n",
    "    theta_c = 1- 1/(1+S0/2)*(20*S0/2)/(-1+(1+S0/2)**20)\n",
    "    delta_corr = S0*theta_c*(math.exp(sigma**2*T0)-1 )\n",
    "    delta_delay = - S0*theta_d*(math.exp(sigma**2*T0)-1 )\n",
    "    return (delta_corr+delta_delay+S0, delta_corr, delta_delay)"
   ]
  },
  {
   "cell_type": "code",
   "execution_count": 2,
   "metadata": {},
   "outputs": [
    {
     "name": "stdout",
     "output_type": "stream",
     "text": [
      "The CMS rate is : 0.03938884037161633\n",
      "Fraction of delay is :  5.339641709562756 %\n"
     ]
    }
   ],
   "source": [
    "rate, corr, delay = CMS(1,10,0.0387242634731286,0.303502228491797)\n",
    "print(\"The CMS rate is :\", rate)\n",
    "print(\"Fraction of delay is : \" , abs(delay/(corr+delay))*100, \"%\")"
   ]
  },
  {
   "cell_type": "code",
   "execution_count": 3,
   "metadata": {},
   "outputs": [
    {
     "name": "stdout",
     "output_type": "stream",
     "text": [
      "The CMS rate is : 0.053453489723290205\n",
      "Fraction of delay is :  5.448141678909777 %\n"
     ]
    }
   ],
   "source": [
    "rate, corr, delay = CMS(5,10,0.0503030935604922,0.221544712774529)\n",
    "print(\"The CMS rate is :\", rate)\n",
    "print(\"Fraction of delay is : \" , abs(delay/(corr+delay))*100, \"%\")"
   ]
  },
  {
   "cell_type": "markdown",
   "metadata": {},
   "source": [
    "# Q2"
   ]
  },
  {
   "cell_type": "markdown",
   "metadata": {},
   "source": [
    "Zero coupon price is given by\n",
    "$$\n",
    "P(t,T)=A(t,T)e^{-B(t,T)r(t)}\n",
    "$$\n",
    "\n",
    "and $Q_0$-dynamics is given by\n",
    "$$\n",
    "dr(t)=\\mu(t,r(t))dt+\\sigma(t,r(t))dW(t)\n",
    "$$"
   ]
  },
  {
   "cell_type": "markdown",
   "metadata": {},
   "source": [
    "(a)\n",
    "Under spot measure $Q_0$, $P(t,T)=E^{Q_0}[e^{-\\int_t^T r(u)du}]$\n",
    "\n",
    "let $P(t,T)=P(s,r(s))$, hence it becomes function of s\n",
    "$$\n",
    "\\begin{split}\n",
    "d\\left(P(s,r(s))e^{-\\int_t^s r(u)du}\\right)&=e^{-\\int_t^s r(u)du}\\left\\{ \\frac{\\partial P}{\\partial t}ds+\\frac{\\partial P}{\\partial r}dr+\\frac12\\frac{\\partial^2P}{\\partial r^2}d[r,r]-rPds\\right\\}   \\\\\n",
    "&=e^{-\\int_t^s r(u)du}\\left\\{ \\frac{\\partial P}{\\partial t}+\\frac{\\partial P}{\\partial r}\\mu +\\frac12\\frac{\\partial^2P}{\\partial r^2}\\sigma^2 -rP\\right\\}ds+e^{-\\int_t^s r(u)du}\\frac{\\partial P}{\\partial r}\\sigma dW\n",
    "\\end{split}\n",
    "$$\n",
    "\n",
    "integrate s from t to T\n",
    "$$\n",
    "P(T,T)e^{-\\int_t^T r(u)du}-P(t,T)=\\int_t^T \\left\\{ e^{-\\int_t^s r(u)du}\\left( \\frac{\\partial P}{\\partial t}+\\frac{\\partial P}{\\partial r}\\mu +\\frac12\\frac{\\partial^2P}{\\partial r^2}\\sigma^2 -rP\\right)ds+e^{-\\int_t^s r(u)du}\\frac{\\partial P}{\\partial r}\\sigma dW\\right\\}\n",
    "$$\n",
    "\n",
    "From definition, we know $P(T,T)=1$. We take expectation for last equation, and LHS should be zero under spot measure. So the drift term of RHS should be zero too. Thus we have \n",
    "\n",
    "$$\n",
    "\\frac{\\partial P}{\\partial t}+\\frac{\\partial P}{\\partial r}\\mu +\\frac12\\frac{\\partial^2P}{\\partial r^2}\\sigma^2 =rP\n",
    "$$\n",
    "\n",
    "with terminal condition\n",
    "\n",
    "$$\n",
    "P(T,T)=1\n",
    "$$"
   ]
  },
  {
   "cell_type": "markdown",
   "metadata": {},
   "source": [
    "(b)\n",
    "Under affine model,\n",
    "\n",
    "$$\n",
    "\\begin{split}\n",
    "    \\frac{\\partial P}{\\partial t}&=\\frac{\\partial A}{\\partial t}e^{-Br}-\\frac{\\partial B}{\\partial t}Are^{-Br}\\\\\n",
    "\\frac{\\partial P}{\\partial r}&=-ABe^{-Br}\\\\\n",
    "\\frac{\\partial^2 P}{\\partial r^2}&=AB^2e^{-Br}\n",
    "\\end{split}\n",
    "$$\n",
    "\n",
    "plug into the formula from (a), we have\n",
    "\n",
    "$$\n",
    "\\frac{\\partial A}{\\partial t}e^{-Br}-\\frac{\\partial B}{\\partial t}Are^{-Br}-\\mu ABe^{-Br}+\\frac12 \\sigma^2 AB^2e^{-Br}=rAe^{-Br}\n",
    "$$\n",
    "\n",
    "divide $Ae^{-Br}$ from both side\n",
    "\n",
    "$$\n",
    "\\frac{1}{A}\\frac{\\partial A}{\\partial t}-\\frac{\\partial B}{\\partial t}r-\\mu B+\\frac12 \\sigma^2 B^2=r\n",
    "$$\n",
    "\n",
    "this is equivalent to\n",
    "\n",
    "$$\n",
    "\\frac{\\partial \\log(A)}{\\partial t}-\\frac{\\partial B}{\\partial t}r-\\mu B+\\frac12 \\sigma^2 B^2=r\n",
    "$$\n",
    "\n",
    "plug P's expression to terminal condition from (a), for any r, $P(T,T)=1$ holds, the only possible way is\n",
    "\n",
    "$$\n",
    "A(T,T)=1\n",
    "$$\n",
    "\n",
    "$$\n",
    "B(T,T)=0\n",
    "$$"
   ]
  },
  {
   "cell_type": "markdown",
   "metadata": {},
   "source": [
    "(c) Here we assume \n",
    "\n",
    "$$\n",
    "\\begin{split}\n",
    "\\mu(t,x)&=a(t)x+b(t)\\\\\n",
    "\\sigma(t,x)^2&=c(t)x+d(t)\n",
    "\\end{split}\n",
    "$$\n",
    "\n",
    "Plug into the equation from (b), we have\n",
    "\n",
    "$$\n",
    "\\frac{\\partial \\log(A)}{\\partial t}-b(t)B+\\frac12d(t)B^2-\\left( \\frac{\\partial B}{\\partial t}+a(t)B-\\frac12c(t)B+1\\right)r=0\n",
    "$$\n",
    "\n",
    "This equation holds for any r, so we have\n",
    "\n",
    "$$\n",
    "\\frac{\\partial \\log(A(t,T))}{\\partial t}-b(t)B(t,T)+\\frac12d(t)B(t,T)^2=0\n",
    "$$\n",
    "\n",
    "$$\n",
    "\\frac{\\partial B(t,T)}{\\partial t}+a(t)B(t,T)-\\frac12c(t)B(t,T)+1=0\n",
    "$$"
   ]
  },
  {
   "cell_type": "markdown",
   "metadata": {},
   "source": [
    "# Q3 & Q4"
   ]
  },
  {
   "cell_type": "code",
   "execution_count": 1,
   "metadata": {},
   "outputs": [],
   "source": [
    "import math, time\n",
    "import numpy as np\n",
    "import pandas as pd\n",
    "\n",
    "from datetime import date, timedelta\n",
    "from dateutil.relativedelta import relativedelta\n",
    "\n",
    "from scipy.interpolate import splev, splrep, splint\n",
    "from scipy import optimize, integrate"
   ]
  },
  {
   "cell_type": "markdown",
   "metadata": {},
   "source": [
    "- Define utility function: difference in the unit of year between two dates."
   ]
  },
  {
   "cell_type": "code",
   "execution_count": 2,
   "metadata": {},
   "outputs": [],
   "source": [
    "# calculate difference of two days in the unit of year.\n",
    "# note that diff = day2 - day1\n",
    "\n",
    "def date_diff(day1, day2):\n",
    "    date_diff_obj = relativedelta(day2, day1)\n",
    "    return date_diff_obj.years + date_diff_obj.months/12 + \\\n",
    "        date_diff_obj.days/365"
   ]
  },
  {
   "cell_type": "markdown",
   "metadata": {},
   "source": [
    "- Define utility function: spectral decomposition BM simulator."
   ]
  },
  {
   "cell_type": "code",
   "execution_count": 3,
   "metadata": {},
   "outputs": [],
   "source": [
    "# spectral decomposition BM simulator\n",
    "# we use the same notation as lecture note 11.\n",
    "\n",
    "class BM_simulator:\n",
    "    \n",
    "    # ctor: simulate BM using spectral decomposition method.\n",
    "    # dt: simulation time step size\n",
    "    # n: dimension of BM\n",
    "    # p: turncate index\n",
    "    def __init__(self, dt, n, _p):\n",
    "        self.cov = np.ones((n, n))\n",
    "        self.p = _p\n",
    "        \n",
    "        for i in range(1, n+1):\n",
    "            for j in range(1, n+1):\n",
    "                self.cov[i-1, j-1] = min(i, j)*dt\n",
    "        \n",
    "        self.eval, self.evec = np.linalg.eig(self.cov)\n",
    "        \n",
    "        self.Wt = np.sum((np.sqrt(self.eval)*self.evec.T*np.random.normal(size=n))[:self.p],\\\n",
    "                         axis=0)\n",
    "        self.Wt = np.insert(self.Wt, 0, 0.0)\n",
    "        self.dWt = np.diff(self.Wt)\n",
    "    \n",
    "    # get BM increments at index t.\n",
    "    def get_BM_diff(self, t):\n",
    "        return self.dWt[t]"
   ]
  },
  {
   "cell_type": "markdown",
   "metadata": {},
   "source": [
    "- Define LIBOR (also OIS) curve class."
   ]
  },
  {
   "cell_type": "code",
   "execution_count": 4,
   "metadata": {},
   "outputs": [],
   "source": [
    "# LIBOR & OIS curve class.\n",
    "\n",
    "class Curve():\n",
    "    \n",
    "    # ctor\n",
    "    # input:\n",
    "    # _rates: ['rate', 'T'] in pd.df\n",
    "    # _spot_time: spot time in datetime\n",
    "    def __init__(self, _rates, _spot_time):\n",
    "        self.rates = _rates['rate']\n",
    "        self.Ts = _rates['T']\n",
    "        self.curve = splrep(self.Ts, self.rates)\n",
    "        self.spot_time = _spot_time\n",
    "    \n",
    "    # calculate discount factor between day1 and day2.\n",
    "    def df(self, day1, day2):\n",
    "        begin_time = date_diff(self.spot_time, day1)\n",
    "        end_time = date_diff(self.spot_time, day2)\n",
    "        \n",
    "        # get discount factor by integrating our curve.\n",
    "        return math.exp(-splint(begin_time, end_time, self.curve))\n",
    "    \n",
    "    # calculate forward (LIBOR) rate.\n",
    "    # S is start date, and T is maturity date.\n",
    "    # tenor = T - S\n",
    "    def fwd_rate(self, S, T):\n",
    "        begin_time = date_diff(self.spot_time, S)\n",
    "        end_time = date_diff(self.spot_time, T)\n",
    "        \n",
    "        # use formula to get forward LIBOR rate.\n",
    "        return (math.exp(splint(begin_time, end_time, self.curve))-1) / (end_time-begin_time)"
   ]
  },
  {
   "cell_type": "markdown",
   "metadata": {},
   "source": [
    "- Define a swap class."
   ]
  },
  {
   "cell_type": "code",
   "execution_count": 5,
   "metadata": {},
   "outputs": [],
   "source": [
    "# swap class\n",
    "class Swap():\n",
    "    \n",
    "    # ctor\n",
    "    def __init__(self, _LIBOR_curve, _OIS_curve, _spot_time):\n",
    "        self.LIBOR_curve = _LIBOR_curve\n",
    "        self.OIS_curve = _OIS_curve\n",
    "        self.spot_time = _spot_time\n",
    "    \n",
    "    # calculate spot or forward swap rate.\n",
    "    # K is strike.\n",
    "    def swap_rate(self, _maturity, K, start_year, libor_fwd, ois):\n",
    "        \n",
    "        # fixed leg, payement freq = 0.5Y\n",
    "        fixed_leg = 0\n",
    "        maturity = _maturity\n",
    "        while maturity > self.spot_time:\n",
    "            fixed_leg += 1/2 * self.OIS_curve.df(start_year, maturity+relativedelta(years=1))\\\n",
    "            * K\n",
    "            maturity -= relativedelta(months=6)\n",
    "            \n",
    "        # floating leg, payment freq = 0.25Y\n",
    "        maturity = _maturity\n",
    "        float_leg = 0\n",
    "        while maturity > self.spot_time:\n",
    "            float_leg += 1/4 * libor_fwd[int(date_diff(_maturity, maturity)*4)-1] *\\\n",
    "            ois.df(start_year, maturity+relativedelta(years=1))\n",
    "            maturity -= relativedelta(months=3)\n",
    "            \n",
    "        return float_leg/fixed_leg, float_leg, fixed_leg"
   ]
  },
  {
   "cell_type": "markdown",
   "metadata": {},
   "source": [
    "- Implement a simple 1-factor normal LMM using Euler's scheme.\n",
    "\n",
    "*Note that for this normal LIBOR market model, Euler's scheme and Milstein's sheme are the same.*"
   ]
  },
  {
   "cell_type": "code",
   "execution_count": 11,
   "metadata": {},
   "outputs": [],
   "source": [
    "# 1-factor normal LMM with Euler's scheme\n",
    "\n",
    "class LMM:\n",
    "    \n",
    "    # ctor\n",
    "    def __init__(self, _steps, _periods, _L0, _frozen_flag = False):\n",
    "        self.steps = _steps\n",
    "        self.periods = _periods\n",
    "        self.libor = np.ones((self.periods, self.steps+1))\n",
    "        self.libor[:, 0] = _L0\n",
    "        self.dt = 1.0/self.steps\n",
    "        self.vol = 0.0085  # given by the problem\n",
    "        self.fflag = _frozen_flag\n",
    "    \n",
    "    # simulate a LIBOR curve\n",
    "    def simulate_LIBOR(self):\n",
    "        \n",
    "        self.BM = BM_simulator(self.dt, self.steps, self.steps)\n",
    "        \n",
    "        for i in range(self.steps):\n",
    "            for j in range(self.periods):\n",
    "                self.drift = 0\n",
    "                \n",
    "                if self.fflag:\n",
    "                    for k in range(j, self.periods):\n",
    "                        self.drift -= 0.25*(self.vol**2)/(1.0+0.25*self.libor[k][0])\n",
    "                else:\n",
    "                    for k in range(j, self.periods):\n",
    "                        if i == 0:\n",
    "                            self.drift -= 0.25*(self.vol**2)/(1.0+0.25*self.libor[k][i])\n",
    "                        else:\n",
    "                            self.drift -= 0.25*(self.vol**2)/(1.0+0.25*self.libor[k][i-1])\n",
    "                \n",
    "                # update LIBOR by one time step.                \n",
    "                self.libor[j, i+1] = np.max(self.libor[j, i] + self.drift*self.dt+ self.vol*self.BM.get_BM_diff(i), 0)\n",
    "        return self.libor[:, -1]\n",
    "    \n",
    "    # use Monte Carlo method to price a swaption.\n",
    "    def pricing(self, ois, start_year, MC_iter, maturity, K):\n",
    "        res_sum = 0.0\n",
    "        \n",
    "        for i in range(MC_iter):\n",
    "            libor_fwd = self.simulate_LIBOR()\n",
    "            \n",
    "            T = np.linspace(1, 40, 40)\n",
    "            libor_dataframe = pd.DataFrame(np.array([T, libor_fwd]).T, columns=['T', 'rate'])\n",
    "            libor = Curve(libor_dataframe, start_year)\n",
    "            \n",
    "            # swap begins at one year from now.\n",
    "            swap = Swap(ois, libor, start_year-relativedelta(years=1))\n",
    "            \n",
    "            _, float_leg, fixed_leg = swap.swap_rate(maturity, K, start_year, libor_fwd, ois)\n",
    "            payoff = (fixed_leg-float_leg)*100.0\n",
    "            \n",
    "            res_sum += max(0, payoff)\n",
    "        \n",
    "        # suppose the spot date is 2000.01.01.\n",
    "        # actually this is not important.\n",
    "        res = res_sum / MC_iter * ois.df(date(2000, 1, 1), start_year)\n",
    "        \n",
    "        return res"
   ]
  },
  {
   "cell_type": "markdown",
   "metadata": {},
   "source": [
    "- Create LIBOR and OIS knot points."
   ]
  },
  {
   "cell_type": "code",
   "execution_count": 12,
   "metadata": {},
   "outputs": [],
   "source": [
    "T = [-3.0,-2.0,-1.0,0.0,1.0,2.0,3.0,5.0,7.0,10.0,15.0,20.0,25.0,31.0,32.0,33.0,34.0,35.0]\n",
    "LIBOR_res =  np.array([ 0.00948221,  0.01414217, -0.00916129,  0.00544859,  0.00697146,\\\n",
    "                0.00788897,  0.01306847,  0.02447046,  0.03070799,  0.03350761,\\\n",
    "                0.03243098,  0.02976297,  0.0296695 ,  0.02928756,  0.02442423,\\\n",
    "                0.00629273,  0.01080152,  0.00989981])\n",
    "\n",
    "OIS_res = np.array([ 0.00948221,  0.01414217, -0.00916129,  0.00544859,  0.00697146,\\\n",
    "                0.00788897,  0.01306847,  0.02447046,  0.03070799,  0.03350761,\\\n",
    "                0.03243098,  0.02976297,  0.0296695 ,  0.02928756,  0.02442423,\\\n",
    "                0.00629273,  0.01080152,  0.00989981])"
   ]
  },
  {
   "cell_type": "markdown",
   "metadata": {},
   "source": [
    "- Assume today is 2000.01.01. This will not affect our final result.\n",
    "- Create LIBOR and OIS curve objects."
   ]
  },
  {
   "cell_type": "code",
   "execution_count": 13,
   "metadata": {},
   "outputs": [],
   "source": [
    "spot_date = date(2000, 1, 1)\n",
    "\n",
    "libor_dataframe = pd.DataFrame(np.array([T, LIBOR_res]).T, columns=['T', 'rate'])\n",
    "ois_dataframe = pd.DataFrame(np.array([T, OIS_res]).T, columns=['T', 'rate'])\n",
    "\n",
    "libor = Curve(libor_dataframe, spot_date)\n",
    "ois = Curve(ois_dataframe, spot_date)"
   ]
  },
  {
   "cell_type": "markdown",
   "metadata": {},
   "source": [
    "- Create frozen and exact LMM objects."
   ]
  },
  {
   "cell_type": "code",
   "execution_count": 14,
   "metadata": {},
   "outputs": [],
   "source": [
    "steps, periods = 30, 40\n",
    "\n",
    "L0 = np.array([libor.fwd_rate(spot_date+relativedelta(years=(1+3*i//12))+relativedelta(month=3*i%12),\\\n",
    "                   spot_date+relativedelta(years=(1+3*(i+1)//12))+relativedelta(month=3*(i+1)%12))\\\n",
    "                   for i in range(periods)])\n",
    "LMM_frozen = LMM(steps, periods, L0, _frozen_flag=True)\n",
    "LMM_exact = LMM(steps, periods, L0, _frozen_flag=False)"
   ]
  },
  {
   "cell_type": "markdown",
   "metadata": {},
   "source": [
    "- Run these objects to price the swaption."
   ]
  },
  {
   "cell_type": "code",
   "execution_count": 15,
   "metadata": {},
   "outputs": [
    {
     "name": "stdout",
     "output_type": "stream",
     "text": [
      "Frozen curve approximation:\n",
      "2000 paths: 16.382674932479304\n",
      "Ruuning time: 70.3469717502594 seconds.\n",
      "5000 paths: 16.40246644060905\n",
      "Running time: 175.89171695709229 seconds.\n"
     ]
    }
   ],
   "source": [
    "print('Frozen curve approximation:')\n",
    "\n",
    "n = 2000\n",
    "start_time = time.time()\n",
    "print('2000 paths: {}'.format(LMM_frozen.pricing(ois, date(2001,1,1), n, maturity=date(2010,1,1), K=0.03872)))\n",
    "end_time = time.time()\n",
    "print('Ruuning time: {} seconds.'.format(end_time - start_time))\n",
    "\n",
    "n = 5000\n",
    "start_time = time.time()\n",
    "print('5000 paths: {}'.format(LMM_frozen.pricing(ois, date(2001,1,1), n, maturity=date(2010,1,1), K=0.03872)))\n",
    "end_time = time.time()\n",
    "print('Running time: {} seconds.'.format(end_time - start_time))"
   ]
  },
  {
   "cell_type": "code",
   "execution_count": 16,
   "metadata": {},
   "outputs": [
    {
     "name": "stdout",
     "output_type": "stream",
     "text": [
      "Exact pricing:\n",
      "2000 paths: 16.36837539898654\n",
      "Ruuning time: 74.63644695281982 seconds.\n",
      "5000 paths: 16.3940948507671\n",
      "Running time: 189.62006831169128 seconds.\n"
     ]
    }
   ],
   "source": [
    "print('Exact pricing:')\n",
    "\n",
    "n = 2000\n",
    "start_time = time.time()\n",
    "print('2000 paths: {}'.format(LMM_exact.pricing(ois, date(2001,1,1), n, maturity=date(2010,1,1), K=0.03872)))\n",
    "end_time = time.time()\n",
    "print('Ruuning time: {} seconds.'.format(end_time - start_time))\n",
    "\n",
    "n = 5000\n",
    "start_time = time.time()\n",
    "print('5000 paths: {}'.format(LMM_exact.pricing(ois, date(2001,1,1), n, maturity=date(2010,1,1), K=0.03872)))\n",
    "end_time = time.time()\n",
    "print('Running time: {} seconds.'.format(end_time - start_time))"
   ]
  },
  {
   "cell_type": "markdown",
   "metadata": {},
   "source": [
    "Observaton:\n",
    "1. Results from 2,000 paths are close to that from 5,000 paths in both methods, which means that using Monte Carlo to price swaption under LMM is robust.\n",
    "2. Frozen curve LMM yield very similar results to exact LMM.\n",
    "3. In either case, 5,000-path way takes much longer time than 2,000-path way, which is no surprise at all."
   ]
  },
  {
   "cell_type": "code",
   "execution_count": null,
   "metadata": {},
   "outputs": [],
   "source": []
  }
 ],
 "metadata": {
  "kernelspec": {
   "display_name": "Python 3",
   "language": "python",
   "name": "python3"
  },
  "language_info": {
   "codemirror_mode": {
    "name": "ipython",
    "version": 3
   },
   "file_extension": ".py",
   "mimetype": "text/x-python",
   "name": "python",
   "nbconvert_exporter": "python",
   "pygments_lexer": "ipython3",
   "version": "3.7.3"
  },
  "latex_envs": {
   "LaTeX_envs_menu_present": true,
   "autoclose": true,
   "autocomplete": true,
   "bibliofile": "biblio.bib",
   "cite_by": "apalike",
   "current_citInitial": 1,
   "eqLabelWithNumbers": false,
   "eqNumInitial": 1,
   "hotkeys": {
    "equation": "Ctrl-E",
    "itemize": "Ctrl-I"
   },
   "labels_anchors": false,
   "latex_user_defs": false,
   "report_style_numbering": false,
   "user_envs_cfg": false
  },
  "toc": {
   "base_numbering": 1,
   "nav_menu": {},
   "number_sections": true,
   "sideBar": true,
   "skip_h1_title": false,
   "title_cell": "Table of Contents",
   "title_sidebar": "Contents",
   "toc_cell": false,
   "toc_position": {},
   "toc_section_display": true,
   "toc_window_display": false
  },
  "varInspector": {
   "cols": {
    "lenName": 16,
    "lenType": 16,
    "lenVar": 40
   },
   "kernels_config": {
    "python": {
     "delete_cmd_postfix": "",
     "delete_cmd_prefix": "del ",
     "library": "var_list.py",
     "varRefreshCmd": "print(var_dic_list())"
    },
    "r": {
     "delete_cmd_postfix": ") ",
     "delete_cmd_prefix": "rm(",
     "library": "var_list.r",
     "varRefreshCmd": "cat(var_dic_list()) "
    }
   },
   "types_to_exclude": [
    "module",
    "function",
    "builtin_function_or_method",
    "instance",
    "_Feature"
   ],
   "window_display": false
  }
 },
 "nbformat": 4,
 "nbformat_minor": 2
}
