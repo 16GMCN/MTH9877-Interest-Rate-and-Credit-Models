{
 "cells": [
  {
   "cell_type": "markdown",
   "metadata": {},
   "source": [
    "### Q3"
   ]
  },
  {
   "cell_type": "markdown",
   "metadata": {},
   "source": [
    "#### (1)\n",
    "\n",
    "The closed form of $\\lambda(t)$ should be \n",
    "$$\n",
    "\\lambda(t)=\\lambda_0+\\theta t +\\sigma W(t)\n",
    "$$\n",
    "\n",
    "And the definition of price of protection leg is \n",
    "$$\n",
    "p^{protection}=(1-R)\\int_0^TE[\\lambda(s)e^{-\\int_0^s\\lambda(u)du}]e^{-rs}ds\n",
    "$$\n",
    "\n",
    "In order to get $p^{protection}$, we need to calculate $E[\\lambda(s)e^{-\\int_0^s\\lambda(u)du}]$, which is given by\n",
    "\n",
    "$$\n",
    "E[\\lambda(s)e^{-\\int_0^s\\lambda(u)du}]=(\\lambda_0+\\theta s)e^{-\\lambda_0 s -\\frac{1}{2}\\theta s^2}E[e^{-\\sigma\\int_0^sW(u)du}]+\\sigma e^{-\\lambda_0 s -\\frac{1}{2}\\theta s^2}E[W(s)e^{-\\sigma\\int_0^sW(u)du}]\n",
    "$$"
   ]
  },
  {
   "cell_type": "markdown",
   "metadata": {},
   "source": [
    "Because $\\int_0^s W(u)du = sW(s) - \\int_0^s udW(u)= \\int_0^s (s-u)dW(u)$, By Itô isometry, we have\n",
    "\n",
    "$$\n",
    " \\int_0^s (s-u)dW(u) \\sim  N(0, \\frac{s^3}{3})\n",
    "$$\n",
    "\n",
    "By the properity of log-normal distribution, we can easily get\n",
    "\n",
    "$$\n",
    "E[e^{-\\sigma\\int_0^sW(u)du}]=e^{\\frac{1}{6} \\sigma ^2 s^3}\n",
    "$$\n",
    "\n",
    "And\n",
    "\n",
    "$$\n",
    "E[W(s)e^{-\\sigma\\int_0^sW(u)du}]=-\\frac{1}{\\sigma}\\frac{d}{ds}E[e^{-\\sigma\\int_0^sW(u)du}]=-\\frac{1}{2}\\sigma s^2e^{\\frac{1}{6} \\sigma ^2 s^3}\n",
    "$$"
   ]
  },
  {
   "cell_type": "markdown",
   "metadata": {},
   "source": [
    "therefore\n",
    "\n",
    "$$\n",
    "p^{protection}=(1-R)\\int_0^T (\\lambda_0+\\theta s-\\frac{1}{2}\\sigma^2 s^2)e^{-\\lambda_0 s -\\frac{1}{2}\\theta s^2+\\frac{1}{6}\\sigma^2s^3}e^{-rs}ds\n",
    "$$"
   ]
  },
  {
   "cell_type": "markdown",
   "metadata": {},
   "source": [
    "#### (2)\n",
    "\n",
    "Anuity can be calculated similarly\n",
    "\n",
    "\n",
    "$$\n",
    "A=\\sum_j\\frac{1}{4}e^{-r t_j}E[e^{-\\int_0^{t_j}\\lambda(u)du}]+\\sum_j\\int_{T_{j-1}}^{T_j}(s-T_{j-1})e^{-rs}E[\\lambda e^{-\\int_0^{s}\\lambda(u)du}] ds\n",
    "$$\n",
    "\n",
    "by using the result of same expectaion from previous one\n",
    "\n",
    "$$\n",
    "A=\\sum_j \\frac{1}{4} e^{-\\lambda_0 t_j -\\frac{1}{2}\\theta t_j ^2+\\frac{1}{6}\\sigma^2t_j ^3}e^{-r t_j}+\\sum_j\\int_{T_{j-1}}^{T_j}(s-T_{j-1}) (\\lambda_0+\\theta s-\\frac{1}{2}\\sigma^2 s^2)e^{-\\lambda_0 s -\\frac{1}{2}\\theta s^2+\\frac{1}{6}\\sigma^2s^3}e^{-rs}ds\n",
    "$$"
   ]
  },
  {
   "cell_type": "markdown",
   "metadata": {},
   "source": [
    "#### (3)\n",
    "\n",
    "\n",
    "Par coupon rate is given by\n",
    "\n",
    "$$\n",
    "c=\\frac{p^{protection}}{A}\n",
    "$$\n"
   ]
  },
  {
   "cell_type": "markdown",
   "metadata": {},
   "source": [
    "### Q5"
   ]
  },
  {
   "cell_type": "markdown",
   "metadata": {},
   "source": [
    "From the question, we know that the portfolio value process is given by\n",
    "\n",
    "$$\n",
    "V(t)=\\sum_{i=1}^n w_i(t)S_i(t)\n",
    "$$\n",
    "\n",
    "with\n",
    "\n",
    "$$\n",
    "dV(t)=\\sum_{i=1}^n w_i(t)dS_i(t)\n",
    "$$\n",
    "\n",
    "Divide the first equation on both sides by the numeraire process $\\mathcal{N}(t)$, we instantly get\n",
    "\n",
    "$$\n",
    "V^\\mathcal{N}(t)\\equiv\\frac{V(t)}{\\mathcal{N}(t)}=\\sum_{i=1}^n w_i(t)S^\\mathcal{N}_i(t)\n",
    "$$"
   ]
  },
  {
   "cell_type": "markdown",
   "metadata": {},
   "source": [
    "In order to further prove that $V^{\\mathcal{N}}(t)$ is also self-financing under numeraire $\\mathcal{N}(t)$, we first notice that according to Ito's Lemma,\n",
    "\n",
    "$$\n",
    "d(\\frac1{\\mathcal{N}(t)})=-\\frac1{\\mathcal{N}(t)^2}d\\mathcal{N}(t)+\\frac1{\\mathcal{N}(t)^3}d\\mathcal{N}(t)d\\mathcal{N}(t)\n",
    "$$\n",
    "\n",
    "Using $V(t)=\\sum_{i=1}^n w_i(t)S_i(t)$, $dV(t)=\\sum_{i=1}^n w_i(t)dS_i(t)$ and Ito product rule $d(XY)=XdY+YdX+dXdY$, we have\n",
    "\n",
    "$$\n",
    "\\begin{aligned}\n",
    "d(\\frac{V(t)}{\\mathcal{N}(t)})&=V(t)d(\\frac1{\\mathcal{N}(t)})+\\frac{dV(t)}{\\mathcal{N}(t)}+dV(t)d(\\frac1{\\mathcal{N}(t)})\\\\\n",
    "&=\\sum_i w_i(t)S_i(t)[-\\frac1{\\mathcal{N}(t)^2}{d\\mathcal{N}(t)}+\\frac1{\\mathcal{N}(t)^3}d\\mathcal{N}(t)d\\mathcal{N}(t)]+\\sum_i w_i(t)\\frac{dS_i(t)}{\\mathcal{N}(t)}+\\sum_iw_i(t)dS_i(t)[-\\frac1{\\mathcal{N}(t)^2}{d\\mathcal{N}(t)}+\\frac1{\\mathcal{N}(t)^3}d\\mathcal{N}(t)d\\mathcal{N}(t)]\\\\\n",
    "&=\\sum_i w_i(t)\\{\\frac1{\\mathcal{N}(t)}dS_i(t)-\\frac{S_i(t)}{\\mathcal{N}(t)^2}d\\mathcal{N}(t)-\\frac1{\\mathcal{N}(t)^2}d[S_i,\\mathcal{N}](t)+\\frac{S_i(t)}{\\mathcal{N}(t)^3}d[\\mathcal{N},\\mathcal{N}](t)\\}\n",
    "\\end{aligned}\n",
    "$$\n",
    "\n",
    "Note that we use $dS_i(t)d\\mathcal{N}(t)d\\mathcal{N}(t)=0$ to derive the last equation.\n"
   ]
  },
  {
   "cell_type": "markdown",
   "metadata": {},
   "source": [
    "Because\n",
    "\n",
    "$$\n",
    "dS^\\mathcal{N}_i(t)=d(\\frac{S(t)}{\\mathcal{N}(t)}) = \\frac1{\\mathcal{N}(t)}dS_i(t)-\\frac{S_i(t)}{\\mathcal{N}(t)^2}d\\mathcal{N}(t)-\\frac1{\\mathcal{N}(t)^2}d[S_i,\\mathcal{N}](t)+\\frac{S_i(t)}{\\mathcal{N}(t)^3}d[\\mathcal{N},\\mathcal{N}](t)\n",
    "$$\n",
    "\n",
    "So the by the right hand side of last equation\n",
    "$$\n",
    "d(\\frac{V(t)}{\\mathcal{N}(t)})=\\sum_i \\omega_i(t)dS^\\mathcal{N}_i(t)\n",
    "$$\n",
    "\n",
    "Thus we prove that $V^{\\mathcal{N}}(t)$ is also a self-financing portfolio process."
   ]
  },
  {
   "cell_type": "code",
   "execution_count": null,
   "metadata": {},
   "outputs": [],
   "source": []
  }
 ],
 "metadata": {
  "kernelspec": {
   "display_name": "Python 3",
   "language": "python",
   "name": "python3"
  },
  "language_info": {
   "codemirror_mode": {
    "name": "ipython",
    "version": 3
   },
   "file_extension": ".py",
   "mimetype": "text/x-python",
   "name": "python",
   "nbconvert_exporter": "python",
   "pygments_lexer": "ipython3",
   "version": "3.7.2"
  }
 },
 "nbformat": 4,
 "nbformat_minor": 2
}
