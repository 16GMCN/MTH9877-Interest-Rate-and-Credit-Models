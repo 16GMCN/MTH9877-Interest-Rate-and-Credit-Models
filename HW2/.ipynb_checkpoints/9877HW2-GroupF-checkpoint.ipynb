{
 "cells": [
  {
   "cell_type": "markdown",
   "metadata": {},
   "source": [
    "# Group F\n",
    "* Shenyi Mao\n",
    "* Chenyu Zhao\n",
    "* Zichao Wang\n",
    "* Mingxiang Jia\n",
    "\n",
    "## HW 2"
   ]
  },
  {
   "cell_type": "markdown",
   "metadata": {},
   "source": [
    "## Question 1\n",
    "Assume an interest rate model with a constant instantaneous OIS rate $r$, and a constant instantaneous LIBOR rate $l$. \n",
    "Consider a spot starting swap maturing $T$ years from now ($T$ is an integer). For simplicity, assume that the coupon dates on both fixed and floating legs are equally spaced with all day count fractions equal to 0.5 and 0.25, respectively. Also, for simplicity, neglect the 2 business day lag between LIBOR fixing and start of an accrual period.\n",
    "\n",
    "(i) Find an explicit expression for the values of both legs of of the swap\n",
    "\n",
    "(ii) Determine the par coupon on the swap."
   ]
  },
  {
   "cell_type": "markdown",
   "metadata": {},
   "source": [
    "### Solution:"
   ]
  },
  {
   "cell_type": "markdown",
   "metadata": {},
   "source": [
    "\n",
    "\n",
    "#### (i)\n",
    "We assume an unit principle. \n",
    "##### Floating leg: \n",
    "The floating leg has a constant instantaneous LIBOR rate $l$, and is payed quarterly. Thus the LIBOR payment leg, has a valuation function as :\n",
    "$$\n",
    "P_0^{float}(0) = \\sum_{1\\leq j \\leq 4T}\\delta_j L_j P_0(0,T_j^f)\n",
    "$$\n",
    "where $$\\delta_j = 0.25, $$\n",
    "$$T_j^f = 0.25*j,$$\n",
    "$$L_j= L_0(T_{j-1}^f,T_{j}^f) =\\frac{e^{l\\delta_j}-1}{\\delta_j}.$$\n",
    "The instantaneous OIS rate is constant r, thus,\n",
    "$$P_0(0,T_j^f) = e^{-rT_j^f}.\n",
    "$$\n",
    "Therefore, $$\n",
    "\\begin{eqnarray*}\n",
    "P_0^{float}(0)  &=& \\sum_{1\\leq j \\leq 4T} (e^{\\frac l4}-1)e^{-r\\frac j4}\\\\\n",
    "&=&\\frac{ (e^{\\frac l4}-1)(1-e^{rT})}{e^{\\frac r4}-1}\\end{eqnarray*}\n",
    "$$\n",
    "##### Fix leg: \n",
    "Assume the fix coupon per unit principle is C. \n",
    "$$\n",
    "P_0^{fix}(0) = \\sum_{1\\leq j \\leq 2T}\\alpha_j C P_0(0,T_j^c)\n",
    "$$\n",
    "where $$\\alpha_j = 0.5, $$\n",
    "$$T_j^c = 0.5*j,$$\n",
    "$$P_0(0,T_j^c) = e^{-rT_j^c}.$$\n",
    "\n",
    "Therefore, $$\n",
    "\\begin{eqnarray*}\n",
    "P_0^{fix}(0)  &=& \\sum_{1\\leq j \\leq 2T} \\frac c2 e^{-r\\frac j2}\\\\\n",
    "&=&\\frac c2 \\frac{1-e^{-rT}}{e^{\\frac r2}-1}\\end{eqnarray*}\n",
    "$$\n",
    "\n",
    "##### The explicit expression:\n",
    "$$\n",
    "P_0^{fix}(0)  =\\frac c2 \\frac{1-e^{-rT}}{e^{\\frac r2}-1}\n",
    "$$\n",
    "$$\n",
    "P_0^{float}(0)  =\\frac{ (e^{\\frac l4}-1)(1-e^{-rT})}{e^{\\frac r4}-1}\n",
    "$$\n",
    "\n",
    "\n",
    "\n",
    "\n",
    "\n",
    "#### (ii)\n",
    "A break-even swap has zero PV, thus requires par coupon C* satisfies:\n",
    "$$P_0^{fix}(0) = \\frac {C*}2 \\frac{1-e^{-rT}}{e^{\\frac r2}-1} =P_0^{float}(0)  =\\frac{ (e^{\\frac l4}-1)(1-e^{-rT})}{e^{\\frac r4}-1}$$\n",
    "$$\\Rightarrow C* = 2*(e^{\\frac l4}-1)(e^{\\frac r4}+1)\n",
    "$$"
   ]
  },
  {
   "cell_type": "markdown",
   "metadata": {},
   "source": [
    "## Note!\n",
    "\n",
    "In Question1 , all the expressions are of unit currency. To get real numbers we need to multiply by the principle, say as, N. "
   ]
  },
  {
   "cell_type": "markdown",
   "metadata": {},
   "source": [
    "## Question 2 \n",
    "\n",
    "Consider a credit model with a constant intensity $\\lambda$,and a constant discounting (OIS) rate $r$. Consider a new CDS starting on a roll date and maturing $T$ years from now ($T$ is an integer) . For simplicity, assume that the roll dates are equally spaced with all day count fractions equal 0.25. The recovery rate is assumed to be $R$.\n",
    "\n",
    "(i) Find an explicit expression for the value of the protection leg of the swap.\n",
    "\n",
    "(ii) Find an explicit expression for the risky annuity.\n",
    "\n",
    "(iii) Determine the par spread on the swap."
   ]
  },
  {
   "cell_type": "markdown",
   "metadata": {},
   "source": [
    "### Solution: "
   ]
  },
  {
   "cell_type": "markdown",
   "metadata": {},
   "source": [
    "#### (i) \n",
    "From the lecture note we can write the value of the protection leg as :\n",
    "$$V_{prot}(T)= -(1-R) \\int _0^T P(0,s)dS(0,s).\n",
    "$$\n",
    "\n",
    "According to the question, we have \n",
    "$$P(0,s) = e^{-rs},$$\n",
    "and \n",
    "$$S(0,s) = e^{-\\lambda s}.\n",
    "$$\n",
    "\n",
    "Therefore, \n",
    "$$\n",
    "\\begin{eqnarray*}\n",
    "V_{prot}(T)&=& -(1-R) \\int _0^T P(0,s)dS(0,s)\\\\\n",
    "&=& -(1-R) \\int _0^T  e^{-rs} de^{-\\lambda s}\\\\\n",
    "&=& \\lambda (1-R) \\int _0^T  e^{-(r+\\lambda)s} ds\\\\\n",
    "&=& \\frac{\\lambda (1-R)}{r+\\lambda} (1-e^{-(r+\\lambda)T})\\end{eqnarray*}\n",
    "$$"
   ]
  },
  {
   "cell_type": "markdown",
   "metadata": {},
   "source": [
    "#### (ii)"
   ]
  },
  {
   "cell_type": "markdown",
   "metadata": {},
   "source": [
    "Assume the annualized coupon is C. From the lecture we can write the value of the premium leg as :\n",
    "$$V_{prem}(T)= C\\sum _{1\\leq j \\leq 4T} \\delta_jP(0,T_j)S(0,T_j) - C\\sum_{1\\leq j \\leq 4T}\\int_{T_{j-1}}^{T_j}(s-T_{j-1})P(0,s)dS(0,s),\n",
    "$$\n",
    "\n",
    "\n",
    "\n",
    "where$$\\delta_j = 0.25 \\,\\,, T_j = \\frac j4$$ and other notations are same as in $(i)$."
   ]
  },
  {
   "cell_type": "markdown",
   "metadata": {},
   "source": [
    "We can calculate: \n",
    "$$\n",
    "\\begin{eqnarray*}\n",
    "\\sum _{1\\leq j \\leq 4T} \\delta_jP(0,T_j)S(0,T_j)  &=& \\frac 14 \\sum _{1\\leq j \\leq 4T} e^{-(r+\\lambda)\\frac j4}\\\\\n",
    "&=& \\frac 14 \\frac{1-e^{-(r+\\lambda)T}}{e^{\\frac{r+\\lambda}{4}}-1}\\end{eqnarray*}\n",
    "$$\n",
    "and "
   ]
  },
  {
   "cell_type": "markdown",
   "metadata": {},
   "source": [
    "$$\n",
    "\\begin{eqnarray*}\n",
    "\\sum_{1\\leq j \\leq 4T}\\int_{T_{j-1}}^{T_j}(s-T_{j-1})P(0,s)dS(0,s)\n",
    "&=&\\sum_{1\\leq j \\leq 4T}\\int_{T_{j-1}}^{T_j}(s-T_{j-1})e^{-r(s-T_{j-1})}e^{-rT_{j-1}}e^{-\\lambda(s-T_{j-1})}e^{-\\lambda T_{j-1}}ds\\\\\n",
    "&=& \\sum_{1\\leq j \\leq 4T} e^{-(r+\\lambda)(j-1)/4} \\int_0^{\\frac 14} se^{-(r+\\lambda)s}ds\\\\\n",
    "&=& \\int_0^{\\frac 14} se^{-(r+\\lambda)s}ds\\sum_{1\\leq j \\leq 4T} e^{-(r+\\lambda)(j-1)/4} \\\\\n",
    "&=&\\left[ \\frac{1-e^{-(r+\\lambda)/4}}{(r+\\lambda)^2} -  \\frac{e^{-(r+\\lambda)/4}}{4(r+\\lambda)}\\right] \\sum_{1\\leq j \\leq 4T} e^{-(r+\\lambda)(j-1)/4} \\\\\n",
    "&=& \\left[ \\frac{1-e^{-(r+\\lambda)/4}}{(r+\\lambda)^2} -  \\frac{e^{-(r+\\lambda)/4}}{4(r+\\lambda)}\\right]  \\frac{1-e^{-(r+\\lambda)T}}{1-e^{-\\frac{r+\\lambda}{4}}}\\\\\n",
    "&=& \\frac{1-e^{-(r+\\lambda)T}}{(r+\\lambda)^2} - \\frac{1-e^{-(r+\\lambda)T}}{4(r+\\lambda)(e^{(r+\\lambda)/4}-1)}\n",
    "\\end{eqnarray*}\n",
    "$$"
   ]
  },
  {
   "cell_type": "markdown",
   "metadata": {},
   "source": [
    "Therefore, \n",
    "$$\n",
    "V_{prem}(T)= C A(T), \n",
    "$$\n",
    "where \n",
    "$$A(T) = \\frac 14 \\frac{1-e^{-(r+\\lambda)T}}{e^{(r+\\lambda)/4}-1} - \\frac{1-e^{-(r+\\lambda)T}}{(r+\\lambda)^2}+\\frac{1-e^{-(r+\\lambda)T}}{4(r+\\lambda)(e^{(r+\\lambda)/4}-1)}\n",
    "$$"
   ]
  },
  {
   "cell_type": "markdown",
   "metadata": {},
   "source": [
    "#### (iii)\n",
    "The par credit spread of this swap should satisfy \n",
    "$$V_{prem}(T)= C A(T) = V_{prot}(T) = \\frac{\\lambda (1-R)}{r+\\lambda} (1-e^{-(r+\\lambda)T})$$,\n",
    "\n",
    "$$\\Rightarrow C* = \\frac{\\frac{\\lambda (1-R)}{r+\\lambda} (1-e^{-(r+\\lambda)T})}{A(T)}$$\n",
    "\n",
    "\n",
    "$$\\Rightarrow C* = \\frac{\\lambda(1-R)}{\\frac{r+\\lambda}{4(e^{(r+\\lambda)/4}-1)}-\\frac{1}{r+\\lambda}+\\frac{1}{4(e^{(r+\\lambda)/4}-1}}$$"
   ]
  },
  {
   "cell_type": "markdown",
   "metadata": {},
   "source": [
    "## Question 3\n",
    "\n",
    "Repeat Problem 2 assuming a constant discounting rate r and the stochastic\n",
    "intensity $\\lambda(t)$ introduced in Problem 4 of Homework Assignment #1."
   ]
  },
  {
   "cell_type": "markdown",
   "metadata": {},
   "source": [
    "### Solution:"
   ]
  },
  {
   "cell_type": "markdown",
   "metadata": {},
   "source": [
    "#### (i)\n",
    "\n",
    "The closed form of $\\lambda(t)$ should be \n",
    "$$\n",
    "\\lambda(t)=\\lambda_0+\\theta t +\\sigma W(t)\n",
    "$$\n",
    "\n",
    "And the definition of price of protection leg is \n",
    "$$\n",
    "p^{protection}=(1-R)\\int_0^TE[\\lambda(s)e^{-\\int_0^s\\lambda(u)du}]e^{-rs}ds\n",
    "$$\n",
    "\n",
    "In order to get $p^{protection}$, we need to calculate $E[\\lambda(s)e^{-\\int_0^s\\lambda(u)du}]$, which is given by\n",
    "\n",
    "$$\n",
    "E[\\lambda(s)e^{-\\int_0^s\\lambda(u)du}]=(\\lambda_0+\\theta s)e^{-\\lambda_0 s -\\frac{1}{2}\\theta s^2}E[e^{-\\sigma\\int_0^sW(u)du}]+\\sigma e^{-\\lambda_0 s -\\frac{1}{2}\\theta s^2}E[W(s)e^{-\\sigma\\int_0^sW(u)du}]\n",
    "$$\n",
    "\n",
    "Because $\\int_0^s W(u)du = sW(s) - \\int_0^s udW(u)= \\int_0^s (s-u)dW(u)$, By Itô isometry, we have\n",
    "\n",
    "$$\n",
    " \\int_0^s (s-u)dW(u) \\sim  N(0, \\frac{s^3}{3})\n",
    "$$\n",
    "\n",
    "By the properity of log-normal distribution, we can easily get\n",
    "\n",
    "$$\n",
    "E[e^{-\\sigma\\int_0^sW(u)du}]=e^{\\frac{1}{6} \\sigma ^2 s^3}\n",
    "$$\n",
    "\n",
    "And\n",
    "\n",
    "$$\n",
    "E[W(s)e^{-\\sigma\\int_0^sW(u)du}]=-\\frac{1}{\\sigma}\\frac{d}{ds}E[e^{-\\sigma\\int_0^sW(u)du}]=-\\frac{1}{2}\\sigma s^2e^{\\frac{1}{6} \\sigma ^2 s^3}\n",
    "$$\n",
    "\n",
    "therefore\n",
    "\n",
    "$$\n",
    "p^{protection}=(1-R)\\int_0^T (\\lambda_0+\\theta s-\\frac{1}{2}\\sigma^2 s^2)e^{-\\lambda_0 s -\\frac{1}{2}\\theta s^2+\\frac{1}{6}\\sigma^2s^3}e^{-rs}ds\n",
    "$$\n",
    "\n",
    "#### (ii)\n",
    "\n",
    "Anuity can be calculated similarly\n",
    "\n",
    "\n",
    "$$\n",
    "A=\\sum_j\\frac{1}{4}e^{-r t_j}E[e^{-\\int_0^{t_j}\\lambda(u)du}]+\\sum_j\\int_{T_{j-1}}^{T_j}(s-T_{j-1})e^{-rs}E[\\lambda e^{-\\int_0^{s}\\lambda(u)du}] ds\n",
    "$$\n",
    "\n",
    "by using the result of same expectaion from previous one\n",
    "\n",
    "$$\n",
    "A=\\sum_j \\frac{1}{4} e^{-\\lambda_0 t_j -\\frac{1}{2}\\theta t_j ^2+\\frac{1}{6}\\sigma^2t_j ^3}e^{-r t_j}+\\sum_j\\int_{T_{j-1}}^{T_j}(s-T_{j-1}) (\\lambda_0+\\theta s-\\frac{1}{2}\\sigma^2 s^2)e^{-\\lambda_0 s -\\frac{1}{2}\\theta s^2+\\frac{1}{6}\\sigma^2s^3}e^{-rs}ds\n",
    "$$\n",
    "\n",
    "#### (iii)\n",
    "\n",
    "\n",
    "Par coupon rate is given by\n",
    "\n",
    "$$\n",
    "c=\\frac{p^{protection}}{A}\n",
    "$$"
   ]
  },
  {
   "cell_type": "markdown",
   "metadata": {},
   "source": [
    "## Question 4"
   ]
  },
  {
   "cell_type": "code",
   "execution_count": 1,
   "metadata": {},
   "outputs": [],
   "source": [
    "import numpy as np\n",
    "import pandas as pd\n",
    "from matplotlib import pyplot as plt\n",
    "%matplotlib inline"
   ]
  },
  {
   "cell_type": "code",
   "execution_count": 2,
   "metadata": {},
   "outputs": [
    {
     "data": {
      "text/html": [
       "<div>\n",
       "<style scoped>\n",
       "    .dataframe tbody tr th:only-of-type {\n",
       "        vertical-align: middle;\n",
       "    }\n",
       "\n",
       "    .dataframe tbody tr th {\n",
       "        vertical-align: top;\n",
       "    }\n",
       "\n",
       "    .dataframe thead th {\n",
       "        text-align: right;\n",
       "    }\n",
       "</style>\n",
       "<table border=\"1\" class=\"dataframe\">\n",
       "  <thead>\n",
       "    <tr style=\"text-align: right;\">\n",
       "      <th></th>\n",
       "      <th>1Y</th>\n",
       "      <th>2Y</th>\n",
       "      <th>3Y</th>\n",
       "      <th>4Y</th>\n",
       "      <th>5Y</th>\n",
       "      <th>7Y</th>\n",
       "      <th>10Y</th>\n",
       "    </tr>\n",
       "    <tr>\n",
       "      <th>Name</th>\n",
       "      <th></th>\n",
       "      <th></th>\n",
       "      <th></th>\n",
       "      <th></th>\n",
       "      <th></th>\n",
       "      <th></th>\n",
       "      <th></th>\n",
       "    </tr>\n",
       "  </thead>\n",
       "  <tbody>\n",
       "    <tr>\n",
       "      <th>GE</th>\n",
       "      <td>0.001935</td>\n",
       "      <td>0.002545</td>\n",
       "      <td>0.003185</td>\n",
       "      <td>0.00380</td>\n",
       "      <td>0.00479</td>\n",
       "      <td>0.007100</td>\n",
       "      <td>0.009360</td>\n",
       "    </tr>\n",
       "    <tr>\n",
       "      <th>JPM</th>\n",
       "      <td>0.003880</td>\n",
       "      <td>0.005150</td>\n",
       "      <td>0.006145</td>\n",
       "      <td>0.00725</td>\n",
       "      <td>0.00896</td>\n",
       "      <td>0.011105</td>\n",
       "      <td>0.013170</td>\n",
       "    </tr>\n",
       "    <tr>\n",
       "      <th>Axis</th>\n",
       "      <td>0.015250</td>\n",
       "      <td>0.020075</td>\n",
       "      <td>0.023575</td>\n",
       "      <td>0.02413</td>\n",
       "      <td>0.02642</td>\n",
       "      <td>0.026980</td>\n",
       "      <td>0.027205</td>\n",
       "    </tr>\n",
       "    <tr>\n",
       "      <th>MBIA</th>\n",
       "      <td>0.039335</td>\n",
       "      <td>0.046320</td>\n",
       "      <td>0.056325</td>\n",
       "      <td>0.06964</td>\n",
       "      <td>0.07272</td>\n",
       "      <td>0.074940</td>\n",
       "      <td>0.073550</td>\n",
       "    </tr>\n",
       "  </tbody>\n",
       "</table>\n",
       "</div>"
      ],
      "text/plain": [
       "            1Y        2Y        3Y       4Y       5Y        7Y       10Y\n",
       "Name                                                                    \n",
       "GE    0.001935  0.002545  0.003185  0.00380  0.00479  0.007100  0.009360\n",
       "JPM   0.003880  0.005150  0.006145  0.00725  0.00896  0.011105  0.013170\n",
       "Axis  0.015250  0.020075  0.023575  0.02413  0.02642  0.026980  0.027205\n",
       "MBIA  0.039335  0.046320  0.056325  0.06964  0.07272  0.074940  0.073550"
      ]
     },
     "execution_count": 2,
     "metadata": {},
     "output_type": "execute_result"
    }
   ],
   "source": [
    "data = pd.read_excel(\"CDS_spreads.xlsx\", index_col=0)/(10000)\n",
    "data"
   ]
  },
  {
   "cell_type": "markdown",
   "metadata": {},
   "source": [
    "* (i)"
   ]
  },
  {
   "cell_type": "code",
   "execution_count": 3,
   "metadata": {},
   "outputs": [],
   "source": [
    "# (i) Build survival curves for each of these names\n",
    "def coupon(lambda_, prev_lambda, t, r=0.015, rec=0.4, n_step=12):\n",
    "    # a vector of time point: Dividing each year into n_step equal-length intervals\n",
    "    t_vec = np.array([0]+[1/n_step for j in range(len(t)-1) for i in range((t[j+1]-t[j])*n_step)])\n",
    "    \n",
    "    tmp = prev_lambda.copy() + [lambda_]\n",
    "    # a vector of lambda corresponding to each time point\n",
    "    lambda_vec = np.array([0]+[tmp[j] for j in range(len(tmp)) for i in range((t[j+1]-t[j])*n_step)])\n",
    "    \n",
    "    discount = np.cumproduct(np.exp(-r*t_vec))\n",
    "    survival_prob = np.cumproduct(np.exp(-lambda_vec*t_vec))\n",
    "    \n",
    "    # pricing the protection leg v and the premium leg a\n",
    "    v = -0.5 * (1-rec) * np.sum((discount[:-1]+discount[1:])*np.diff(survival_prob))\n",
    "    a = 0.5 * 0.25 * np.sum(discount[4::4]*(survival_prob[::4][:-1]+survival_prob[::4][1:]))\n",
    "    return v/a\n",
    "    \n",
    "def solver(f, x0, x1, tol=1e-5):\n",
    "    # solve f(x)=0 using secant method\n",
    "    while abs(f(x1)) > tol and abs(x1-x0) > tol:\n",
    "        tmp = x1 - (x1-x0)*f(x1)/(f(x1)-f(x0))\n",
    "        x0 = x1\n",
    "        x1 = tmp\n",
    "    return x1\n",
    "\n",
    "def calc_lambda(par_spread, t, rec=0.4):\n",
    "    lambda_list = []\n",
    "    for i in range(len(par_spread)):\n",
    "        x0 = par_spread[i]/(1-rec) # credit triangle: lambda = C0/(1-Rec)\n",
    "        x1 = solver(lambda x: coupon(x, lambda_list, t[:i+2])-par_spread[i], x0, 0.95*x0)\n",
    "        lambda_list.append(x1)\n",
    "    return lambda_list"
   ]
  },
  {
   "cell_type": "code",
   "execution_count": 4,
   "metadata": {},
   "outputs": [
    {
     "data": {
      "text/plain": [
       "<matplotlib.legend.Legend at 0x294764b4fd0>"
      ]
     },
     "execution_count": 4,
     "metadata": {},
     "output_type": "execute_result"
    },
    {
     "data": {
      "image/png": "[encoded data removed]",
      "text/plain": [
       "<Figure size 432x288 with 1 Axes>"
      ]
     },
     "metadata": {},
     "output_type": "display_data"
    }
   ],
   "source": [
    "# plot out lambda\n",
    "m, n = data.shape\n",
    "t = [0, 1, 2, 3, 4, 5, 7, 10]\n",
    "lambda_matrix = []\n",
    "fig, ax = plt.subplots()\n",
    "for i in range(m):\n",
    "    result = calc_lambda(data.iloc[i,:].values, t)\n",
    "    lambda_matrix.append(result)\n",
    "    ax.step(t[1:],result,label=data.index[i])\n",
    "plt.xlabel(\"Year\")\n",
    "plt.ylabel(r\"$\\lambda$\")\n",
    "ax.legend()"
   ]
  },
  {
   "cell_type": "code",
   "execution_count": 5,
   "metadata": {},
   "outputs": [],
   "source": [
    "# (i) build the survival curves for each of these names\n",
    "lambda_matrix = np.array(lambda_matrix)\n",
    "def survival_prob(lambda_list, t, n_step=12):\n",
    "    # a vector of time point: Dividing each year into n_step equal-length intervals\n",
    "    t_vec = np.array([0]+[1/n_step for j in range(len(t)-1) for i in range((t[j+1]-t[j])*n_step)])\n",
    "    # a vector of lambda corresponding to each time point\n",
    "    lambda_vec = np.array([0]+[lambda_list[j] for j in range(len(lambda_list)) for i in range((t[j+1]-t[j])*n_step)])\n",
    "    survival_prob = np.cumproduct(np.exp(-lambda_vec*t_vec))\n",
    "    return survival_prob"
   ]
  },
  {
   "cell_type": "code",
   "execution_count": 6,
   "metadata": {},
   "outputs": [
    {
     "data": {
      "text/plain": [
       "<matplotlib.legend.Legend at 0x294765b0908>"
      ]
     },
     "execution_count": 6,
     "metadata": {},
     "output_type": "execute_result"
    },
    {
     "data": {
      "image/png": "[encoded data removed]",
      "text/plain": [
       "<Figure size 432x288 with 1 Axes>"
      ]
     },
     "metadata": {},
     "output_type": "display_data"
    }
   ],
   "source": [
    "fig, ax = plt.subplots()\n",
    "survival_prob_matrix = []\n",
    "for i in range(4):\n",
    "    company_survival_prob = survival_prob(lambda_matrix[i,:],t)\n",
    "    ax.plot(company_survival_prob,label=data.index[i])\n",
    "    survival_prob_matrix.append(company_survival_prob)\n",
    "plt.xlabel(\"# month\")\n",
    "plt.ylabel(\"P(default)\")\n",
    "plt.title(\"Survival CDS curve\")\n",
    "ax.legend()"
   ]
  },
  {
   "cell_type": "markdown",
   "metadata": {},
   "source": [
    "* (ii)"
   ]
  },
  {
   "cell_type": "code",
   "execution_count": 7,
   "metadata": {},
   "outputs": [
    {
     "data": {
      "text/html": [
       "<div>\n",
       "<style scoped>\n",
       "    .dataframe tbody tr th:only-of-type {\n",
       "        vertical-align: middle;\n",
       "    }\n",
       "\n",
       "    .dataframe tbody tr th {\n",
       "        vertical-align: top;\n",
       "    }\n",
       "\n",
       "    .dataframe thead th {\n",
       "        text-align: right;\n",
       "    }\n",
       "</style>\n",
       "<table border=\"1\" class=\"dataframe\">\n",
       "  <thead>\n",
       "    <tr style=\"text-align: right;\">\n",
       "      <th></th>\n",
       "      <th>1</th>\n",
       "      <th>2</th>\n",
       "      <th>3</th>\n",
       "      <th>4</th>\n",
       "      <th>5</th>\n",
       "      <th>7</th>\n",
       "      <th>10</th>\n",
       "    </tr>\n",
       "    <tr>\n",
       "      <th>Name</th>\n",
       "      <th></th>\n",
       "      <th></th>\n",
       "      <th></th>\n",
       "      <th></th>\n",
       "      <th></th>\n",
       "      <th></th>\n",
       "      <th></th>\n",
       "    </tr>\n",
       "  </thead>\n",
       "  <tbody>\n",
       "    <tr>\n",
       "      <th>GE</th>\n",
       "      <td>0.002410</td>\n",
       "      <td>0.006340</td>\n",
       "      <td>0.011903</td>\n",
       "      <td>0.018927</td>\n",
       "      <td>0.029839</td>\n",
       "      <td>0.061717</td>\n",
       "      <td>0.114458</td>\n",
       "    </tr>\n",
       "    <tr>\n",
       "      <th>JPM</th>\n",
       "      <td>0.004826</td>\n",
       "      <td>0.012795</td>\n",
       "      <td>0.022844</td>\n",
       "      <td>0.035836</td>\n",
       "      <td>0.055215</td>\n",
       "      <td>0.094635</td>\n",
       "      <td>0.156439</td>\n",
       "    </tr>\n",
       "    <tr>\n",
       "      <th>Axis</th>\n",
       "      <td>0.018835</td>\n",
       "      <td>0.049064</td>\n",
       "      <td>0.085216</td>\n",
       "      <td>0.114344</td>\n",
       "      <td>0.154115</td>\n",
       "      <td>0.212398</td>\n",
       "      <td>0.290494</td>\n",
       "    </tr>\n",
       "    <tr>\n",
       "      <th>MBIA</th>\n",
       "      <td>0.047863</td>\n",
       "      <td>0.109664</td>\n",
       "      <td>0.193415</td>\n",
       "      <td>0.305474</td>\n",
       "      <td>0.379011</td>\n",
       "      <td>0.495922</td>\n",
       "      <td>0.608621</td>\n",
       "    </tr>\n",
       "  </tbody>\n",
       "</table>\n",
       "</div>"
      ],
      "text/plain": [
       "            1         2         3         4         5         7         10\n",
       "Name                                                                      \n",
       "GE    0.002410  0.006340  0.011903  0.018927  0.029839  0.061717  0.114458\n",
       "JPM   0.004826  0.012795  0.022844  0.035836  0.055215  0.094635  0.156439\n",
       "Axis  0.018835  0.049064  0.085216  0.114344  0.154115  0.212398  0.290494\n",
       "MBIA  0.047863  0.109664  0.193415  0.305474  0.379011  0.495922  0.608621"
      ]
     },
     "execution_count": 7,
     "metadata": {},
     "output_type": "execute_result"
    }
   ],
   "source": [
    "# (ii) calculate the default probabilities of each of these names in T = 1, 2, 3, 4, 5, 7, 10 years\n",
    "index = [12*year for year in t[1:]]\n",
    "default_dataframe = 1 - pd.DataFrame([survival_prob_matrix[i][index] for i in range(4)], index=data.index, columns=t[1:])\n",
    "default_dataframe"
   ]
  },
  {
   "cell_type": "markdown",
   "metadata": {},
   "source": [
    "The above dataframe shows the default probabilities of each of these names in T = 1, 2, 3, 4, 5, 7, 10 years."
   ]
  },
  {
   "cell_type": "markdown",
   "metadata": {},
   "source": [
    "* (iii) For each of the names, compute the par spread for the 2Y into 5Y forward CDS\n",
    "\n",
    "Note that, \n",
    "\\begin{eqnarray*}\n",
    "V_{prot}(t,T_0,T) &=& -(1-R)\\int_{T_0}^TP(t,s)dS(t,s)\\\\\n",
    "&=& -(1-R)\\int_{T_0}^TP(t,T_0)P(T_0,s)d[S(t,T_0)S(T_0,s)]\\\\\n",
    "&=& P(t,T_0)S(t,T_0)[-(1-R)\\int_{T_0}^TP(T_0,s)dS(T_0,s)]\\\\\n",
    "&=& P(t,T_0)S(t,T_0)\\tilde V_{prot}(0,T-T_0)\\\\\n",
    "\\mathcal{A}(t,T_0,T) &=& \\frac{1}{2}\\sum_{j=1}^N\\delta_j P(t,T_j)(S(t,T_{j-1})+S(t,T_j))\\\\\n",
    "&=& P(t,T_0)S(t,T_0)[\\frac{1}{2}\\sum_{j=1}^N\\delta_j P(T_0,T_j)(S(T_0,T_{j-1})+S(T_0,T_j))]\\\\\n",
    "&=& P(t,T_0)S(t,T_0)\\mathcal{\\tilde A}(0,T-T_0)\n",
    "\\end{eqnarray*}\n",
    "where $\\tilde V_{prot}$ and $\\mathcal{\\tilde A}$ represents the present value of the protection leg and premimun leg at $t=T_0$ respectively.\n",
    "\n",
    "Hence, the break-even forward spread is given by\n",
    "$$C(t,T_0,T) = \\frac{V_{prot}(t,T_0,T)}{\\mathcal{A}(t,T_0,T)}=\\frac{\\tilde V_{prot}(0,T-T_0)}{\\mathcal{\\tilde A}(0,T-T_0)}$$"
   ]
  },
  {
   "cell_type": "code",
   "execution_count": 8,
   "metadata": {},
   "outputs": [
    {
     "data": {
      "text/html": [
       "<div>\n",
       "<style scoped>\n",
       "    .dataframe tbody tr th:only-of-type {\n",
       "        vertical-align: middle;\n",
       "    }\n",
       "\n",
       "    .dataframe tbody tr th {\n",
       "        vertical-align: top;\n",
       "    }\n",
       "\n",
       "    .dataframe thead th {\n",
       "        text-align: right;\n",
       "    }\n",
       "</style>\n",
       "<table border=\"1\" class=\"dataframe\">\n",
       "  <thead>\n",
       "    <tr style=\"text-align: right;\">\n",
       "      <th></th>\n",
       "      <th>forward spread</th>\n",
       "    </tr>\n",
       "    <tr>\n",
       "      <th>Name</th>\n",
       "      <th></th>\n",
       "    </tr>\n",
       "  </thead>\n",
       "  <tbody>\n",
       "    <tr>\n",
       "      <th>GE</th>\n",
       "      <td>0.013406</td>\n",
       "    </tr>\n",
       "    <tr>\n",
       "      <th>JPM</th>\n",
       "      <td>0.024681</td>\n",
       "    </tr>\n",
       "    <tr>\n",
       "      <th>Axis</th>\n",
       "      <td>0.064191</td>\n",
       "    </tr>\n",
       "    <tr>\n",
       "      <th>MBIA</th>\n",
       "      <td>0.169053</td>\n",
       "    </tr>\n",
       "  </tbody>\n",
       "</table>\n",
       "</div>"
      ],
      "text/plain": [
       "      forward spread\n",
       "Name                \n",
       "GE          0.013406\n",
       "JPM         0.024681\n",
       "Axis        0.064191\n",
       "MBIA        0.169053"
      ]
     },
     "execution_count": 8,
     "metadata": {},
     "output_type": "execute_result"
    }
   ],
   "source": [
    "par_spread_list = []\n",
    "for i in range(4):\n",
    "    tmp = coupon(lambda_matrix[i][4], lambda_matrix[i][1:4], t[1:5])\n",
    "    par_spread_list.append(tmp)\n",
    "par_spread_dataframe = pd.DataFrame(par_spread_list,index=data.index, columns=[\"forward spread\"])\n",
    "par_spread_dataframe"
   ]
  },
  {
   "cell_type": "markdown",
   "metadata": {},
   "source": [
    "## Question 5\n",
    "\n",
    "Considerafrictionlessmarket􏰀S1(t),...,Sn(t)􏰁andaself-financingport- folio with weights 􏰀w1 (t), . . . , wn (t)􏰁. Given a numeraire N (t), show that the portfolio expressed in terms of the relative prices 􏰀S1N (t), . . . , SnN (t)􏰁 is self-financing.\n",
    "\n",
    "### Solution: \n",
    "\n",
    "From the question, we know that the portfolio value process is given by\n",
    "\n",
    "$$\n",
    "V(t)=\\sum_{i=1}^n w_i(t)S_i(t)\n",
    "$$\n",
    "\n",
    "with\n",
    "\n",
    "$$\n",
    "dV(t)=\\sum_{i=1}^n w_i(t)dS_i(t)\n",
    "$$\n",
    "\n",
    "Divide the first equation on both sides by the numeraire process $\\mathcal{N}(t)$, we instantly get\n",
    "\n",
    "$$\n",
    "V^\\mathcal{N}(t)\\equiv\\frac{V(t)}{\\mathcal{N}(t)}=\\sum_{i=1}^n w_i(t)S^\\mathcal{N}_i(t)\n",
    "$$\n",
    "\n",
    "In order to further prove that $V^{\\mathcal{N}}(t)$ is also self-financing under numeraire $\\mathcal{N}(t)$, we first notice that according to Ito's Lemma,\n",
    "\n",
    "$$\n",
    "d(\\frac1{\\mathcal{N}(t)})=-\\frac1{\\mathcal{N}(t)^2}d\\mathcal{N}(t)+\\frac1{\\mathcal{N}(t)^3}d\\mathcal{N}(t)d\\mathcal{N}(t)\n",
    "$$\n",
    "\n",
    "Using $V(t)=\\sum_{i=1}^n w_i(t)S_i(t)$, $dV(t)=\\sum_{i=1}^n w_i(t)dS_i(t)$ and Ito product rule $d(XY)=XdY+YdX+dXdY$, we have\n",
    "\n",
    "$$\n",
    "\\begin{aligned}\n",
    "d(\\frac{V(t)}{\\mathcal{N}(t)})&=V(t)d(\\frac1{\\mathcal{N}(t)})+\\frac{dV(t)}{\\mathcal{N}(t)}+dV(t)d(\\frac1{\\mathcal{N}(t)})\\\\\n",
    "&=\\sum_i w_i(t)S_i(t)[-\\frac1{\\mathcal{N}(t)^2}{d\\mathcal{N}(t)}+\\frac1{\\mathcal{N}(t)^3}d\\mathcal{N}(t)d\\mathcal{N}(t)]+\\sum_i w_i(t)\\frac{dS_i(t)}{\\mathcal{N}(t)}+\\sum_iw_i(t)dS_i(t)[-\\frac1{\\mathcal{N}(t)^2}{d\\mathcal{N}(t)}+\\frac1{\\mathcal{N}(t)^3}d\\mathcal{N}(t)d\\mathcal{N}(t)]\\\\\n",
    "&=\\sum_i w_i(t)\\{\\frac1{\\mathcal{N}(t)}dS_i(t)-\\frac{S_i(t)}{\\mathcal{N}(t)^2}d\\mathcal{N}(t)-\\frac1{\\mathcal{N}(t)^2}d[S_i,\\mathcal{N}](t)+\\frac{S_i(t)}{\\mathcal{N}(t)^3}d[\\mathcal{N},\\mathcal{N}](t)\\}\n",
    "\\end{aligned}\n",
    "$$\n",
    "\n",
    "Note that we use $dS_i(t)d\\mathcal{N}(t)d\\mathcal{N}(t)=0$ to derive the last equation.\n",
    "\n",
    "\n",
    "Because\n",
    "\n",
    "$$\n",
    "dS^\\mathcal{N}_i(t)=d(\\frac{S(t)}{\\mathcal{N}(t)}) = \\frac1{\\mathcal{N}(t)}dS_i(t)-\\frac{S_i(t)}{\\mathcal{N}(t)^2}d\\mathcal{N}(t)-\\frac1{\\mathcal{N}(t)^2}d[S_i,\\mathcal{N}](t)+\\frac{S_i(t)}{\\mathcal{N}(t)^3}d[\\mathcal{N},\\mathcal{N}](t)\n",
    "$$\n",
    "\n",
    "So the by the right hand side of last equation\n",
    "$$\n",
    "d(\\frac{V(t)}{\\mathcal{N}(t)})=\\sum_i \\omega_i(t)dS^\\mathcal{N}_i(t)\n",
    "$$\n",
    "\n",
    "Thus we prove that $V^{\\mathcal{N}}(t)$ is also a self-financing portfolio process."
   ]
  },
  {
   "cell_type": "code",
   "execution_count": null,
   "metadata": {},
   "outputs": [],
   "source": []
  }
 ],
 "metadata": {
  "kernelspec": {
   "display_name": "Python 3",
   "language": "python",
   "name": "python3"
  },
  "language_info": {
   "codemirror_mode": {
    "name": "ipython",
    "version": 3
   },
   "file_extension": ".py",
   "mimetype": "text/x-python",
   "name": "python",
   "nbconvert_exporter": "python",
   "pygments_lexer": "ipython3",
   "version": "3.7.2"
  }
 },
 "nbformat": 4,
 "nbformat_minor": 2
}
