{
 "cells": [
  {
   "cell_type": "code",
   "execution_count": null,
   "metadata": {},
   "outputs": [],
   "source": []
  },
  {
   "cell_type": "markdown",
   "metadata": {},
   "source": [
    "## HW2"
   ]
  },
  {
   "cell_type": "markdown",
   "metadata": {},
   "source": [
    "### 1"
   ]
  },
  {
   "cell_type": "markdown",
   "metadata": {},
   "source": [
    "$$\n",
    "P^{fix}=\\sum_{i=1}^{2T}\\frac{1}{2}ce^{-r\\frac{i}{2}}\n",
    "$$\n",
    "\n",
    "$$\n",
    "P^{float}=\\sum_{i=1}^{4T}\\frac{1}{4}le^{-r\\frac{i}{2}}\n",
    "$$\n",
    "\n",
    "When $P^{fix}=P^{float}$,\n",
    "$$\n",
    "c_{par}=\\frac{\\sum_{i=1}^{4T}\\frac{1}{4}le^{-r\\frac{i}{2}}}{\\sum_{i=1}^{2T}\\frac{1}{2}e^{-r\\frac{i}{2}}}\n",
    "$$"
   ]
  },
  {
   "cell_type": "markdown",
   "metadata": {},
   "source": [
    "## 2"
   ]
  },
  {
   "cell_type": "markdown",
   "metadata": {},
   "source": [
    "$$\n",
    "p^{protection}=(1-R)\\int_0^T\\lambda e^{-(r+\\lambda)s}ds\n",
    "$$\n",
    "\n",
    "$$\n",
    "A=\\sum_j\\frac{1}{4}e^{-(r+\\lambda)t_j}+\\sum_j\\int_{T_{j-1}}^{T_j}(s-T_{j-1})e^{-(r+\\lambda)s}\\lambda ds\n",
    "$$\n",
    "\n",
    "$$\n",
    "c=\\frac{p^{protection}}{A}\n",
    "$$"
   ]
  },
  {
   "cell_type": "markdown",
   "metadata": {},
   "source": [
    "## 3\n",
    "\n",
    "### (1)"
   ]
  },
  {
   "cell_type": "markdown",
   "metadata": {},
   "source": [
    "The closed form of $\\lambda(t)$ should be \n",
    "$$\n",
    "\\lambda(t)=\\lambda_0+\\theta t +\\sigma W(t)\n",
    "$$\n",
    "\n",
    "And the definition of price of protection leg is \n",
    "$$\n",
    "p^{protection}=(1-R)\\int_0^TE[\\lambda(s)e^{-\\int_0^s\\lambda(u)du}]e^{-rs}ds\n",
    "$$\n",
    "\n",
    "In order to get $p^{protection}$, we need to calculate $E[\\lambda(s)e^{-\\int_0^s\\lambda(u)du}]$, which is given by\n",
    "\n",
    "$$\n",
    "E[\\lambda(s)e^{-\\int_0^s\\lambda(u)du}]=(\\lambda_0+\\theta s)e^{-\\lambda_0 s -\\frac{1}{2}\\theta s^2}E[e^{-\\sigma\\int_0^sW(u)du}]+\\sigma e^{-\\lambda_0 s -\\frac{1}{2}\\theta s^2}E[W(s)e^{-\\sigma\\int_0^sW(u)du}]\n",
    "$$"
   ]
  },
  {
   "cell_type": "markdown",
   "metadata": {},
   "source": [
    "Because $\\int_0^s W(u)du = sW(s) - \\int_0^s udW(u)= \\int_0^s (s-u)dW(u)$, By Itô isometry, we have\n",
    "\n",
    "$$\n",
    " \\int_0^s (s-u)dW(u) \\sim  N(0, \\frac{s^3}{3})\n",
    "$$\n",
    "\n",
    "By the properity of log-normal distribution, we can easily get\n",
    "\n",
    "$$\n",
    "E[e^{-\\sigma\\int_0^sW(u)du}]=e^{\\frac{1}{6} \\sigma ^2 s^3}\n",
    "$$\n",
    "\n",
    "And\n",
    "\n",
    "$$\n",
    "E[W(s)e^{-\\sigma\\int_0^sW(u)du}]=-\\frac{1}{\\sigma}\\frac{d}{ds}E[e^{-\\sigma\\int_0^sW(u)du}]=-\\frac{1}{2}\\sigma s^2e^{\\frac{1}{6} \\sigma ^2 s^3}\n",
    "$$"
   ]
  },
  {
   "cell_type": "markdown",
   "metadata": {},
   "source": [
    "therefore\n",
    "\n",
    "$$\n",
    "p^{protection}=(1-R)\\int_0^T (\\lambda_0+\\theta s-\\frac{1}{2}\\sigma^2 s^2)e^{-\\lambda_0 s -\\frac{1}{2}\\theta s^2+\\frac{1}{6}\\sigma^2s^3}e^{-rs}ds\n",
    "$$"
   ]
  },
  {
   "cell_type": "markdown",
   "metadata": {},
   "source": [
    "### (2)\n",
    "\n",
    "Anuity can be calculated similarly\n",
    "\n",
    "\n",
    "$$\n",
    "A=\\sum_j\\frac{1}{4}e^{-r t_j}E[e^{-\\int_0^{t_j}\\lambda(u)du}]+\\sum_j\\int_{T_{j-1}}^{T_j}(s-T_{j-1})e^{-rs}E[\\lambda e^{-\\int_0^{s}\\lambda(u)du}] ds\n",
    "$$\n"
   ]
  },
  {
   "cell_type": "markdown",
   "metadata": {},
   "source": [
    "by using the result of same expectaion from previous one\n",
    "\n",
    "$$\n",
    "A=\\sum_j \\frac{1}{4} e^{-\\lambda_0 t_j -\\frac{1}{2}\\theta t_j ^2+\\frac{1}{6}\\sigma^2t_j ^3}e^{-r t_j}+\\sum_j\\int_{T_{j-1}}^{T_j}(s-T_{j-1}) (\\lambda_0+\\theta s-\\frac{1}{2}\\sigma^2 s^2)e^{-\\lambda_0 s -\\frac{1}{2}\\theta s^2+\\frac{1}{6}\\sigma^2s^3}e^{-rs}ds\n",
    "$$"
   ]
  },
  {
   "cell_type": "markdown",
   "metadata": {},
   "source": [
    "### (3)\n",
    "\n",
    "Par coupon rate is given by\n",
    "\n",
    "$$\n",
    "c=\\frac{p^{protection}}{A}\n",
    "$$\n"
   ]
  },
  {
   "cell_type": "code",
   "execution_count": null,
   "metadata": {},
   "outputs": [],
   "source": []
  },
  {
   "cell_type": "markdown",
   "metadata": {},
   "source": [
    "## 4\n",
    "\n",
    "(1)"
   ]
  },
  {
   "cell_type": "code",
   "execution_count": 7,
   "metadata": {},
   "outputs": [],
   "source": [
    "import numpy as np\n",
    "import pandas as pd"
   ]
  },
  {
   "cell_type": "code",
   "execution_count": 8,
   "metadata": {},
   "outputs": [],
   "source": [
    "data=pd.read_excel(\"CDS_spreads.xlsx\",index_col=0)"
   ]
  },
  {
   "cell_type": "code",
   "execution_count": 138,
   "metadata": {},
   "outputs": [],
   "source": [
    "r=0.015\n",
    "R=0.4\n",
    "\n",
    "def discount(time):\n",
    "    return np.exp(-r*time)\n",
    "  \n",
    "def Protection(lamb,time,n=120):\n",
    "    # for example\n",
    "    # lamb = [0.1,0.2]\n",
    "    # time = [1,5]\n",
    "    # means lambda between 0 and 1 is 0.1, between 1 and 5 is 0.2\n",
    "    # every year has n intervals \n",
    "    lamb.insert(0,0)\n",
    "    time.insert(0,0)\n",
    "    value=0\n",
    "    accuInstan=0\n",
    "    for i in range(len(time)-1):\n",
    "        timeIter=time[i]+1/n\n",
    "        while timeIter<=time[i+1]:\n",
    "            accuInstan+=1/n*lamb[i+1]\n",
    "            ds=np.exp(-accuInstan+1/n*lamb[i+1])-np.exp(-accuInstan)\n",
    "            value+=(discount(timeIter-1/n)+discount(timeIter))/2*ds\n",
    "            timeIter+=1/n\n",
    "    value*=(1-R)\n",
    "    return value\n",
    "\n",
    "def Anuity(lamb,time,frequency=1):\n",
    "    lamb.insert(0,0)\n",
    "    time.insert(0,0)\n",
    "    value=0\n",
    "    accuInstan=0\n",
    "    for i in range(len(time)-1):\n",
    "        timeIter=time[i]+1/frequency\n",
    "        while timeIter<=time[i+1]:\n",
    "            accuInstan+=1/frequency*lamb[i+1]\n",
    "            ds=np.exp(-accuInstan+1/frequency*lamb[i+1])+np.exp(-accuInstan)\n",
    "            value+=discount(timeIter)*ds/frequency\n",
    "            timeIter+=1/frequency\n",
    "    value*=2\n",
    "    return value\n",
    "\n",
    "def Spread(lamb,time):\n",
    "    p=Protection(lamb.copy(),time.copy())\n",
    "    A=Anuity(lamb.copy(),time.copy())\n",
    "    return p/A"
   ]
  },
  {
   "cell_type": "code",
   "execution_count": 139,
   "metadata": {},
   "outputs": [],
   "source": [
    "def Secant(lamb,time,nextT,target,tol=1e-6):\n",
    "    # lamb and time are same length, given nextT, we search for corresponding lambda\n",
    "    x1=target/(1-R)\n",
    "    x0=x1+0.0005\n",
    "    y0=Spread(lamb+[x0],time+[nextT])\n",
    "    y1=Spread(lamb+[x1],time+[nextT])\n",
    "    while abs(y1-target)>=tol:\n",
    "        x2=x1-(y1-target)*(x1-x0)/(y1-y0)\n",
    "        y0=y1\n",
    "        y1=Spread(lamb+[x2],time+[nextT])\n",
    "        x0=x1\n",
    "        x1=x2\n",
    "    return lamb+[x1]"
   ]
  },
  {
   "cell_type": "code",
   "execution_count": 140,
   "metadata": {},
   "outputs": [
    {
     "data": {
      "text/html": [
       "<div>\n",
       "<style scoped>\n",
       "    .dataframe tbody tr th:only-of-type {\n",
       "        vertical-align: middle;\n",
       "    }\n",
       "\n",
       "    .dataframe tbody tr th {\n",
       "        vertical-align: top;\n",
       "    }\n",
       "\n",
       "    .dataframe thead th {\n",
       "        text-align: right;\n",
       "    }\n",
       "</style>\n",
       "<table border=\"1\" class=\"dataframe\">\n",
       "  <thead>\n",
       "    <tr style=\"text-align: right;\">\n",
       "      <th></th>\n",
       "      <th>1Y</th>\n",
       "      <th>2Y</th>\n",
       "      <th>3Y</th>\n",
       "      <th>4Y</th>\n",
       "      <th>5Y</th>\n",
       "      <th>7Y</th>\n",
       "      <th>10Y</th>\n",
       "    </tr>\n",
       "    <tr>\n",
       "      <th>Name</th>\n",
       "      <th></th>\n",
       "      <th></th>\n",
       "      <th></th>\n",
       "      <th></th>\n",
       "      <th></th>\n",
       "      <th></th>\n",
       "      <th></th>\n",
       "    </tr>\n",
       "  </thead>\n",
       "  <tbody>\n",
       "    <tr>\n",
       "      <th>GE</th>\n",
       "      <td>19.35</td>\n",
       "      <td>25.45</td>\n",
       "      <td>31.85</td>\n",
       "      <td>38.0</td>\n",
       "      <td>47.9</td>\n",
       "      <td>71.00</td>\n",
       "      <td>93.60</td>\n",
       "    </tr>\n",
       "    <tr>\n",
       "      <th>JPM</th>\n",
       "      <td>38.80</td>\n",
       "      <td>51.50</td>\n",
       "      <td>61.45</td>\n",
       "      <td>72.5</td>\n",
       "      <td>89.6</td>\n",
       "      <td>111.05</td>\n",
       "      <td>131.70</td>\n",
       "    </tr>\n",
       "    <tr>\n",
       "      <th>Axis</th>\n",
       "      <td>152.50</td>\n",
       "      <td>200.75</td>\n",
       "      <td>235.75</td>\n",
       "      <td>241.3</td>\n",
       "      <td>264.2</td>\n",
       "      <td>269.80</td>\n",
       "      <td>272.05</td>\n",
       "    </tr>\n",
       "    <tr>\n",
       "      <th>MBIA</th>\n",
       "      <td>393.35</td>\n",
       "      <td>463.20</td>\n",
       "      <td>563.25</td>\n",
       "      <td>696.4</td>\n",
       "      <td>727.2</td>\n",
       "      <td>749.40</td>\n",
       "      <td>735.50</td>\n",
       "    </tr>\n",
       "  </tbody>\n",
       "</table>\n",
       "</div>"
      ],
      "text/plain": [
       "          1Y      2Y      3Y     4Y     5Y      7Y     10Y\n",
       "Name                                                      \n",
       "GE     19.35   25.45   31.85   38.0   47.9   71.00   93.60\n",
       "JPM    38.80   51.50   61.45   72.5   89.6  111.05  131.70\n",
       "Axis  152.50  200.75  235.75  241.3  264.2  269.80  272.05\n",
       "MBIA  393.35  463.20  563.25  696.4  727.2  749.40  735.50"
      ]
     },
     "execution_count": 140,
     "metadata": {},
     "output_type": "execute_result"
    }
   ],
   "source": [
    "data"
   ]
  },
  {
   "cell_type": "code",
   "execution_count": 148,
   "metadata": {},
   "outputs": [
    {
     "name": "stderr",
     "output_type": "stream",
     "text": [
      "/home/zecophy/Documents/anaconda3/lib/python3.7/site-packages/ipykernel_launcher.py:21: RuntimeWarning: invalid value encountered in double_scalars\n"
     ]
    }
   ],
   "source": [
    "T=[1,2,3,4,5,7,10]\n",
    "names=data.index.values\n",
    "res={}\n",
    "\n",
    "for name in names:\n",
    "    lambdas=[]\n",
    "    for i in range(len(T)):\n",
    "        lambdas=Secant(lambdas,T[:i],T[i],data.loc[name][i]/10000)\n",
    "    res[name]=lambdas\n",
    "\n",
    "res=pd.DataFrame(res,index=T)"
   ]
  },
  {
   "cell_type": "code",
   "execution_count": 142,
   "metadata": {},
   "outputs": [
    {
     "data": {
      "text/html": [
       "<div>\n",
       "<style scoped>\n",
       "    .dataframe tbody tr th:only-of-type {\n",
       "        vertical-align: middle;\n",
       "    }\n",
       "\n",
       "    .dataframe tbody tr th {\n",
       "        vertical-align: top;\n",
       "    }\n",
       "\n",
       "    .dataframe thead th {\n",
       "        text-align: right;\n",
       "    }\n",
       "</style>\n",
       "<table border=\"1\" class=\"dataframe\">\n",
       "  <thead>\n",
       "    <tr style=\"text-align: right;\">\n",
       "      <th></th>\n",
       "      <th>GE</th>\n",
       "      <th>JPM</th>\n",
       "      <th>Axis</th>\n",
       "      <th>MBIA</th>\n",
       "    </tr>\n",
       "  </thead>\n",
       "  <tbody>\n",
       "    <tr>\n",
       "      <th>1</th>\n",
       "      <td>0.012803</td>\n",
       "      <td>0.025673</td>\n",
       "      <td>0.100979</td>\n",
       "      <td>2.616694e-01</td>\n",
       "    </tr>\n",
       "    <tr>\n",
       "      <th>2</th>\n",
       "      <td>0.021007</td>\n",
       "      <td>0.042906</td>\n",
       "      <td>0.170234</td>\n",
       "      <td>3.745521e-01</td>\n",
       "    </tr>\n",
       "    <tr>\n",
       "      <th>3</th>\n",
       "      <td>0.030036</td>\n",
       "      <td>0.055052</td>\n",
       "      <td>0.218311</td>\n",
       "      <td>6.528988e-01</td>\n",
       "    </tr>\n",
       "    <tr>\n",
       "      <th>4</th>\n",
       "      <td>0.038464</td>\n",
       "      <td>0.073210</td>\n",
       "      <td>0.176726</td>\n",
       "      <td>2.237876e+00</td>\n",
       "    </tr>\n",
       "    <tr>\n",
       "      <th>5</th>\n",
       "      <td>0.062060</td>\n",
       "      <td>0.116405</td>\n",
       "      <td>0.285156</td>\n",
       "      <td>-2.444744e+17</td>\n",
       "    </tr>\n",
       "    <tr>\n",
       "      <th>7</th>\n",
       "      <td>0.096633</td>\n",
       "      <td>0.125788</td>\n",
       "      <td>0.200755</td>\n",
       "      <td>1.249000e-01</td>\n",
       "    </tr>\n",
       "    <tr>\n",
       "      <th>10</th>\n",
       "      <td>0.119166</td>\n",
       "      <td>0.149033</td>\n",
       "      <td>0.191097</td>\n",
       "      <td>1.225833e-01</td>\n",
       "    </tr>\n",
       "  </tbody>\n",
       "</table>\n",
       "</div>"
      ],
      "text/plain": [
       "          GE       JPM      Axis          MBIA\n",
       "1   0.012803  0.025673  0.100979  2.616694e-01\n",
       "2   0.021007  0.042906  0.170234  3.745521e-01\n",
       "3   0.030036  0.055052  0.218311  6.528988e-01\n",
       "4   0.038464  0.073210  0.176726  2.237876e+00\n",
       "5   0.062060  0.116405  0.285156 -2.444744e+17\n",
       "7   0.096633  0.125788  0.200755  1.249000e-01\n",
       "10  0.119166  0.149033  0.191097  1.225833e-01"
      ]
     },
     "execution_count": 142,
     "metadata": {},
     "output_type": "execute_result"
    }
   ],
   "source": [
    "res"
   ]
  },
  {
   "cell_type": "markdown",
   "metadata": {},
   "source": [
    "(2)"
   ]
  },
  {
   "cell_type": "code",
   "execution_count": 160,
   "metadata": {},
   "outputs": [],
   "source": [
    "def default(t,lamb,time):\n",
    "    lamb.insert(0,0)\n",
    "    time.insert(0,0)\n",
    "    accuInstan=0\n",
    "    #print(lamb,time)\n",
    "    for i in range(len(time)-1):\n",
    "        #print(i,time[i],lamb[i])\n",
    "        if time[i+1]<=t:\n",
    "            accuInstan+=(time[i+1]-time[i])*lamb[i+1]\n",
    "        else:\n",
    "            accuInstan+=(t-time[i])*lamb[i+1]\n",
    "            break\n",
    "    return 1-np.exp(-accuInstan)\n",
    "\n",
    "def defaultCurve(x,lamb,time):\n",
    "    res=[]\n",
    "    for t in x:\n",
    "        res.append(default(t,lamb.copy(),time.copy()))\n",
    "    return res"
   ]
  },
  {
   "cell_type": "code",
   "execution_count": 163,
   "metadata": {},
   "outputs": [
    {
     "data": {
      "image/png": "[encoded data removed]",
      "text/plain": [
       "<Figure size 432x288 with 1 Axes>"
      ]
     },
     "metadata": {
      "needs_background": "light"
     },
     "output_type": "display_data"
    }
   ],
   "source": [
    "x = np.linspace(0,10,10000)\n",
    "#x=T\n",
    "plt.plot(x,defaultCurve(x,list(res['GE']),T),label='GE')\n",
    "plt.plot(x,defaultCurve(x,list(res['JPM']),T),label='JPM')\n",
    "plt.plot(x,defaultCurve(x,list(res['Axis']),T),label='Axis')\n",
    "\n",
    "plt.legend(loc='upper left')\n",
    "plt.show()"
   ]
  },
  {
   "cell_type": "markdown",
   "metadata": {},
   "source": [
    "(3)"
   ]
  },
  {
   "cell_type": "code",
   "execution_count": null,
   "metadata": {},
   "outputs": [],
   "source": []
  },
  {
   "cell_type": "code",
   "execution_count": 167,
   "metadata": {},
   "outputs": [
    {
     "name": "stderr",
     "output_type": "stream",
     "text": [
      "/home/zecophy/Documents/anaconda3/lib/python3.7/site-packages/ipykernel_launcher.py:21: RuntimeWarning: invalid value encountered in double_scalars\n"
     ]
    }
   ],
   "source": [
    "res2={}\n",
    "for name in names:\n",
    "    lam=list(res[name])\n",
    "    pro=Protection(lam[:5],T[:5])-Protection(lam[:2],T[:2])\n",
    "    anu=Anuity(lam[:5],T[:5])-Anuity(lam[:2],T[:2])\n",
    "    res2[name]=pro/anu"
   ]
  },
  {
   "cell_type": "code",
   "execution_count": 168,
   "metadata": {},
   "outputs": [
    {
     "data": {
      "text/plain": [
       "{'GE': 0.006459339270853114,\n",
       " 'JPM': 0.01198464090546931,\n",
       " 'Axis': 0.03332173918191878,\n",
       " 'MBIA': nan}"
      ]
     },
     "execution_count": 168,
     "metadata": {},
     "output_type": "execute_result"
    }
   ],
   "source": [
    "res2"
   ]
  },
  {
   "cell_type": "code",
   "execution_count": null,
   "metadata": {},
   "outputs": [],
   "source": []
  },
  {
   "cell_type": "code",
   "execution_count": null,
   "metadata": {},
   "outputs": [],
   "source": []
  },
  {
   "cell_type": "code",
   "execution_count": null,
   "metadata": {},
   "outputs": [],
   "source": []
  }
 ],
 "metadata": {
  "kernelspec": {
   "display_name": "Python 3",
   "language": "python",
   "name": "python3"
  },
  "language_info": {
   "codemirror_mode": {
    "name": "ipython",
    "version": 3
   },
   "file_extension": ".py",
   "mimetype": "text/x-python",
   "name": "python",
   "nbconvert_exporter": "python",
   "pygments_lexer": "ipython3",
   "version": "3.7.0"
  }
 },
 "nbformat": 4,
 "nbformat_minor": 2
}
