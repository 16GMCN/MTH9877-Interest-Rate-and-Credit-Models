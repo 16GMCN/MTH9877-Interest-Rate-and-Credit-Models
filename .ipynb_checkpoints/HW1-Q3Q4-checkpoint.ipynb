{
 "cells": [
  {
   "cell_type": "markdown",
   "metadata": {},
   "source": [
    "#### HW1 Q3"
   ]
  },
  {
   "cell_type": "markdown",
   "metadata": {},
   "source": [
    "We want to calculate\n",
    "\n",
    "$$\n",
    "B^{rec}(t,T)=-\\int_t^Te^{-r(s-t)}H(s)\\frac{\\partial}{\\partial s}\\phi(-d(t),-d(t),-b,s-t)ds\n",
    "$$\n",
    "\n",
    "where\n",
    "\n",
    "$$\n",
    "d(t)=\\frac1{\\sigma_v}\\ ln(\\frac{H(t)}{V_0})\\\\\n",
    "\\phi(\\alpha,\\beta,b,t)=N(\\frac{\\alpha-bt}{\\sqrt{t}})-e^{2b\\beta}N(\\frac{\\alpha-2\\beta-bt}{\\sqrt{t}})\\\\\n",
    "H(t)=H_0e^{at}\n",
    "$$"
   ]
  },
  {
   "cell_type": "markdown",
   "metadata": {},
   "source": [
    "Define $x\\equiv s-t$ and $d(t)\\equiv d$, since we only integrate on s, not t. Then plug in all the expressions above, we have\n",
    "\n",
    "$$\n",
    "\\begin{align}\n",
    "\\frac{B_rec}{-H_0e^{at}}&=\\int_0^{T-t}e^{(a-r)x}\\frac{\\partial}{\\partial x}[N(\\frac{-d+bx}{\\sqrt{x}})]dx-e^{2bd}\\int_0^{T-t}e^{(a-r)x}\\frac{\\partial}{\\partial x}[N(\\frac{d+bx}{\\sqrt{x}})]dx\\\\\n",
    "&=\\text{I}-\\text{II}\n",
    "\\end{align}\n",
    "$$\n",
    "\n",
    "where I and II denote the first and second term of the equation above. By some observation, we can find that we only need to calculate term I, since we can get II by mapping $d\\rightarrow -d$, and multiply another $e^{2bd}$."
   ]
  },
  {
   "cell_type": "markdown",
   "metadata": {},
   "source": [
    "Now let's calculate term I.\n",
    "\n",
    "$$\n",
    "\\begin{align}\n",
    "\\text{I}&=\\int_0^{T-t}\\frac1{\\sqrt{2\\pi}}e^{(a-r)x}\\ e^{-\\frac{b^2x^2-2bdx+d^2}{2x}}d(-\\frac d{\\sqrt{x}}+b\\sqrt{x})\\\\\n",
    "&=\\int_0^{T-t}\\frac1{\\sqrt{2\\pi}}e^{-\\frac12(\\frac{\\sqrt{b^2-2a+2r}x-d}{\\sqrt{x}})^2}d(-\\frac d{\\sqrt{x}}+b\\sqrt{x})\\ e^{-d(\\sqrt{b^2-2a+2r}-b)}\\\\\n",
    "&=e^{-d(\\sqrt{b^2-2a+2r}-b)}\\int_0^{T-t}\\frac1{\\sqrt{2\\pi}}e^{-\\frac12(\\frac{\\sqrt{b^2-2a+2r}x-d}{\\sqrt{x}})^2}[d(-\\frac d{\\sqrt{x}}+\\sqrt{b^2-2a+2r}\\sqrt{x})+(b-\\sqrt{b^2-2a+2r})d(\\sqrt{x})]\\\\\n",
    "&=e^{-d(\\sqrt{b^2-2a+2r}-b)}[N(\\sqrt{b^2-2a+2r}\\sqrt{x}-\\frac d{\\sqrt{x}})\\bigg|_{x=0}^{x=T-t}+(b-\\sqrt{b^2-2a+2r})\\int_0^{T-t}\\frac1{\\sqrt{2\\pi}}e^{-\\frac12(\\sqrt{b^2-2a+2r}\\sqrt{x}-\\frac d{\\sqrt{x}})^2}d(\\sqrt{x})]\\\\\n",
    "&=e^{-d(\\sqrt{b^2-2a+2r}-b)}[N(\\sqrt{b^2-2a+2r}\\sqrt{T-t}-\\frac d{\\sqrt{T-t}})+(b-\\sqrt{b^2-2a+2r})\\frac{\\partial}{\\partial(\\sqrt{b^2-2a+2r})}N(\\sqrt{b^2-2a+2r}\\sqrt{T-t}-\\frac d{\\sqrt{T-t}})]\n",
    "\\end{align}\n",
    "$$"
   ]
  },
  {
   "cell_type": "markdown",
   "metadata": {},
   "source": [
    "Map $d\\rightarrow -d$ and multiply a factor of $e^{2bd}$, we have\n",
    "\n",
    "$$\n",
    "\\text{II}=e^{-d(\\sqrt{b^2-2a+2r}-3b)}[N(\\sqrt{b^2-2a+2r}\\sqrt{T-t}+\\frac d{\\sqrt{T-t}})+(b-\\sqrt{b^2-2a+2r})\\frac{\\partial}{\\partial(\\sqrt{b^2-2a+2r})}N(\\sqrt{b^2-2a+2r}\\sqrt{T-t}+\\frac d{\\sqrt{T-t}})]\n",
    "$$"
   ]
  },
  {
   "cell_type": "markdown",
   "metadata": {},
   "source": [
    "So we finally have\n",
    "\n",
    "$$\n",
    "B^{rec}(t,T)=-H_0e^{at}\\{e^{-d(\\sqrt{b^2-2a+2r}-b)}[N(\\sqrt{b^2-2a+2r}\\sqrt{T-t}-\\frac d{\\sqrt{T-t}})+(b-\\sqrt{b^2-2a+2r})\\frac{\\partial}{\\partial(\\sqrt{b^2-2a+2r})}N(\\sqrt{b^2-2a+2r}\\sqrt{T-t}-\\frac d{\\sqrt{T-t}})]-e^{-d(\\sqrt{b^2-2a+2r}-3b)}[N(\\sqrt{b^2-2a+2r}\\sqrt{T-t}+\\frac d{\\sqrt{T-t}})+(b-\\sqrt{b^2-2a+2r})\\frac{\\partial}{\\partial(\\sqrt{b^2-2a+2r})}N(\\sqrt{b^2-2a+2r}\\sqrt{T-t}+\\frac d{\\sqrt{T-t}})]\\}\n",
    "$$"
   ]
  },
  {
   "cell_type": "markdown",
   "metadata": {},
   "source": [
    "#### HW1 Q4\n",
    "\n",
    "Consider the Cox model where the intensity follows the normal process \n",
    "$$ d\\lambda (t)= \\theta dt+\\sigma dW(t)$$\n",
    "with constant $\\theta$ and $\\lambda(0)=\\lambda_0$"
   ]
  },
  {
   "cell_type": "markdown",
   "metadata": {},
   "source": [
    "#### (i)Calculate the survival probability S(0, t) for this Cox process.\n",
    "\n",
    "Solution:\n",
    "\n",
    "From the lecture, we can write this probability directly as\n",
    "\n",
    "$$ S(0,t) = E[e^{-\\int_0^t\\lambda (s)ds} ]$$\n",
    "\n",
    "Meanwhile, \n",
    "$$ d\\lambda (t) = \\theta dt+\\sigma dW(t)$$\n",
    "$$\\Rightarrow \\lambda (s) = \\lambda _0+\\theta s + \\sigma W(s)$$\n",
    "$$\\Rightarrow \\int_0^t\\lambda (s)ds = \\lambda _0 t+\\frac{1}{2}\\theta t^2 + \\sigma \\int_0^t W(s)ds$$\n",
    "\n",
    "Thus, \n",
    "$$ S(0,t) = E[e^{-\\int_0^t\\lambda (s)ds} ]$$\n",
    "$$ = e^{-\\lambda _0 t-\\frac{1}{2}\\theta t^2 }E[e^{-\\sigma \\int_0^t W(s)ds}]$$"
   ]
  },
  {
   "cell_type": "markdown",
   "metadata": {},
   "source": [
    "Note that, \n",
    "$$\\int_0^t W(s)ds = tW(t) - \\int_0^t sdW(s)$$\n",
    "$$= \\int_0^t (t-s)dW(s)$$\n",
    "Since (t-s) is adapted, we know from Itô isometry that \n",
    "$$ \\int_0^t (t-s)dW(s) \\sim  N(0, \\frac{t^2}{3})$$\n",
    "$$\\Rightarrow -\\sigma \\int_0^t W(s)ds \\sim  N(0, \\frac{\\sigma ^2t^2}{3}) $$\n",
    "$$ \\Rightarrow E[e^{-\\sigma \\int_0^t W(s)ds}] = e^{\\frac{1}{6} \\sigma ^2 t^2}$$\n",
    "Finally we have the result \n",
    "$$ S(0,t) = e^{-\\lambda _0 t-\\frac{1}{2}\\theta t^2 + \\frac{1}{6} \\sigma ^2 t^2 }$$"
   ]
  },
  {
   "cell_type": "markdown",
   "metadata": {},
   "source": [
    "#### (ii) Design and implement in computer code an algorithm for simulating events from this Cox process.\n",
    "* First, we use $ d\\lambda (t)= \\theta dt+\\sigma dW(t)$ to generate an intensity path first. Note that this intensity path is piecewise constant with respect to dt. \n",
    "* Upon dt, the intensity is a constant. Since dt is small, we suppose the process will have a jump size of 1 with probability $1-e^{-\\lambda dt}$ and 0 otherwise. \n",
    "* Then we simulate the event up to time t. Generate 10000 paths to see the survival probablity, which is the probability that the process ends up with 0 . Compare it to the theoretically one. \n"
   ]
  },
  {
   "cell_type": "code",
   "execution_count": 74,
   "metadata": {},
   "outputs": [],
   "source": [
    "import numpy as np\n",
    "import math\n",
    "\n",
    "def Cox_Prc(t, Lamb0, theta, sig ):\n",
    "    \n",
    "    #dt is 0.001, the path has 1000t steps in total\n",
    "    dt = 0.001\n",
    "    sampleNo = 1000*t-1 \n",
    "    \n",
    "    #generate brownian process \n",
    "    BMPath = np.random.randn(sampleNo)\n",
    "    \n",
    "    #generate U[0,1]\n",
    "    Uni = np.random.uniform(0,1,sampleNo+1)\n",
    "\n",
    "    C_P = 0\n",
    "    Lambd = Lamb0\n",
    "    for i in range(0,t*1000-1):\n",
    "        \n",
    "        # use the current intensity to generate event\n",
    "        \n",
    "        if  Uni[i] >  math.exp(-Lambd*dt):\n",
    "            C_P += 1\n",
    "        \n",
    "        #use the brownian process to simulate intensity path\n",
    "        d_lambd = theta*dt + sig*math.sqrt(dt)*BMPath[i]\n",
    "        Lambd += d_lambd\n",
    "        \n",
    "    #return the final process number, 0 means survive\n",
    "    return C_P\n",
    "           \n",
    "        "
   ]
  },
  {
   "cell_type": "markdown",
   "metadata": {},
   "source": [
    "####  (iii) Verify the correctness of your algorithm by comparing the estimated survival probabilities with the closed form formula. Use  $\\lambda_0$= 0.03, $\\theta $= 0.005, $\\sigma$= 0.008, and a range of values of t, say t = 1,2,...,10."
   ]
  },
  {
   "cell_type": "markdown",
   "metadata": {},
   "source": [
    "* Theoretically, for the following set of parameters, \n",
    "\n",
    "|$$\\lambda_0$$|$$\\theta$$|$$\\sigma$$|\n",
    "-----|-----:|-------:|\n",
    " 0.03| 0.005 | 0.008\n",
    " \n",
    " The survival probabilities with respect to t should be as follows:\n",
    " \n"
   ]
  },
  {
   "cell_type": "code",
   "execution_count": 10,
   "metadata": {},
   "outputs": [
    {
     "data": {
      "text/html": [
       "<div>\n",
       "<style scoped>\n",
       "    .dataframe tbody tr th:only-of-type {\n",
       "        vertical-align: middle;\n",
       "    }\n",
       "\n",
       "    .dataframe tbody tr th {\n",
       "        vertical-align: top;\n",
       "    }\n",
       "\n",
       "    .dataframe thead th {\n",
       "        text-align: right;\n",
       "    }\n",
       "</style>\n",
       "<table border=\"1\" class=\"dataframe\">\n",
       "  <thead>\n",
       "    <tr style=\"text-align: right;\">\n",
       "      <th></th>\n",
       "      <th>Survival Probability</th>\n",
       "    </tr>\n",
       "    <tr>\n",
       "      <th>t</th>\n",
       "      <th></th>\n",
       "    </tr>\n",
       "  </thead>\n",
       "  <tbody>\n",
       "    <tr>\n",
       "      <th>1</th>\n",
       "      <td>0.968033</td>\n",
       "    </tr>\n",
       "    <tr>\n",
       "      <th>2</th>\n",
       "      <td>0.932434</td>\n",
       "    </tr>\n",
       "    <tr>\n",
       "      <th>3</th>\n",
       "      <td>0.893683</td>\n",
       "    </tr>\n",
       "    <tr>\n",
       "      <th>4</th>\n",
       "      <td>0.852289</td>\n",
       "    </tr>\n",
       "    <tr>\n",
       "      <th>5</th>\n",
       "      <td>0.808776</td>\n",
       "    </tr>\n",
       "    <tr>\n",
       "      <th>6</th>\n",
       "      <td>0.763673</td>\n",
       "    </tr>\n",
       "    <tr>\n",
       "      <th>7</th>\n",
       "      <td>0.717504</td>\n",
       "    </tr>\n",
       "    <tr>\n",
       "      <th>8</th>\n",
       "      <td>0.670778</td>\n",
       "    </tr>\n",
       "    <tr>\n",
       "      <th>9</th>\n",
       "      <td>0.623981</td>\n",
       "    </tr>\n",
       "    <tr>\n",
       "      <th>10</th>\n",
       "      <td>0.577566</td>\n",
       "    </tr>\n",
       "  </tbody>\n",
       "</table>\n",
       "</div>"
      ],
      "text/plain": [
       "    Survival Probability\n",
       "t                       \n",
       "1               0.968033\n",
       "2               0.932434\n",
       "3               0.893683\n",
       "4               0.852289\n",
       "5               0.808776\n",
       "6               0.763673\n",
       "7               0.717504\n",
       "8               0.670778\n",
       "9               0.623981\n",
       "10              0.577566"
      ]
     },
     "execution_count": 10,
     "metadata": {},
     "output_type": "execute_result"
    }
   ],
   "source": [
    "import math\n",
    "import pandas as pd\n",
    "\n",
    "#calculate the theoretically probability\n",
    "def Svv_Pb(t):\n",
    "    return  math.exp(-t*0.03-0.5*0.005*t*t+1/6*0.008*0.008*t*t)\n",
    "\n",
    "S_P = []\n",
    "T = []\n",
    "for t in range(1,11):\n",
    "    S_P.append(Svv_Pb(t))\n",
    "    T.append(t)\n",
    "    \n",
    "#output in DataFrame\n",
    "df = pd.DataFrame(index= T )\n",
    "df['Survival Probability'] = S_P\n",
    "df.index.name = 't'\n",
    "df"
   ]
  },
  {
   "cell_type": "markdown",
   "metadata": {},
   "source": [
    "* Now, for every t, generate 10000 cox process using the code in (ii), calculate the probability that the process ends up with 0. This is then our simulated survival probablity. \n",
    "* Compare 10 simulated probabilities with theoretically values as follows: \n",
    "\n"
   ]
  },
  {
   "cell_type": "code",
   "execution_count": 79,
   "metadata": {},
   "outputs": [
    {
     "name": "stdout",
     "output_type": "stream",
     "text": [
      "0.9697\n",
      "0.933\n",
      "0.9017\n",
      "0.8499\n",
      "0.8054\n",
      "0.7604\n",
      "0.7163\n",
      "0.6726\n",
      "0.6157\n",
      "0.5931\n"
     ]
    }
   ],
   "source": [
    "Sim_SP = []\n",
    "for t in range(1,11):\n",
    "    cnt = 0\n",
    "    for i in range(0,10000):        \n",
    "        cnt += (Cox_Prc(t, 0.03, 0.005, 0.005)   == 0)\n",
    "    Sim_SP.append(cnt/10000)\n",
    "    print (cnt/10000)"
   ]
  },
  {
   "cell_type": "code",
   "execution_count": 80,
   "metadata": {},
   "outputs": [
    {
     "data": {
      "text/html": [
       "<div>\n",
       "<style scoped>\n",
       "    .dataframe tbody tr th:only-of-type {\n",
       "        vertical-align: middle;\n",
       "    }\n",
       "\n",
       "    .dataframe tbody tr th {\n",
       "        vertical-align: top;\n",
       "    }\n",
       "\n",
       "    .dataframe thead th {\n",
       "        text-align: right;\n",
       "    }\n",
       "</style>\n",
       "<table border=\"1\" class=\"dataframe\">\n",
       "  <thead>\n",
       "    <tr style=\"text-align: right;\">\n",
       "      <th></th>\n",
       "      <th>Survival Probability</th>\n",
       "      <th>Simulated Survival Probability</th>\n",
       "    </tr>\n",
       "    <tr>\n",
       "      <th>t</th>\n",
       "      <th></th>\n",
       "      <th></th>\n",
       "    </tr>\n",
       "  </thead>\n",
       "  <tbody>\n",
       "    <tr>\n",
       "      <th>1</th>\n",
       "      <td>0.968033</td>\n",
       "      <td>0.9697</td>\n",
       "    </tr>\n",
       "    <tr>\n",
       "      <th>2</th>\n",
       "      <td>0.932434</td>\n",
       "      <td>0.9330</td>\n",
       "    </tr>\n",
       "    <tr>\n",
       "      <th>3</th>\n",
       "      <td>0.893683</td>\n",
       "      <td>0.9017</td>\n",
       "    </tr>\n",
       "    <tr>\n",
       "      <th>4</th>\n",
       "      <td>0.852289</td>\n",
       "      <td>0.8499</td>\n",
       "    </tr>\n",
       "    <tr>\n",
       "      <th>5</th>\n",
       "      <td>0.808776</td>\n",
       "      <td>0.8054</td>\n",
       "    </tr>\n",
       "    <tr>\n",
       "      <th>6</th>\n",
       "      <td>0.763673</td>\n",
       "      <td>0.7604</td>\n",
       "    </tr>\n",
       "    <tr>\n",
       "      <th>7</th>\n",
       "      <td>0.717504</td>\n",
       "      <td>0.7163</td>\n",
       "    </tr>\n",
       "    <tr>\n",
       "      <th>8</th>\n",
       "      <td>0.670778</td>\n",
       "      <td>0.6726</td>\n",
       "    </tr>\n",
       "    <tr>\n",
       "      <th>9</th>\n",
       "      <td>0.623981</td>\n",
       "      <td>0.6157</td>\n",
       "    </tr>\n",
       "    <tr>\n",
       "      <th>10</th>\n",
       "      <td>0.577566</td>\n",
       "      <td>0.5931</td>\n",
       "    </tr>\n",
       "  </tbody>\n",
       "</table>\n",
       "</div>"
      ],
      "text/plain": [
       "    Survival Probability  Simulated Survival Probability\n",
       "t                                                       \n",
       "1               0.968033                          0.9697\n",
       "2               0.932434                          0.9330\n",
       "3               0.893683                          0.9017\n",
       "4               0.852289                          0.8499\n",
       "5               0.808776                          0.8054\n",
       "6               0.763673                          0.7604\n",
       "7               0.717504                          0.7163\n",
       "8               0.670778                          0.6726\n",
       "9               0.623981                          0.6157\n",
       "10              0.577566                          0.5931"
      ]
     },
     "execution_count": 80,
     "metadata": {},
     "output_type": "execute_result"
    }
   ],
   "source": [
    "df['Simulated Survival Probability'] = Sim_SP\n",
    "df"
   ]
  },
  {
   "cell_type": "markdown",
   "metadata": {},
   "source": [
    " We can see that the outcomes are roughly consistent. However, error exists.\n",
    " * We need more steps to simulated the results. \n",
    " * We only consider the jump size of 1. However jump size can be actually larger than 1. Thus, the simulated results underestimate the numbers of the events. Thus overestimate survival probability"
   ]
  }
 ],
 "metadata": {
  "kernelspec": {
   "display_name": "Python 3",
   "language": "python",
   "name": "python3"
  },
  "language_info": {
   "codemirror_mode": {
    "name": "ipython",
    "version": 3
   },
   "file_extension": ".py",
   "mimetype": "text/x-python",
   "name": "python",
   "nbconvert_exporter": "python",
   "pygments_lexer": "ipython3",
   "version": "3.7.0"
  }
 },
 "nbformat": 4,
 "nbformat_minor": 2
}
