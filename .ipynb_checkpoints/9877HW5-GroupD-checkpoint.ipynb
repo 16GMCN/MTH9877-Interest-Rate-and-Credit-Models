{
 "cells": [
  {
   "cell_type": "markdown",
   "metadata": {},
   "source": [
    "# MTH9877 Interest Rate and Credit Model"
   ]
  },
  {
   "cell_type": "markdown",
   "metadata": {},
   "source": [
    "### HW1 Group D\n",
    "### Group Member:  Zhirong Zhang,  Chao Peng,  Danqi (Amy) Chang,  Jason He"
   ]
  },
  {
   "cell_type": "markdown",
   "metadata": {},
   "source": [
    "## Problem 1"
   ]
  },
  {
   "cell_type": "markdown",
   "metadata": {},
   "source": [
    "According to the lectures, \n",
    "\n",
    "$$\n",
    "\\begin{eqnarray}\n",
    "C(T_0,T|T_p) &=& S_0(T_0,T)+\\Delta(T_0,T|T_p)\\\\\n",
    "&\\approx& S_0(T_0,T)\\left(1+(\\theta_c-\\theta_d)e^{\\sigma^2T_0}-1\\right)\n",
    "\\end{eqnarray}\n",
    "$$\n",
    "\n",
    "where\n",
    "\n",
    "$$\\theta_c-\\theta_d = 1-\\frac{S_0/f}{1+S_0/f}\\left(\\frac{f}{f_{CMS}}+\\frac{n}{(1+S_0/f)^n-1}\\right)$$\n",
    "\n",
    "$$\\theta_d = \\frac{S_0/f_{CMS}}{1+S_0/f}$$\n",
    "\n",
    "Also,\n",
    "\n",
    "$$\\Delta_{corr} \\approx S_0(T_0,T)\\theta_c\\left(e^{\\sigma^2T_0}-1\\right)$$\n",
    "\n",
    "$$\\Delta_{delay} \\approx -S_0(T_0,T)\\theta_d\\left(e^{\\sigma^2T_0}-1\\right)$$"
   ]
  },
  {
   "cell_type": "markdown",
   "metadata": {},
   "source": [
    "**10 year CMS settling in 1 year and paying 3 months later:**\n",
    "\n",
    "$$\n",
    "T_0 = 1, \\,T-T_0=10,\\, T_p-T_0=1/4, \\\\\n",
    "\\sigma = 30.3502\\%, \\,S_0 = 3.8724\\%, \\,f=2, \\,f_{CMS}=4,\\,n=20\n",
    "$$\n",
    "\n",
    "* The CMS rate:\n",
    "\n",
    "$$\n",
    "\\begin{eqnarray}\n",
    "C(T_0,T|T_p) &\\approx& S_0(T_0,T)\\left(1+(\\theta_c-\\theta_d)e^{\\sigma^2T_0}-1\\right)\\\\\n",
    "&\\approx& S_0(T_0,T)\\left(1+\\left(1-\\frac{S_0/f}{1+S_0/f}\\left(\\frac{f}{f_{CMS}}+\\frac{n}{(1+S_0/f)^n-1}\\right)\\right)e^{\\sigma^2T_0}-1\\right)\\\\\n",
    "&\\approx& 3.8724\\% \\left( 1+ \\left( 1-\\frac{3.8724\\%/2}{1+3.8724\\%/2} \\left( \\frac24 + \\frac{20}{\\left(1+3.8724\\%/2\\right)^{20}-1}\\right)\\right)\\left(e^{(30.3502\\%)^2}-1 \\right)\\right)\\\\\n",
    "&\\approx& 3.9389\\%\n",
    "\\end{eqnarray}\n",
    "$$\n",
    "\n",
    "\n",
    "\n",
    "* The fraction of the CMS convexity correction comes from the payment delay:\n",
    "\n",
    "$$\\frac{\\Delta_{delay}}{\\Delta_{delay}+\\Delta_{corr}} \\approx \\frac{-\\theta_d}{\\theta_c-\\theta_d} =  \\frac{-\\frac{S_0/f_{CMS}}{1+S_0/f}}{1-\\frac{S_0/f}{1+S_0/f}\\left(\\frac{f}{f_{CMS}}+\\frac{n}{(1+S_0/f)^n-1}\\right)} = -5.3396\\%$$"
   ]
  },
  {
   "cell_type": "markdown",
   "metadata": {},
   "source": [
    "**10 year CMS settling in 5 years and paying 3 months later:**\n",
    "\n",
    "$$\n",
    "T_0 = 5, \\,T-T_0=10,\\, T_p-T_0=1/4, \\\\\n",
    "\\sigma = 22.1545\\%, \\,S_0 = 5.0303\\%, \\,f=2, \\,f_{CMS}=4,\\,n=20\n",
    "$$\n",
    "\n",
    "* The CMS rate:\n",
    "\n",
    "$$\n",
    "\\begin{eqnarray}\n",
    "C(T_0,T|T_p) &\\approx& S_0(T_0,T)\\left(1+(\\theta_c-\\theta_d)e^{\\sigma^2T_0}-1\\right)\\\\\n",
    "&\\approx& S_0(T_0,T)\\left(1+\\left(1-\\frac{S_0/f}{1+S_0/f}\\left(\\frac{f}{f_{CMS}}+\\frac{n}{(1+S_0/f)^n-1}\\right)\\right)e^{\\sigma^2T_0}-1\\right)\\\\\n",
    "&\\approx& 5.0303\\% \\left( 1+ \\left( 1-\\frac{5.0303\\%/2}{1+5.0303\\%/2} \\left( \\frac24 + \\frac{20}{\\left(1+5.0303\\%/2\\right)^{20}-1}\\right)\\right)\\left(e^{(22.1545\\%)^2\\times 5}-1 \\right)\\right)\\\\\n",
    "&\\approx& 5.3453\\%\n",
    "\\end{eqnarray}\n",
    "$$\n",
    "\n",
    "\n",
    "\n",
    "* The fraction of the CMS convexity correction comes from the payment delay:\n",
    "\n",
    "$$\\frac{\\Delta_{delay}}{\\Delta_{delay}+\\Delta_{corr}} \\approx \\frac{-\\theta_d}{\\theta_c-\\theta_d} =  \\frac{-\\frac{S_0/f_{CMS}}{1+S_0/f}}{1-\\frac{S_0/f}{1+S_0/f}\\left(\\frac{f}{f_{CMS}}+\\frac{n}{(1+S_0/f)^n-1}\\right)} = -5.4481\\%$$"
   ]
  },
  {
   "cell_type": "code",
   "execution_count": 1,
   "metadata": {},
   "outputs": [],
   "source": [
    "import numpy as np"
   ]
  },
  {
   "cell_type": "code",
   "execution_count": 2,
   "metadata": {},
   "outputs": [],
   "source": [
    "S0 = 3.8724*0.01\n",
    "sigma = 30.3502*0.01\n",
    "T0 = 1\n",
    "c = S0*(1+(1-(S0/2)/(1+S0/2)*(0.5+20/((1+S0/2)**20-1)))*(np.exp(sigma**2*T0)-1))\n",
    "frac = (-S0/4/(1+S0/2))/(1-(S0/2)/(1+S0/2)*(0.5+20/((1+S0/2)**20-1)))"
   ]
  },
  {
   "cell_type": "code",
   "execution_count": 3,
   "metadata": {},
   "outputs": [
    {
     "data": {
      "text/plain": [
       "0.039388567196368886"
      ]
     },
     "execution_count": 3,
     "metadata": {},
     "output_type": "execute_result"
    }
   ],
   "source": [
    "c"
   ]
  },
  {
   "cell_type": "code",
   "execution_count": 4,
   "metadata": {},
   "outputs": [
    {
     "data": {
      "text/plain": [
       "-0.05339639277200899"
      ]
     },
     "execution_count": 4,
     "metadata": {},
     "output_type": "execute_result"
    }
   ],
   "source": [
    "frac"
   ]
  },
  {
   "cell_type": "markdown",
   "metadata": {},
   "source": [
    "## Problem 2"
   ]
  },
  {
   "cell_type": "markdown",
   "metadata": {},
   "source": [
    "From lecture 10, we know that\n",
    "\n",
    "$$dr(t) = \\mu(t,r(t))\\,dt + \\sigma(t,r(t))\\,dW(t)$$\n",
    "\n",
    "$$P(t,T) = A(t,T)exp(-B(t,T)r(t))$$\n",
    "\n",
    "### Question (i)\n",
    "\n",
    "Let $$Y(s) = e^{-\\int_t^s r(u)du}P(s,r(s))$$\n",
    "\n",
    "Apply Ito Formula, we can get\n",
    "\n",
    "$$dY = -r(s)e^{-\\int_t^s r(u)du}ds\\,P(s,r(s))+e^{-\\int_t^s r(u)du}\\,dP(s,r(s))$$\n",
    "\n",
    "Apply Ito formula to $P(s,r(s))$, we can also get\n",
    "\n",
    "$$dP(s,r(s)) = \\left(\\frac{\\partial{P}}{\\partial{s}}+\\mu(s,r(s))\\frac{\\partial{P}}{\\partial{r}}+\\frac12\\sigma^2(s,r(s))\\frac{\\partial^2{P}}{\\partial{r^2}}\\right)ds + \\sigma(s,r(s))\\frac{\\partial{P}}{\\partial{r}}dW(s)$$\n",
    "\n",
    "Put these two equations together, we can get the following formula:\n",
    "\n",
    "$$dY = e^{-\\int_t^s r(u)du}\\left(-r(s)P(s,r(s))+\\mu(s,r(s))\\frac{\\partial{P}}{\\partial{r}}+\\frac{\\partial{P}}{\\partial{s}}+\\frac12\\sigma^2(s,r(s))\\frac{\\partial^2{P}}{\\partial{r^2}}\\right)ds + e^{-\\int_t^s r(u)du}\\sigma(s,r(s))\\frac{\\partial{P}}{\\partial{r}}dW(s)$$\n",
    "\n",
    "If the partial differential equation $\\frac{\\partial{P}}{\\partial{t}} + \\frac12\\sigma^2(t,r)\\frac{\\partial^2{P}}{\\partial{r^2}}+ \\mu(t,r)\\frac{\\partial{P}}{\\partial{r}} = rP$ is satisfied, then the above formula becomes\n",
    "$$dY = e^{-\\int_t^s r(u)du}\\sigma(s,r(s))\\frac{\\partial{P}}{\\partial{r}}dW(s)$$\n",
    "\n",
    "$$Y(T)-Y(t) = \\int_t^T e^{-\\int_t^s r(u)du}\\sigma(s,r(s))\\frac{\\partial{P}}{\\partial{r}}dW(s)$$\n",
    "\n",
    "We know that the right hand side is a martingale, so we can take the conditional expectation,\n",
    "\n",
    "$$\\mathbb{E}[Y(T)|r(t)] = \\mathbb{E}[Y(t)|r(t)] = e^{-\\int_t^t r(u)du}P(t,r(t)) = P(t,r(t)) = \\mathbb{E}[e^{-\\int_t^T r(u)du}P(T,r(T))|t]$$\n",
    "\n",
    "Also, from terminal condition of the partial differential equation, we get that $P(T,T)=1$, thus we prove that\n",
    "\n",
    "$$P(t,T) = P(t,r(t)) = \\mathbb{E}_t^{Q}[e^{-\\int_t^T r(u)du}]$$\n",
    "\n",
    "Thus $P(t,T)$ from the lecture satisfies this differential equation."
   ]
  },
  {
   "cell_type": "markdown",
   "metadata": {},
   "source": [
    "### Question (ii)\n",
    "\n",
    "From the lecture, we have\n",
    "\n",
    "$$P(t,T) = A(t,T)exp(-B(t,T)r(t))$$\n",
    "\n",
    "Then we can derive that\n",
    "\n",
    "$$\n",
    "\\begin{eqnarray}\n",
    "\\frac{\\partial{P}}{\\partial{t}} &=& \\frac{\\partial{A}}{\\partial{t}}exp(-B(t,T)r(t))-A(t,T)exp(-B(t,T)r(t))\\frac{\\partial{B}}{\\partial{t}}r(t)\\\\\n",
    "\\frac{\\partial{P}}{\\partial{r}} &=& -A(t,T)B(t,T)exp(-B(t,T)r(t))\\\\\n",
    "\\frac{\\partial^2{P}}{\\partial{r^2}} &=& A(t,T)B^2(t,T)exp(-B(t,T)r(t))\n",
    "\\end{eqnarray}\n",
    "$$\n",
    "\n",
    "Put those equations into the differential equation, we can get\n",
    "\n",
    "$$\\frac{\\partial{A}}{\\partial{t}} \\,exp(-Br)-A\\,exp(-Br)\\,r\\frac{\\partial{B}}{\\partial{t}} +\\frac12 \\sigma^2(t,r)AB^2exp(-Br)-\\mu(t,r)AB\\,exp(-Br)=rA\\,exp(-Br)$$\n",
    "\n",
    "$$\\frac1A \\frac{\\partial{A}}{\\partial{t}} - r\\frac{\\partial{B}}{\\partial{t}} + \\frac12\\sigma^2(t,r)B^2-\\mu(t,r)B = r $$\n",
    "\n",
    "Thus \n",
    "\n",
    "$$\\frac{\\partial{logA}}{\\partial{t}} - r\\frac{\\partial{B}}{\\partial{t}} + \\frac12\\sigma^2(t,r)B^2-\\mu(t,r)B = r $$\n",
    "\n",
    "and \n",
    "\n",
    "$$P(T,T) = 1, A(T,T)=1, B(T,T)=0$$"
   ]
  },
  {
   "cell_type": "markdown",
   "metadata": {},
   "source": [
    "### Question (iii)\n",
    "From equation(43), we can get\n",
    "\n",
    "$$\n",
    "\\begin{eqnarray}\n",
    "\\mu(t,r) = a(t)r+b(t)\n",
    "\\sigma^2(t,r) = c(t)r+d(t)\n",
    "\\end{eqnarray}\n",
    "$$\n",
    "\n",
    "Put into the equation in question(ii)\n",
    "\n",
    "$$\\frac{\\partial{logA}}{\\partial{t}} - r\\frac{\\partial{B}}{\\partial{t}} + \\frac12(c(t)r+d(t))B^2-(a(t)r+b(t))B = r $$\n",
    "\n",
    "$$\\frac{\\partial{logA}}{\\partial{t}} +\\frac12 d(t)B^2-b(t)B + r\\left(-\\frac{\\partial{B}}{\\partial{t}} + \\frac12 c(t)B^2-a(t)B-1 \\right) = 0 $$\n",
    "\n",
    "And since the randomness only comes from $r(t)$, all other variables are functions of time and deterministic, so we can make the parameters equal to zero and derive those equations(44)\n",
    "\n",
    "$$\n",
    "\\frac{\\partial{B}}{\\partial{t}} -\\frac12c(t)B(t,T)^2 + a(t)B(t,T)+1=0\\\\\n",
    "\\frac{\\partial{logA}}{\\partial{t}}+\\frac12d(t)B(t,T)^2-b(t)B(t,T)=0\n",
    "$$\n",
    "\n",
    "with termial conditions\n",
    "\n",
    "$$\n",
    "B(T,T) =0, A(T,T)=1\n",
    "$$"
   ]
  },
  {
   "cell_type": "markdown",
   "metadata": {},
   "source": [
    "## Problem 3 and 4"
   ]
  },
  {
   "cell_type": "code",
   "execution_count": 5,
   "metadata": {},
   "outputs": [],
   "source": [
    "import math"
   ]
  },
  {
   "cell_type": "markdown",
   "metadata": {},
   "source": [
    "From HW1, we fit the Nelson-Siegel model by fixing $\\lambda = 0.5$. Our fitted parameters are quite stable as:\n",
    "$$\n",
    "\\begin{align*}\n",
    "\\beta_0 &= 2.895458729949805\\\\\n",
    "\\beta_1 &= 0.001160491744925718\\\\\n",
    "\\beta_2 &= -1.1830912816972\n",
    "\\end{align*}\n",
    "$$\n",
    "So, we can define our curve as following function \"zeroCouponRates\" in class Curve."
   ]
  },
  {
   "cell_type": "code",
   "execution_count": 6,
   "metadata": {},
   "outputs": [],
   "source": [
    "class Curve:\n",
    "    def zeroCouponRates(self, x):\n",
    "        return (2.895458729949805 + 0.001160491744925718*(1-np.exp(-0.5*x))/(0.5*x) - 1.1830912816972*((1-np.exp(-0.5*x))/(0.5*x) - np.exp(-0.5*x)))/100\n",
    "    \n",
    "    def discountFactor(self, S, T):\n",
    "        end = self.zeroCouponRates(T) * T\n",
    "        if S == 0:\n",
    "            start = 0\n",
    "        else:\n",
    "            start = self.zeroCouponRates(S) * S\n",
    "        return np.exp(-(end-start))\n",
    "    \n",
    "    def forwardRate(self, S, T):\n",
    "        end = self.zeroCouponRates(T)*T\n",
    "        if S == 0:\n",
    "            start = 0\n",
    "        else:\n",
    "            start = self.zeroCouponRates(S) * S\n",
    "        return (end-start)/(T-S)"
   ]
  },
  {
   "cell_type": "code",
   "execution_count": 7,
   "metadata": {},
   "outputs": [],
   "source": [
    "def spectralDecomposition(dt, n, p):\n",
    "    cov = np.ones((n,n))\n",
    "\n",
    "    for i in range(1,n+1):\n",
    "        for j in range(1,n+1):\n",
    "            cov[i-1,j-1] = np.minimum(i,j) * dt\n",
    "\n",
    "    eigen_val, eigen_vec = np.linalg.eig(cov)\n",
    "    wt = np.sum((np.sqrt(eigen_val) * eigen_vec.T * np.random.normal(size = n))[:p],axis = 0)\n",
    "    wt = np.insert(wt, 0, 0.)\n",
    "    return np.diff(wt)"
   ]
  },
  {
   "cell_type": "code",
   "execution_count": 8,
   "metadata": {},
   "outputs": [],
   "source": [
    "class LMM:\n",
    "    def __init__(self, dt, steps, periods, libor_0, vol, frozen = False):\n",
    "        self.steps = steps\n",
    "        self.periods = periods\n",
    "        self.libor = np.ones((periods,steps + 1))\n",
    "        self.libor[:,0] = libor_0\n",
    "        self.dt = dt\n",
    "        self.vol = vol\n",
    "        self.frozen = frozen\n",
    "    \n",
    "    def simulate(self):\n",
    "        self.bm = spectralDecomposition(self.dt, self.steps, self.steps)\n",
    "        for i in range(self.steps):\n",
    "            for j in range(self.periods):\n",
    "                self.drift = 0\n",
    "                if j != (self.periods - 1):\n",
    "                    if not self.frozen:\n",
    "                        for k in range(j,self.periods):\n",
    "                            self.drift -= 0.25 * (self.vol**2)/(1. + 0.25 * self.libor[k][i-1]) if i > 0 else self.drift - 0.25 * (self.vol**2)/(1. + 0.25 * self.libor[k][i])\n",
    "                    else:\n",
    "                        for k in range(j,self.periods):\n",
    "                            self.drift -= 0.25 * (self.vol**2)/(1. + 0.25 * self.libor[k][0])\n",
    "                \n",
    "                # update libor\n",
    "                self.libor[j,i + 1] = np.max(self.libor[j,i] + self.drift*self.dt + self.vol*self.bm[i],0)\n",
    "                \n",
    "        return self.libor[:,-1]"
   ]
  },
  {
   "cell_type": "code",
   "execution_count": 9,
   "metadata": {},
   "outputs": [],
   "source": [
    "class SwaptionWithLMM:\n",
    "    def __init__(self, settlement, steps, maturity, liborCurve, vol = 0.0085, strike = 0.03872, frozen = False):\n",
    "        self.settlement = settlement\n",
    "        self.maturity = maturity\n",
    "        self.periods = maturity * 4\n",
    "        self.vol = vol\n",
    "        self.strike = strike\n",
    "        self.liborCurve = liborCurve\n",
    "        libor_init = [liborCurve.forwardRate(settlement+i*0.25, settlement+(i+1)*0.25) for i in range(self.periods)]\n",
    "        self.libor_market = LMM(settlement/steps, steps, self.periods, libor_init, vol, frozen)\n",
    "\n",
    "    def price(self, num_MC):\n",
    "        res = 0.0\n",
    "        for i in range(num_MC):\n",
    "            libor_forward = self.libor_market.simulate()\n",
    "            \n",
    "            # fixed leg, semiannually, alpha=0.5\n",
    "            fixed_leg = 0.0\n",
    "            maturity = self.maturity\n",
    "            while maturity > 0:\n",
    "                fixed_leg += 0.5*self.strike*self.liborCurve.discountFactor(self.settlement,maturity+self.settlement)\n",
    "                maturity -= 0.5\n",
    "                \n",
    "            # floating leg, quarterly, delta=0.25\n",
    "            floating_leg = 0.0\n",
    "            maturity = self.maturity\n",
    "            while maturity > 0:\n",
    "                floating_leg += 0.25*libor_forward[int(maturity/0.25)-1]*self.liborCurve.discountFactor(self.settlement,maturity+self.settlement)\n",
    "                maturity -= 0.25\n",
    "    \n",
    "            val = max(fixed_leg - floating_leg, 0)\n",
    "            res += val\n",
    "        \n",
    "        price = res/num_MC*self.liborCurve.discountFactor(0, self.settlement)\n",
    "        return price"
   ]
  },
  {
   "cell_type": "code",
   "execution_count": 10,
   "metadata": {},
   "outputs": [],
   "source": [
    "settle_time = 1\n",
    "maturity = 10\n",
    "steps = 100\n",
    "\n",
    "libor_curve = Curve()\n",
    "swaption_exact = SwaptionWithLMM(settle_time, steps, maturity, libor_curve)\n",
    "swaption_frozen = SwaptionWithLMM(settle_time, steps, maturity, libor_curve, frozen = True)"
   ]
  },
  {
   "cell_type": "code",
   "execution_count": 11,
   "metadata": {},
   "outputs": [],
   "source": [
    "exact2000 = swaption_exact.price(2000)\n",
    "frozen2000 = swaption_frozen.price(2000)"
   ]
  },
  {
   "cell_type": "code",
   "execution_count": 12,
   "metadata": {},
   "outputs": [
    {
     "name": "stdout",
     "output_type": "stream",
     "text": [
      "0.10432876035022547\n",
      "0.10436185189173311\n"
     ]
    }
   ],
   "source": [
    "print(exact2000)\n",
    "print(frozen2000)"
   ]
  },
  {
   "cell_type": "code",
   "execution_count": 13,
   "metadata": {},
   "outputs": [],
   "source": [
    "exact5000 = swaption_exact.price(5000)\n",
    "frozen5000 = swaption_frozen.price(5000)"
   ]
  },
  {
   "cell_type": "code",
   "execution_count": 14,
   "metadata": {},
   "outputs": [
    {
     "name": "stdout",
     "output_type": "stream",
     "text": [
      "0.10433837169830286\n",
      "0.10437399589959673\n"
     ]
    }
   ],
   "source": [
    "print(exact5000)\n",
    "print(frozen5000)"
   ]
  },
  {
   "cell_type": "markdown",
   "metadata": {},
   "source": [
    "### Comparison between exact and frozen curve calculation with 2000/5000 MC"
   ]
  },
  {
   "cell_type": "code",
   "execution_count": 15,
   "metadata": {},
   "outputs": [
    {
     "data": {
      "text/plain": [
       "9.21255849789475e-05"
      ]
     },
     "execution_count": 15,
     "metadata": {},
     "output_type": "execute_result"
    }
   ],
   "source": [
    "abs(exact2000 - exact5000) / exact2000"
   ]
  },
  {
   "cell_type": "code",
   "execution_count": 16,
   "metadata": {},
   "outputs": [
    {
     "data": {
      "text/plain": [
       "0.00011636443435496477"
      ]
     },
     "execution_count": 16,
     "metadata": {},
     "output_type": "execute_result"
    }
   ],
   "source": [
    "abs(frozen2000 - frozen5000) / frozen2000"
   ]
  },
  {
   "cell_type": "markdown",
   "metadata": {},
   "source": [
    "As we can see from above results, within same drift term calculation method, percentage differences are within 0.0116%. So, MC with 2000 or 5000 are stable and accurate."
   ]
  },
  {
   "cell_type": "code",
   "execution_count": 17,
   "metadata": {},
   "outputs": [
    {
     "data": {
      "text/plain": [
       "0.00031718522674435045"
      ]
     },
     "execution_count": 17,
     "metadata": {},
     "output_type": "execute_result"
    }
   ],
   "source": [
    "abs(exact2000 - frozen2000) / exact2000"
   ]
  },
  {
   "cell_type": "code",
   "execution_count": 18,
   "metadata": {},
   "outputs": [
    {
     "data": {
      "text/plain": [
       "0.0003414295308046091"
      ]
     },
     "execution_count": 18,
     "metadata": {},
     "output_type": "execute_result"
    }
   ],
   "source": [
    "abs(exact5000 - frozen5000) / exact5000"
   ]
  },
  {
   "cell_type": "markdown",
   "metadata": {},
   "source": [
    "As we can see from above results, with same MC numbers, differences between exact drift and frozen curve calculation, differences are about 0.03%. So, results are stable and accurate."
   ]
  }
 ],
 "metadata": {
  "kernelspec": {
   "display_name": "Python 3",
   "language": "python",
   "name": "python3"
  },
  "language_info": {
   "codemirror_mode": {
    "name": "ipython",
    "version": 3
   },
   "file_extension": ".py",
   "mimetype": "text/x-python",
   "name": "python",
   "nbconvert_exporter": "python",
   "pygments_lexer": "ipython3",
   "version": "3.7.3"
  },
  "latex_envs": {
   "LaTeX_envs_menu_present": true,
   "autoclose": true,
   "autocomplete": true,
   "bibliofile": "biblio.bib",
   "cite_by": "apalike",
   "current_citInitial": 1,
   "eqLabelWithNumbers": false,
   "eqNumInitial": 1,
   "hotkeys": {
    "equation": "Ctrl-E",
    "itemize": "Ctrl-I"
   },
   "labels_anchors": false,
   "latex_user_defs": false,
   "report_style_numbering": false,
   "user_envs_cfg": false
  },
  "toc": {
   "base_numbering": 1,
   "nav_menu": {},
   "number_sections": true,
   "sideBar": true,
   "skip_h1_title": false,
   "title_cell": "Table of Contents",
   "title_sidebar": "Contents",
   "toc_cell": false,
   "toc_position": {},
   "toc_section_display": true,
   "toc_window_display": false
  },
  "varInspector": {
   "cols": {
    "lenName": 16,
    "lenType": 16,
    "lenVar": 40
   },
   "kernels_config": {
    "python": {
     "delete_cmd_postfix": "",
     "delete_cmd_prefix": "del ",
     "library": "var_list.py",
     "varRefreshCmd": "print(var_dic_list())"
    },
    "r": {
     "delete_cmd_postfix": ") ",
     "delete_cmd_prefix": "rm(",
     "library": "var_list.r",
     "varRefreshCmd": "cat(var_dic_list()) "
    }
   },
   "types_to_exclude": [
    "module",
    "function",
    "builtin_function_or_method",
    "instance",
    "_Feature"
   ],
   "window_display": false
  }
 },
 "nbformat": 4,
 "nbformat_minor": 2
}
