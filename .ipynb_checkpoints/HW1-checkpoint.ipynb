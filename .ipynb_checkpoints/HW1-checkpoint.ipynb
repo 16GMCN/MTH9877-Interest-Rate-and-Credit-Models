{
 "cells": [
  {
   "cell_type": "code",
   "execution_count": null,
   "metadata": {},
   "outputs": [],
   "source": []
  },
  {
   "cell_type": "markdown",
   "metadata": {},
   "source": [
    "## Problem 1\n",
    "\n",
    "### (i)\n",
    "\n",
    "the first part of integration is\n",
    "$$\n",
    "\\int_0^T \\beta_0 ds = \\beta_0 T\n",
    "$$\n",
    "\n",
    "the second part of integration is \n",
    "$$\n",
    "\\int_0^T \\beta_1 e^{-\\lambda s}ds=\\frac{\\beta_1}{\\lambda}(1-e^{-\\lambda T})\n",
    "$$\n",
    "\n",
    "because \n",
    "$$\n",
    "\\int_0^T s e^{-\\lambda s}ds=-\\frac{1}{\\lambda}(s e^{-\\lambda s}|_0^{T}-\\int_0^T e^{-\\lambda s}ds)\n",
    "$$\n",
    "the third part of integration is \n",
    "$$\n",
    "\\int_0^T \\beta_2 \\lambda s e^{-\\lambda s}ds=\\beta_2(\\frac{1-e^{-\\lambda T}}{\\lambda}-e^{-\\lambda T}T)\n",
    "$$\n",
    "\n",
    "So finally we have \n",
    "$$\n",
    "Y(T)=\\beta_0+\\beta_1 \\frac{1-e^{-\\lambda T}}{\\lambda T}+\\beta_2(\\frac{1-e^{-\\lambda T}}{\\lambda T}-e^{-\\lambda T})\n",
    "$$\n"
   ]
  },
  {
   "cell_type": "markdown",
   "metadata": {},
   "source": [
    "### (ii)"
   ]
  },
  {
   "cell_type": "code",
   "execution_count": 1,
   "metadata": {},
   "outputs": [],
   "source": [
    "import pandas as pd\n",
    "from scipy.optimize import least_squares\n",
    "import numpy as np\n",
    "import matplotlib.pyplot as plt"
   ]
  },
  {
   "cell_type": "code",
   "execution_count": 2,
   "metadata": {},
   "outputs": [],
   "source": [
    "def model(param,x):\n",
    "    temp=np.exp(-param[3]*x)\n",
    "    temp1=param[1]*(1-temp)/param[3]/x\n",
    "    temp2=param[2]*((1-temp)/param[3]/x-temp)\n",
    "    return param[0]+temp1+temp2\n",
    "\n",
    "def fun(param,x,y):\n",
    "    return model(param,x)-y"
   ]
  },
  {
   "cell_type": "code",
   "execution_count": 11,
   "metadata": {},
   "outputs": [],
   "source": [
    "X=[1,2,3,4,5,8,9,10,15,20,30]\n",
    "X=np.array(X)\n",
    "data=pd.read_excel('Zero_Swap_Rate.xlsx',index_col=0)\n",
    "Y=data[\"2/18/2019\"]\n",
    "Y=np.array(Y)"
   ]
  },
  {
   "cell_type": "code",
   "execution_count": 22,
   "metadata": {},
   "outputs": [
    {
     "data": {
      "text/plain": [
       "Tenors\n",
       "1Yr     2.686017\n",
       "2Yr     2.620687\n",
       "3Yr     2.566360\n",
       "4Yr     2.547613\n",
       "5Yr     2.553161\n",
       "8Yr     2.623145\n",
       "9Yr     2.651876\n",
       "10Yr    2.680740\n",
       "15Yr    2.777021\n",
       "20Yr    2.808590\n",
       "30Yr    2.810545\n",
       "Name: 2/18/2019, dtype: float64"
      ]
     },
     "execution_count": 22,
     "metadata": {},
     "output_type": "execute_result"
    }
   ],
   "source": [
    "data[\"2/18/2019\"]"
   ]
  },
  {
   "cell_type": "markdown",
   "metadata": {},
   "source": [
    "### (iii)"
   ]
  },
  {
   "cell_type": "code",
   "execution_count": 12,
   "metadata": {},
   "outputs": [
    {
     "name": "stderr",
     "output_type": "stream",
     "text": [
      "/home/zecophy/Documents/anaconda3/lib/python3.7/site-packages/ipykernel_launcher.py:4: RuntimeWarning: invalid value encountered in subtract\n",
      "  after removing the cwd from sys.path.\n",
      "/home/zecophy/Documents/anaconda3/lib/python3.7/site-packages/ipykernel_launcher.py:3: RuntimeWarning: overflow encountered in multiply\n",
      "  This is separate from the ipykernel package so we can avoid doing imports until\n",
      "/home/zecophy/Documents/anaconda3/lib/python3.7/site-packages/ipykernel_launcher.py:4: RuntimeWarning: overflow encountered in multiply\n",
      "  after removing the cwd from sys.path.\n",
      "/home/zecophy/Documents/anaconda3/lib/python3.7/site-packages/ipykernel_launcher.py:5: RuntimeWarning: invalid value encountered in add\n",
      "  \"\"\"\n"
     ]
    }
   ],
   "source": [
    "# Generate a random vector with uniform distribution between min_range and max_range\n",
    "def random_vector(n, min_range, max_range):\n",
    "    result = []\n",
    "    for i in range(n):\n",
    "        result.append(np.random.uniform(min_range,max_range))\n",
    "    return result\n",
    "\n",
    "\n",
    "# Determine the number of runs we will attempt.\n",
    "trials = 1000\n",
    "# Choose a range of values near the origin as our observation points are also close to the origin.\n",
    "min_range = -10\n",
    "max_range = 10\n",
    "min_cost = float('inf')\n",
    "min_x = []\n",
    "min_initial = []\n",
    "\n",
    "for i in range(trials):\n",
    "    # generate a random initial guess within the established range\n",
    "    x0=random_vector(4,min_range, max_range)\n",
    "    # run the least squares minimization\n",
    "    res_lsq = least_squares(fun, x0, args=(X,Y),method='lm')\n",
    "    # store the run that results in the minimum cost\n",
    "    if res_lsq.success and res_lsq.cost < min_cost:\n",
    "        min_initial = x0\n",
    "        min_cost = res_lsq.cost\n",
    "        min_x = res_lsq.x"
   ]
  },
  {
   "cell_type": "code",
   "execution_count": 25,
   "metadata": {},
   "outputs": [
    {
     "name": "stdout",
     "output_type": "stream",
     "text": [
      "calibration error:   0.0012963388266649654\n",
      "model parameters:    [ 2.92592168 -0.03275467 -1.19073709  0.46195088]\n"
     ]
    }
   ],
   "source": [
    "print(\"calibration error:  \",min_cost)\n",
    "print(\"model parameters:   \",min_x)"
   ]
  },
  {
   "cell_type": "markdown",
   "metadata": {},
   "source": [
    "### (iv)"
   ]
  },
  {
   "cell_type": "code",
   "execution_count": 31,
   "metadata": {},
   "outputs": [
    {
     "name": "stdout",
     "output_type": "stream",
     "text": [
      "fix lambda =  0.4\n",
      "    --calibration error:   0.0016122412196902854\n",
      "    --model parameters:    [ 2.9496276  -0.10888017 -1.1234777 ]\n",
      "fix lambda =  0.41000000000000003\n",
      "    --calibration error:   0.0015148042147742498\n",
      "    --model parameters:    [ 2.94553351 -0.09624685 -1.13493813]\n",
      "fix lambda =  0.42000000000000004\n",
      "    --calibration error:   0.0014363792838016443\n",
      "    --model parameters:    [ 2.94154812 -0.08375149 -1.14615   ]\n",
      "fix lambda =  0.43000000000000005\n",
      "    --calibration error:   0.001376167915754355\n",
      "    --model parameters:    [ 2.93766702 -0.07139054 -1.15712446]\n",
      "fix lambda =  0.44\n",
      "    --calibration error:   0.0013333546459856952\n",
      "    --model parameters:    [ 2.93388622 -0.05916042 -1.16787334]\n",
      "fix lambda =  0.45\n",
      "    --calibration error:   0.0013071147096437212\n",
      "    --model parameters:    [ 2.93020215 -0.04705744 -1.17840873]\n",
      "fix lambda =  0.46\n",
      "    --calibration error:   0.0012966208551996612\n",
      "    --model parameters:    [ 2.92661154 -0.03507784 -1.1887431 ]\n",
      "fix lambda =  0.47000000000000003\n",
      "    --calibration error:   0.0013010493468496864\n",
      "    --model parameters:    [ 2.92311137 -0.02321772 -1.19888901]\n",
      "fix lambda =  0.48000000000000004\n",
      "    --calibration error:   0.001319585191473209\n",
      "    --model parameters:    [ 2.91969886 -0.01147306 -1.20885914]\n",
      "fix lambda =  0.49\n",
      "    --calibration error:   0.0013514266316195958\n",
      "    --model parameters:    [ 2.91637141e+00  1.60244985e-04 -1.21866605e+00]\n",
      "fix lambda =  0.5\n",
      "    --calibration error:   0.0013957889505430993\n",
      "    --model parameters:    [ 2.91312658  0.01168646 -1.22832234]\n"
     ]
    }
   ],
   "source": [
    "lambs=[]\n",
    "calerrors=[]\n",
    "for j in range(11):\n",
    "    lamb=0.4+j*0.01\n",
    "    lambs.append(lamb)\n",
    "    def model0(param,x):\n",
    "        temp=np.exp(-lamb*x)\n",
    "        temp1=param[1]*(1-temp)/lamb/x\n",
    "        temp2=param[2]*((1-temp)/lamb/x-temp)\n",
    "        return param[0]+temp1+temp2\n",
    "\n",
    "    def fun0(param,x,y):\n",
    "        return model0(param,x)-y\n",
    "   \n",
    "    min_cost = float('inf')\n",
    "    min_x = []\n",
    "    min_initial = []\n",
    "\n",
    "    for i in range(trials):\n",
    "        # generate a random initial guess within the established range\n",
    "        x0=random_vector(3,min_range, max_range)\n",
    "        # run the least squares minimization\n",
    "        res_lsq = least_squares(fun0, x0, args=(X,Y),method='lm')\n",
    "        # store the run that results in the minimum cost\n",
    "        if res_lsq.success and res_lsq.cost < min_cost:\n",
    "            min_initial = x0\n",
    "            min_cost = res_lsq.cost\n",
    "            min_x = res_lsq.x\n",
    "    calerrors.append(min_cost)\n",
    "    print(\"fix lambda = \",lamb)\n",
    "    print(\"    --calibration error:  \",min_cost)\n",
    "    print(\"    --model parameters:   \",min_x)"
   ]
  },
  {
   "cell_type": "code",
   "execution_count": 32,
   "metadata": {},
   "outputs": [
    {
     "data": {
      "image/png": "[encoded data removed]",
      "text/plain": [
       "<Figure size 432x288 with 1 Axes>"
      ]
     },
     "metadata": {
      "needs_background": "light"
     },
     "output_type": "display_data"
    }
   ],
   "source": [
    "plt.plot(lambs, calerrors, 'o', markersize=4)\n",
    "plt.xlabel(\"lambda\")\n",
    "plt.ylabel(\"calibration error\")\n",
    "plt.show()"
   ]
  },
  {
   "cell_type": "markdown",
   "metadata": {},
   "source": [
    "When we set $\\lambda$ to be 0.46, the calibration error is minimum."
   ]
  },
  {
   "cell_type": "markdown",
   "metadata": {},
   "source": [
    "## Problem 2"
   ]
  },
  {
   "cell_type": "markdown",
   "metadata": {},
   "source": [
    "### (i)\n",
    "\n",
    "In Merton's model\n",
    "$$\n",
    "R(t)=\\frac{V(t)N(-d_1)}{Fe^{-r(T-t)}N(-d_2)}\n",
    "$$\n",
    "\n",
    "So\n",
    "$$\n",
    "LGD(t)=(1-\\frac{V(t)N(-d_1)}{Fe^{-r(T-t)}N(-d_2)})F\n",
    "$$\n",
    "\n",
    "Because $V(t)$ follows geometric Brownian Motion, $V(t)=V(0)e^{(\\mu-\\frac{1}{2}\\sigma^2)t+\\sigma \\sqrt{t} z}$. Where z is a standard normal distributed random variable.\n",
    "\n",
    "$$\n",
    "\\Pr (LGD(t)\\le x)=\\Pr (z \\ge \\frac{1}{\\sigma \\sqrt{t}}\\{ \\log [ (1-\\frac{x}{F})\\frac{Fe^{-r(T-t)}N(-d_2)}{N(-d_1)V(0)}]-(\\mu-\\frac{1}{2}\\sigma^2)t \\}  )\n",
    "$$\n",
    "\n",
    "$$\n",
    "\\Pr (LGD(t)\\le x)=1-\\mathscr{N}(\\frac{1}{\\sigma \\sqrt{t}}\\{ \\log [ (1-\\frac{x}{F})\\frac{Fe^{-r(T-t)}N(-d_2)}{N(-d_1)V(0)}]-(\\mu-\\frac{1}{2}\\sigma^2)t \\})\n",
    "$$\n",
    "\n",
    "where $\\mathscr{N(.)}$ is the culmulative probility function of standard normal distribution"
   ]
  },
  {
   "cell_type": "markdown",
   "metadata": {},
   "source": [
    "### (ii)\n",
    "\n",
    "$$\n",
    "f(x)=\\frac{d\\Pr (LGD(t)\\le x) }{dx}=\\mathscr{N}'(\\frac{1}{\\sigma \\sqrt{t}}\\{ \\log [ (1-\\frac{x}{F})\\frac{Fe^{-r(T-t)}N(-d_2)}{N(-d_1)V(0)}]-(\\mu-\\frac{1}{2}\\sigma^2)t \\})\\frac{1}{\\sigma \\sqrt{t}(F-x)}\n",
    "$$"
   ]
  },
  {
   "cell_type": "code",
   "execution_count": 10,
   "metadata": {},
   "outputs": [],
   "source": [
    "sigma=0.25\n",
    "V0=95\n",
    "F=100\n",
    "r=0\n",
    "mu=0\n",
    "t=1\n",
    "T=10\n",
    "\n",
    "d1=(np.log(V0/F)+(r+0.5*sigma*sigma)*(T-t))/sigma/np.sqrt(T-t)\n",
    "d2=d1-sigma*np.sqrt(T-t)\n",
    "\n",
    "import scipy.stats as st \n",
    "temp1=st.norm.cdf(-d2,0,1)*F*np.exp(-r*(T-t))/st.norm.cdf(-d1,0,1)/V0\n",
    "temp2=(mu-0.5*sigma*sigma)*t\n",
    "\n",
    "def fun(x):\n",
    "    return st.norm.pdf(1/sigma/np.sqrt(t)*(np.log((1-x/F)*temp1)-temp2),0,1)/sigma/np.sqrt(t)/(F-x)\n"
   ]
  },
  {
   "cell_type": "code",
   "execution_count": 11,
   "metadata": {},
   "outputs": [
    {
     "data": {
      "text/plain": [
       "0.0005595647551348712"
      ]
     },
     "execution_count": 11,
     "metadata": {},
     "output_type": "execute_result"
    }
   ],
   "source": [
    "fun(0.5)"
   ]
  },
  {
   "cell_type": "code",
   "execution_count": null,
   "metadata": {},
   "outputs": [],
   "source": []
  }
 ],
 "metadata": {
  "kernelspec": {
   "display_name": "Python 3",
   "language": "python",
   "name": "python3"
  },
  "language_info": {
   "codemirror_mode": {
    "name": "ipython",
    "version": 3
   },
   "file_extension": ".py",
   "mimetype": "text/x-python",
   "name": "python",
   "nbconvert_exporter": "python",
   "pygments_lexer": "ipython3",
   "version": "3.7.0"
  }
 },
 "nbformat": 4,
 "nbformat_minor": 2
}
