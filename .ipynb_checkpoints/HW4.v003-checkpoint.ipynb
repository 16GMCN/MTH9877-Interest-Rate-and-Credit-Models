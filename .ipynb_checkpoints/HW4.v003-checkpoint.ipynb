{
 "cells": [
  {
   "cell_type": "markdown",
   "metadata": {},
   "source": [
    "MTH-9877 Interest Rate and Credit Models \n",
    "========================================\n",
    "\n",
    "### Professor \n",
    "Andrew Lesniewski\n",
    "Baruch College, CUNY\n",
    "Spring 2019\n",
    "\n",
    "### Teaching Assistants\n",
    "+ Nikos Rachmanis: nikos.fxcube@gmail.com\n",
    "+ Stephanie Wang: Yicen.Wang@baruch.cuny.edu\n",
    "\n",
    "### Group C\n",
    "+ Gu,Haocheng\n",
    "+ Canete,Alejandro\n",
    "+ Jiang,Yueting\n",
    "+ Xu,Xi"
   ]
  },
  {
   "cell_type": "markdown",
   "metadata": {},
   "source": [
    "### Homework 4 - Problem 4\n",
    "\n",
    "Assume that the CCP calculates the margin requirements by means of VaR at the $p = 99\\%$ confidence level. \n",
    "\n",
    "Regulatory authorities require that the CCP back test the performance of its risk model by calculating the number of breaches of the VaR model over the test period of the most recent 250 days (one year). \n",
    "\n",
    "Specifically, on each day of the test period, the daily portfolio loss is compared to the calculated VaR level. \n",
    "\n",
    "A VaR breach means that the loss on a given day exceeds the VaR level."
   ]
  },
  {
   "cell_type": "code",
   "execution_count": 15,
   "metadata": {
    "collapsed": true
   },
   "outputs": [],
   "source": [
    "import numpy as np\n",
    "import scipy as sp\n",
    "import pandas as pd\n",
    "from scipy import stats\n",
    "%matplotlib inline"
   ]
  },
  {
   "cell_type": "markdown",
   "metadata": {},
   "source": [
    "(i) Assuming that the daily portfolio returns are independent of each other, find the probability distribution of the number of VaR breaches. What is the expected number of VaR breaches?"
   ]
  },
  {
   "cell_type": "code",
   "execution_count": 16,
   "metadata": {},
   "outputs": [
    {
     "name": "stdout",
     "output_type": "stream",
     "text": [
      "VAR_LEVEL -2.32634787404\n"
     ]
    }
   ],
   "source": [
    "DAYS_PER_YEAR = 255\n",
    "P = 0.99\n",
    "VAR_LEVEL = -1.0* stats.norm.ppf(P)\n",
    "print \"VAR_LEVEL\", VAR_LEVEL\n",
    "NUMBER_OF_SIMULATIONS = 100000"
   ]
  },
  {
   "cell_type": "markdown",
   "metadata": {},
   "source": [
    "The distrubition of breaches can be modelled as the convolution of sum of 255 bernoulli trials with probability of success of 1%, which is equal as a Binomial(255, 1%), in general:\n",
    "\n",
    "$Pr\\{ \\textrm{number of VaR}@p\\% \\textrm{ breaches} \\} \\sim Binomial (255, 1 - p\\% )$ and,\n",
    "\n",
    "$\\mathbb E \\{   \\textrm{number of VaR}@p\\% \\textrm{ breaches} \\} = 255 \\cdot (1-p\\%)$\n",
    "\n",
    "With $p=99\\%$, $\\mathbb E \\{   \\textrm{number of VaR}@99\\% \\textrm{ breaches} \\} = 255*0.01$\n"
   ]
  },
  {
   "cell_type": "code",
   "execution_count": 4,
   "metadata": {},
   "outputs": [
    {
     "data": {
      "text/plain": [
       "2.5500000000000003"
      ]
     },
     "execution_count": 4,
     "metadata": {},
     "output_type": "execute_result"
    }
   ],
   "source": [
    "255*0.01"
   ]
  },
  {
   "cell_type": "code",
   "execution_count": 37,
   "metadata": {},
   "outputs": [
    {
     "data": {
      "text/plain": [
       "<matplotlib.axes._subplots.AxesSubplot at 0x7ff0ad82b2d0>"
      ]
     },
     "execution_count": 37,
     "metadata": {},
     "output_type": "execute_result"
    },
    {
     "data": {
      "image/png": "[encoded data removed]",
      "text/plain": [
       "<matplotlib.figure.Figure at 0x7ff0ada62e90>"
      ]
     },
     "metadata": {},
     "output_type": "display_data"
    }
   ],
   "source": [
    "theo_breaches = pd.Series([stats.binom.pmf(k, DAYS_PER_YEAR, 1.0 - P) for k in range(15)])\n",
    "theo_breaches.plot()"
   ]
  },
  {
   "cell_type": "code",
   "execution_count": 26,
   "metadata": {},
   "outputs": [
    {
     "data": {
      "text/plain": [
       "<matplotlib.axes._subplots.AxesSubplot at 0x7ff0adce4850>"
      ]
     },
     "execution_count": 26,
     "metadata": {},
     "output_type": "execute_result"
    },
    {
     "data": {
      "image/png": "[encoded data removed]",
      "text/plain": [
       "<matplotlib.figure.Figure at 0x7ff0adcd6f10>"
      ]
     },
     "metadata": {},
     "output_type": "display_data"
    }
   ],
   "source": [
    "pd.Series([stats.binom.sf(k, DAYS_PER_YEAR, 1.0 - P) for k in range(15)]).plot()"
   ]
  },
  {
   "cell_type": "code",
   "execution_count": 43,
   "metadata": {},
   "outputs": [
    {
     "data": {
      "text/plain": [
       "<matplotlib.axes._subplots.AxesSubplot at 0x7ff0ad65d5d0>"
      ]
     },
     "execution_count": 43,
     "metadata": {},
     "output_type": "execute_result"
    },
    {
     "data": {
      "image/png": "[encoded data removed]",
      "text/plain": [
       "<matplotlib.figure.Figure at 0x7ff0ad50f550>"
      ]
     },
     "metadata": {},
     "output_type": "display_data"
    }
   ],
   "source": [
    "Q = np.arange(0,1.0,0.01)\n",
    "pd.Series([stats.binom.ppf(q, DAYS_PER_YEAR, 1.0 - P) for q in Q], index=Q).plot()"
   ]
  },
  {
   "cell_type": "markdown",
   "metadata": {},
   "source": [
    "(ii) Determine numerically the probability of $k = 0, 1, \\ldots, 10$ VaR breaches."
   ]
  },
  {
   "cell_type": "code",
   "execution_count": 27,
   "metadata": {
    "collapsed": true
   },
   "outputs": [],
   "source": [
    "def draw_year_sample(days=DAYS_PER_YEAR):\n",
    "    return pd.Series(np.random.standard_normal(days))"
   ]
  },
  {
   "cell_type": "code",
   "execution_count": 28,
   "metadata": {},
   "outputs": [
    {
     "data": {
      "text/plain": [
       "<matplotlib.axes._subplots.AxesSubplot at 0x7ff0adc2b110>"
      ]
     },
     "execution_count": 28,
     "metadata": {},
     "output_type": "execute_result"
    },
    {
     "data": {
      "image/png": "[encoded data removed]",
      "text/plain": [
       "<matplotlib.figure.Figure at 0x7ff0adb91690>"
      ]
     },
     "metadata": {},
     "output_type": "display_data"
    }
   ],
   "source": [
    "draw_year_sample().hist(bins=20)"
   ]
  },
  {
   "cell_type": "code",
   "execution_count": 29,
   "metadata": {
    "collapsed": true
   },
   "outputs": [],
   "source": [
    "def draw_breaches(breach_level=VAR_LEVEL,days=DAYS_PER_YEAR):\n",
    "    year_returns = draw_year_sample()\n",
    "    return len(year_returns[year_returns <= breach_level])"
   ]
  },
  {
   "cell_type": "code",
   "execution_count": 30,
   "metadata": {
    "collapsed": true
   },
   "outputs": [],
   "source": [
    "breaches_sim = pd.Series([ draw_breaches() for k in range(NUMBER_OF_SIMULATIONS)])"
   ]
  },
  {
   "cell_type": "code",
   "execution_count": 35,
   "metadata": {},
   "outputs": [],
   "source": [
    "emp_prob_breaches = pd.Series( {k:float(len(breaches_sim[breaches_sim == k]))/NUMBER_OF_SIMULATIONS for k in range(breaches_sim.max()+1)})"
   ]
  },
  {
   "cell_type": "code",
   "execution_count": 36,
   "metadata": {},
   "outputs": [
    {
     "data": {
      "text/plain": [
       "<matplotlib.axes._subplots.AxesSubplot at 0x7ff0ad864ed0>"
      ]
     },
     "execution_count": 36,
     "metadata": {},
     "output_type": "execute_result"
    },
    {
     "data": {
      "image/png": "[encoded data removed]",
      "text/plain": [
       "<matplotlib.figure.Figure at 0x7ff0ad801c50>"
      ]
     },
     "metadata": {},
     "output_type": "display_data"
    }
   ],
   "source": [
    "emp_prob_breaches.plot(title=\"empirical probability of breaches\")"
   ]
  },
  {
   "cell_type": "code",
   "execution_count": 39,
   "metadata": {},
   "outputs": [
    {
     "data": {
      "text/plain": [
       "<matplotlib.axes._subplots.AxesSubplot at 0x7ff0adc7e710>"
      ]
     },
     "execution_count": 39,
     "metadata": {},
     "output_type": "execute_result"
    },
    {
     "data": {
      "image/png": "[encoded data removed]",
      "text/plain": [
       "<matplotlib.figure.Figure at 0x7ff0ada59890>"
      ]
     },
     "metadata": {},
     "output_type": "display_data"
    }
   ],
   "source": [
    "breaches_distro = pd.DataFrame({\n",
    "    \"analytical\":theo_breaches,\n",
    "    \"numerical\":emp_prob_breaches})\n",
    "breaches_distro.plot(title = \"Number of breaches distribution\")"
   ]
  },
  {
   "cell_type": "markdown",
   "metadata": {},
   "source": [
    "(iii) Portfolio back test showed 4 VaR breaches. Can one reject, at the confidence level of $95\\%$, the hypothesis that the VaR model is working properly?"
   ]
  },
  {
   "cell_type": "markdown",
   "metadata": {},
   "source": [
    "#### Simulation based"
   ]
  },
  {
   "cell_type": "code",
   "execution_count": 10,
   "metadata": {},
   "outputs": [
    {
     "data": {
      "text/plain": [
       "<matplotlib.axes._subplots.AxesSubplot at 0x7fcce6f14710>"
      ]
     },
     "execution_count": 10,
     "metadata": {},
     "output_type": "execute_result"
    },
    {
     "data": {
      "image/png": "[encoded data removed]",
      "text/plain": [
       "<matplotlib.figure.Figure at 0x7fcce72df2d0>"
      ]
     },
     "metadata": {},
     "output_type": "display_data"
    }
   ],
   "source": [
    "breaches_sim.plot()"
   ]
  },
  {
   "cell_type": "code",
   "execution_count": 11,
   "metadata": {},
   "outputs": [
    {
     "data": {
      "text/plain": [
       "5.0"
      ]
     },
     "execution_count": 11,
     "metadata": {},
     "output_type": "execute_result"
    }
   ],
   "source": [
    "breaches_sim.quantile(0.95)"
   ]
  },
  {
   "cell_type": "markdown",
   "metadata": {},
   "source": [
    "#### Analytical"
   ]
  },
  {
   "cell_type": "code",
   "execution_count": 44,
   "metadata": {},
   "outputs": [
    {
     "data": {
      "text/plain": [
       "5.0"
      ]
     },
     "execution_count": 44,
     "metadata": {},
     "output_type": "execute_result"
    }
   ],
   "source": [
    "stats.binom.ppf(0.95, DAYS_PER_YEAR, 1.0 - P)"
   ]
  },
  {
   "cell_type": "markdown",
   "metadata": {},
   "source": [
    "If we get 4 breaches in a year, we can't reject the hypothesis that the model is working correctly at the 95% confidence level, since the empirical and analytical 95th percentile number of breaches is 5.0"
   ]
  }
 ],
 "metadata": {
  "kernelspec": {
   "display_name": "Python 3",
   "language": "python",
   "name": "python3"
  },
  "language_info": {
   "codemirror_mode": {
    "name": "ipython",
    "version": 3
   },
   "file_extension": ".py",
   "mimetype": "text/x-python",
   "name": "python",
   "nbconvert_exporter": "python",
   "pygments_lexer": "ipython3",
   "version": "3.7.2"
  }
 },
 "nbformat": 4,
 "nbformat_minor": 2
}
