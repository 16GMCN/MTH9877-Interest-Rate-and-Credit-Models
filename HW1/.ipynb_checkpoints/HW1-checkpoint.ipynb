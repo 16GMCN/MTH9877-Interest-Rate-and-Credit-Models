{
 "cells": [
  {
   "cell_type": "code",
   "execution_count": null,
   "metadata": {},
   "outputs": [],
   "source": []
  },
  {
   "cell_type": "markdown",
   "metadata": {},
   "source": [
    "## Problem 1\n",
    "\n",
    "### (i)\n",
    "\n",
    "the first part of integration is\n",
    "$$\n",
    "\\int_0^T \\beta_0 ds = \\beta_0 T\n",
    "$$\n",
    "\n",
    "the second part of integration is \n",
    "$$\n",
    "\\int_0^T \\beta_1 e^{-\\lambda s}ds=\\frac{\\beta_1}{\\lambda}(1-e^{-\\lambda T})\n",
    "$$\n",
    "\n",
    "because \n",
    "$$\n",
    "\\int_0^T s e^{-\\lambda s}ds=-\\frac{1}{\\lambda}(s e^{-\\lambda s}|_0^{T}-\\int_0^T e^{-\\lambda s}ds)\n",
    "$$\n",
    "the third part of integration is \n",
    "$$\n",
    "\\int_0^T \\beta_2 \\lambda s e^{-\\lambda s}ds=\\beta_2(\\frac{1-e^{-\\lambda T}}{\\lambda}-e^{-\\lambda T}T)\n",
    "$$\n",
    "\n",
    "So finally we have \n",
    "$$\n",
    "Y(T)=\\beta_0+\\beta_1 \\frac{1-e^{-\\lambda T}}{\\lambda T}+\\beta_2(\\frac{1-e^{-\\lambda T}}{\\lambda T}-e^{-\\lambda T})\n",
    "$$\n"
   ]
  },
  {
   "cell_type": "markdown",
   "metadata": {},
   "source": [
    "### (ii)"
   ]
  },
  {
   "cell_type": "code",
   "execution_count": 2,
   "metadata": {},
   "outputs": [],
   "source": [
    "import pandas as pd\n",
    "from scipy.optimize import least_squares\n",
    "import numpy as np\n",
    "import matplotlib.pyplot as plt"
   ]
  },
  {
   "cell_type": "code",
   "execution_count": 3,
   "metadata": {},
   "outputs": [],
   "source": [
    "def model(param,x):\n",
    "    temp=np.exp(-param[3]*x)\n",
    "    temp1=param[1]*(1-temp)/param[3]/x\n",
    "    temp2=param[2]*((1-temp)/param[3]/x-temp)\n",
    "    return param[0]+temp1+temp2\n",
    "\n",
    "def fun(param,x,y):\n",
    "    return model(param,x)-y"
   ]
  },
  {
   "cell_type": "code",
   "execution_count": 25,
   "metadata": {},
   "outputs": [],
   "source": [
    "X=[1,2,3,4,5,8,9,10,15,20,30]\n",
    "X=np.array(X)\n",
    "data=pd.read_excel('zeroRate_2_21_2019.xlsx',index_col=0)\n",
    "Y=np.array(data[\"Zero\"])\n"
   ]
  },
  {
   "cell_type": "code",
   "execution_count": 27,
   "metadata": {},
   "outputs": [
    {
     "data": {
      "text/plain": [
       "Tenors\n",
       "1Yr     2.664855\n",
       "2Yr     2.612208\n",
       "3Yr     2.558866\n",
       "4Yr     2.538626\n",
       "5Yr     2.542865\n",
       "8Yr     2.613810\n",
       "9Yr     2.645006\n",
       "10Yr    2.675875\n",
       "15Yr    2.784827\n",
       "20Yr    2.821654\n",
       "30Yr    2.815917\n",
       "Name: Zero, dtype: float64"
      ]
     },
     "execution_count": 27,
     "metadata": {},
     "output_type": "execute_result"
    }
   ],
   "source": [
    "data[\"Zero\"]"
   ]
  },
  {
   "cell_type": "markdown",
   "metadata": {},
   "source": [
    "### (iii)"
   ]
  },
  {
   "cell_type": "code",
   "execution_count": 6,
   "metadata": {},
   "outputs": [
    {
     "name": "stderr",
     "output_type": "stream",
     "text": [
      "/home/zecophy/Documents/anaconda3/lib/python3.7/site-packages/ipykernel_launcher.py:4: RuntimeWarning: invalid value encountered in subtract\n",
      "  after removing the cwd from sys.path.\n",
      "/home/zecophy/Documents/anaconda3/lib/python3.7/site-packages/ipykernel_launcher.py:3: RuntimeWarning: overflow encountered in multiply\n",
      "  This is separate from the ipykernel package so we can avoid doing imports until\n",
      "/home/zecophy/Documents/anaconda3/lib/python3.7/site-packages/ipykernel_launcher.py:4: RuntimeWarning: overflow encountered in multiply\n",
      "  after removing the cwd from sys.path.\n"
     ]
    }
   ],
   "source": [
    "# Generate a random vector with uniform distribution between min_range and max_range\n",
    "def random_vector(n, min_range, max_range):\n",
    "    result = []\n",
    "    for i in range(n):\n",
    "        result.append(np.random.uniform(min_range,max_range))\n",
    "    return result\n",
    "\n",
    "\n",
    "# Determine the number of runs we will attempt.\n",
    "trials = 1000\n",
    "# Choose a range of values near the origin as our observation points are also close to the origin.\n",
    "min_range = -10\n",
    "max_range = 10\n",
    "min_cost = float('inf')\n",
    "min_x = []\n",
    "min_initial = []\n",
    "\n",
    "for i in range(trials):\n",
    "    # generate a random initial guess within the established range\n",
    "    x0=random_vector(4,min_range, max_range)\n",
    "    # run the least squares minimization\n",
    "    res_lsq = least_squares(fun, x0, args=(X,Y),method='lm')\n",
    "    # store the run that results in the minimum cost\n",
    "    if res_lsq.success and res_lsq.cost < min_cost:\n",
    "        min_initial = x0\n",
    "        min_cost = res_lsq.cost\n",
    "        min_x = res_lsq.x"
   ]
  },
  {
   "cell_type": "code",
   "execution_count": 7,
   "metadata": {},
   "outputs": [
    {
     "name": "stdout",
     "output_type": "stream",
     "text": [
      "calibration error:   0.0012963388266640284\n",
      "model parameters:    [ 2.92592143 -0.03275406 -1.19073741  0.46195162]\n"
     ]
    }
   ],
   "source": [
    "print(\"calibration error:  \",min_cost)\n",
    "print(\"model parameters:   \",min_x)"
   ]
  },
  {
   "cell_type": "markdown",
   "metadata": {},
   "source": [
    "### (iv)"
   ]
  },
  {
   "cell_type": "code",
   "execution_count": 8,
   "metadata": {},
   "outputs": [
    {
     "name": "stdout",
     "output_type": "stream",
     "text": [
      "fix lambda =  0.4\n",
      "    --calibration error:   0.0016122412196902776\n",
      "    --model parameters:    [ 2.9496276  -0.10888017 -1.12347769]\n",
      "fix lambda =  0.41000000000000003\n",
      "    --calibration error:   0.001514804214774248\n",
      "    --model parameters:    [ 2.94553351 -0.09624685 -1.13493814]\n",
      "fix lambda =  0.42000000000000004\n",
      "    --calibration error:   0.0014363792838016389\n",
      "    --model parameters:    [ 2.94154812 -0.08375148 -1.14615   ]\n",
      "fix lambda =  0.43000000000000005\n",
      "    --calibration error:   0.0013761679157543517\n",
      "    --model parameters:    [ 2.93766702 -0.07139054 -1.15712448]\n",
      "fix lambda =  0.44\n",
      "    --calibration error:   0.0013333546459857013\n",
      "    --model parameters:    [ 2.93388623 -0.05916041 -1.16787335]\n",
      "fix lambda =  0.45\n",
      "    --calibration error:   0.001307114709643724\n",
      "    --model parameters:    [ 2.93020215 -0.04705744 -1.17840873]\n",
      "fix lambda =  0.46\n",
      "    --calibration error:   0.0012966208551996672\n",
      "    --model parameters:    [ 2.92661154 -0.03507784 -1.1887431 ]\n",
      "fix lambda =  0.47000000000000003\n",
      "    --calibration error:   0.0013010493468496851\n",
      "    --model parameters:    [ 2.92311137 -0.02321772 -1.19888901]\n",
      "fix lambda =  0.48000000000000004\n",
      "    --calibration error:   0.0013195851914732076\n",
      "    --model parameters:    [ 2.91969886 -0.01147306 -1.20885912]\n",
      "fix lambda =  0.49\n",
      "    --calibration error:   0.00135142663161962\n",
      "    --model parameters:    [ 2.91637141e+00  1.60265777e-04 -1.21866607e+00]\n",
      "fix lambda =  0.5\n",
      "    --calibration error:   0.001395788950543111\n",
      "    --model parameters:    [ 2.91312658  0.01168646 -1.22832234]\n"
     ]
    }
   ],
   "source": [
    "lambs=[]\n",
    "calerrors=[]\n",
    "for j in range(11):\n",
    "    lamb=0.4+j*0.01\n",
    "    lambs.append(lamb)\n",
    "    def model0(param,x):\n",
    "        temp=np.exp(-lamb*x)\n",
    "        temp1=param[1]*(1-temp)/lamb/x\n",
    "        temp2=param[2]*((1-temp)/lamb/x-temp)\n",
    "        return param[0]+temp1+temp2\n",
    "\n",
    "    def fun0(param,x,y):\n",
    "        return model0(param,x)-y\n",
    "   \n",
    "    min_cost = float('inf')\n",
    "    min_x = []\n",
    "    min_initial = []\n",
    "\n",
    "    for i in range(trials):\n",
    "        # generate a random initial guess within the established range\n",
    "        x0=random_vector(3,min_range, max_range)\n",
    "        # run the least squares minimization\n",
    "        res_lsq = least_squares(fun0, x0, args=(X,Y),method='lm')\n",
    "        # store the run that results in the minimum cost\n",
    "        if res_lsq.success and res_lsq.cost < min_cost:\n",
    "            min_initial = x0\n",
    "            min_cost = res_lsq.cost\n",
    "            min_x = res_lsq.x\n",
    "    calerrors.append(min_cost)\n",
    "    print(\"fix lambda = \",lamb)\n",
    "    print(\"    --calibration error:  \",min_cost)\n",
    "    print(\"    --model parameters:   \",min_x)"
   ]
  },
  {
   "cell_type": "code",
   "execution_count": 9,
   "metadata": {},
   "outputs": [
    {
     "data": {
      "image/png": "[encoded data removed]",
      "text/plain": [
       "<Figure size 432x288 with 1 Axes>"
      ]
     },
     "metadata": {
      "needs_background": "light"
     },
     "output_type": "display_data"
    }
   ],
   "source": [
    "plt.plot(lambs, calerrors, 'o', markersize=4)\n",
    "plt.xlabel(\"lambda\")\n",
    "plt.ylabel(\"calibration error\")\n",
    "plt.show()"
   ]
  },
  {
   "cell_type": "markdown",
   "metadata": {},
   "source": [
    "When we set $\\lambda$ to be 0.46, the calibration error is minimum."
   ]
  },
  {
   "cell_type": "markdown",
   "metadata": {},
   "source": [
    "### (v)"
   ]
  },
  {
   "cell_type": "code",
   "execution_count": 28,
   "metadata": {},
   "outputs": [],
   "source": [
    "data=pd.read_excel('zeroRate_2_22_2019.xlsx',index_col=0)\n",
    "Y1=np.array(data[\"Zero\"])\n",
    "\n",
    "data=pd.read_excel('zeroRate_2_25_2019.xlsx',index_col=0)\n",
    "Y2=np.array(data[\"Zero\"])"
   ]
  },
  {
   "cell_type": "code",
   "execution_count": 32,
   "metadata": {},
   "outputs": [],
   "source": [
    "lamb=0.46\n",
    "\n",
    "def modelCalc(X,Y,s):\n",
    "    min_cost = float('inf')\n",
    "    min_x = []\n",
    "    min_initial = []\n",
    "\n",
    "    for i in range(trials):\n",
    "        # generate a random initial guess within the established range\n",
    "        x0=random_vector(3,min_range, max_range)\n",
    "        # run the least squares minimization\n",
    "        res_lsq = least_squares(fun0, x0, args=(X,Y),method='lm')\n",
    "        # store the run that results in the minimum cost\n",
    "        if res_lsq.success and res_lsq.cost < min_cost:\n",
    "            min_initial = x0\n",
    "            min_cost = res_lsq.cost\n",
    "            min_x = res_lsq.x\n",
    "\n",
    "    print(\"fix lambda = \",lamb,\"    date \",s)\n",
    "    print(\"    --calibration error:  \",min_cost)\n",
    "    print(\"    --model parameters:   \",min_x)"
   ]
  },
  {
   "cell_type": "code",
   "execution_count": 34,
   "metadata": {},
   "outputs": [
    {
     "name": "stdout",
     "output_type": "stream",
     "text": [
      "fix lambda =  0.46     date  2/21\n",
      "    --calibration error:   0.0019826056530595423\n",
      "    --model parameters:    [ 2.9390129  -0.06242192 -1.22413686]\n",
      "fix lambda =  0.46     date  2/22\n",
      "    --calibration error:   0.0019826056530595436\n",
      "    --model parameters:    [ 2.9390129  -0.06242192 -1.22413686]\n",
      "fix lambda =  0.46     date  2/25\n",
      "    --calibration error:   0.001982605653059544\n",
      "    --model parameters:    [ 2.9390129  -0.06242193 -1.22413686]\n"
     ]
    }
   ],
   "source": [
    "modelCalc(X,Y1,\"2/21\")\n",
    "modelCalc(X,Y1,\"2/22\")\n",
    "modelCalc(X,Y2,\"2/25\")"
   ]
  },
  {
   "cell_type": "markdown",
   "metadata": {},
   "source": [
    "parameters are very stable"
   ]
  },
  {
   "cell_type": "markdown",
   "metadata": {},
   "source": [
    "## Problem 2"
   ]
  },
  {
   "cell_type": "markdown",
   "metadata": {},
   "source": [
    "### (i)\n",
    "\n",
    "In Merton's model\n",
    "$$\n",
    "R(t)=\\frac{V(t)N(-d_1)}{Fe^{-r(T-t)}N(-d_2)}\n",
    "$$\n",
    "\n",
    "So\n",
    "$$\n",
    "LGD(t)=(1-\\frac{V(t)N(-d_1)}{Fe^{-r(T-t)}N(-d_2)})F\n",
    "$$\n",
    "\n",
    "Because $V(t)$ follows geometric Brownian Motion, $V(t)=V(0)e^{(\\mu-\\frac{1}{2}\\sigma^2)t+\\sigma \\sqrt{t} z}$. Where z is a standard normal distributed random variable.\n",
    "\n",
    "$$\n",
    "\\Pr (LGD(t)\\le x)=\\Pr (z \\ge \\frac{1}{\\sigma \\sqrt{t}}\\{ \\log [ (1-\\frac{x}{F})\\frac{Fe^{-r(T-t)}N(-d_2)}{N(-d_1)V(0)}]-(\\mu-\\frac{1}{2}\\sigma^2)t \\}  )\n",
    "$$\n",
    "\n",
    "$$\n",
    "\\Pr (LGD(t)\\le x)=1-\\mathscr{N}(\\frac{1}{\\sigma \\sqrt{t}}\\{ \\log [ (1-\\frac{x}{F})\\frac{Fe^{-r(T-t)}N(-d_2)}{N(-d_1)V(0)}]-(\\mu-\\frac{1}{2}\\sigma^2)t \\})\n",
    "$$\n",
    "\n",
    "where $\\mathscr{N(.)}$ is the culmulative probility function of standard normal distribution"
   ]
  },
  {
   "cell_type": "markdown",
   "metadata": {},
   "source": [
    "### (ii)\n",
    "\n",
    "$$\n",
    "f(x)=\\frac{d\\Pr (LGD(t)\\le x) }{dx}=\\mathscr{N}'(\\frac{1}{\\sigma \\sqrt{t}}\\{ \\log [ (1-\\frac{x}{F})\\frac{Fe^{-r(T-t)}N(-d_2)}{N(-d_1)V(0)}]-(\\mu-\\frac{1}{2}\\sigma^2)t \\})\\frac{1}{\\sigma \\sqrt{t}(F-x)}\n",
    "$$"
   ]
  },
  {
   "cell_type": "code",
   "execution_count": 10,
   "metadata": {},
   "outputs": [],
   "source": [
    "sigma=0.25\n",
    "V0=95\n",
    "F=100\n",
    "r=0\n",
    "mu=0\n",
    "t=1\n",
    "T=10\n",
    "\n",
    "import scipy.stats as st \n",
    "\n",
    "\n",
    "def fun(x):\n",
    "    d1=(np.log(V0/F)+(r+0.5*sigma*sigma)*(T-t))/sigma/np.sqrt(T-t)\n",
    "    d2=d1-sigma*np.sqrt(T-t)\n",
    "    temp1=st.norm.cdf(-d2,0,1)*F*np.exp(-r*(T-t))/st.norm.cdf(-d1,0,1)/V0\n",
    "    temp2=(mu-0.5*sigma*sigma)*t\n",
    "    return st.norm.pdf(1/sigma/np.sqrt(t)*(np.log((1-x/F)*temp1)-temp2),0,1)/sigma/np.sqrt(t)/(F-x)\n"
   ]
  },
  {
   "cell_type": "code",
   "execution_count": 21,
   "metadata": {},
   "outputs": [
    {
     "name": "stderr",
     "output_type": "stream",
     "text": [
      "/home/zecophy/Documents/anaconda3/lib/python3.7/site-packages/ipykernel_launcher.py:17: RuntimeWarning: divide by zero encountered in log\n",
      "/home/zecophy/Documents/anaconda3/lib/python3.7/site-packages/ipykernel_launcher.py:17: RuntimeWarning: invalid value encountered in true_divide\n"
     ]
    },
    {
     "data": {
      "image/png": "[encoded data removed]",
      "text/plain": [
       "<Figure size 960x640 with 1 Axes>"
      ]
     },
     "metadata": {},
     "output_type": "display_data"
    }
   ],
   "source": [
    "from matplotlib.pyplot import figure\n",
    "figure(num=None, figsize=(12, 8), dpi=80, facecolor='w', edgecolor='k')\n",
    "\n",
    "x = np.linspace(-20,100,1000)\n",
    "V0=95\n",
    "plt.plot(x,fun(x),label='95')\n",
    "\n",
    "V0=99\n",
    "plt.plot(x,fun(x),color='r',label='99')\n",
    "\n",
    "V0=120\n",
    "plt.plot(x,fun(x),color='y',label='120')\n",
    "\n",
    "V0=140\n",
    "plt.plot(x,fun(x),color='b',label='140')\n",
    "\n",
    "plt.legend(loc='upper left')\n",
    "plt.show()"
   ]
  },
  {
   "cell_type": "code",
   "execution_count": null,
   "metadata": {},
   "outputs": [],
   "source": []
  }
 ],
 "metadata": {
  "kernelspec": {
   "display_name": "Python 3",
   "language": "python",
   "name": "python3"
  },
  "language_info": {
   "codemirror_mode": {
    "name": "ipython",
    "version": 3
   },
   "file_extension": ".py",
   "mimetype": "text/x-python",
   "name": "python",
   "nbconvert_exporter": "python",
   "pygments_lexer": "ipython3",
   "version": "3.7.0"
  }
 },
 "nbformat": 4,
 "nbformat_minor": 2
}
