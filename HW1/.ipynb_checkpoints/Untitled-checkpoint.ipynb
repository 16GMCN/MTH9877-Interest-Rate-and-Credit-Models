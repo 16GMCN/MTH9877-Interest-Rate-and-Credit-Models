{
 "cells": [
  {
   "cell_type": "code",
   "execution_count": null,
   "metadata": {},
   "outputs": [],
   "source": []
  },
  {
   "cell_type": "markdown",
   "metadata": {},
   "source": [
    "## HW2"
   ]
  },
  {
   "cell_type": "markdown",
   "metadata": {},
   "source": [
    "### 1"
   ]
  },
  {
   "cell_type": "markdown",
   "metadata": {},
   "source": [
    "$$\n",
    "P^{fix}=\\sum_{i=1}^{2T}\\frac{1}{2}ce^{-r\\frac{i}{2}}\n",
    "$$\n",
    "\n",
    "$$\n",
    "P^{float}=\\sum_{i=1}^{4T}\\frac{1}{4}le^{-r\\frac{i}{2}}\n",
    "$$\n",
    "\n",
    "When $P^{fix}=P^{float}$,\n",
    "$$\n",
    "c_{par}=\\frac{\\sum_{i=1}^{4T}\\frac{1}{4}le^{-r\\frac{i}{2}}}{\\sum_{i=1}^{2T}\\frac{1}{2}e^{-r\\frac{i}{2}}}\n",
    "$$"
   ]
  },
  {
   "cell_type": "markdown",
   "metadata": {},
   "source": [
    "## 2"
   ]
  },
  {
   "cell_type": "markdown",
   "metadata": {},
   "source": [
    "$$\n",
    "p^{protection}=(1-R)\\int_0^T\\lambda e^{-(r+\\lambda)s}ds\n",
    "$$\n",
    "\n",
    "$$\n",
    "A=\\sum_j\\frac{1}{4}e^{-(r+\\lambda)t_j}+\\sum_j\\int_{T_{j-1}}^{T_j}(s-T_{j-1})e^{-(r+\\lambda)s}\\lambda ds\n",
    "$$\n",
    "\n",
    "$$\n",
    "c=\\frac{p^{protection}}{A}\n",
    "$$"
   ]
  },
  {
   "cell_type": "markdown",
   "metadata": {},
   "source": [
    "## 3"
   ]
  },
  {
   "cell_type": "markdown",
   "metadata": {},
   "source": [
    "$$\n",
    "\\lambda(t)=\\lambda_0+\\theta t +\\sigma W(t)\n",
    "$$\n",
    "\n",
    "$$\n",
    "p^{protection}=(1-R)\\int_0^TE[\\lambda(s)e^{-\\int_0^s\\lambda(u)du}]e^{-rs}ds\n",
    "$$\n",
    "\n",
    "$$\n",
    "E[\\lambda(s)e^{-\\int_0^s\\lambda(u)du}]=(\\lambda_0+\\theta s)e^{-\\lambda_0 s -\\frac{1}{2}\\theta s^2}E[e^{-\\sigma\\int_0^sW(u)du}]+\\sigma e^{-\\lambda_0 s -\\frac{1}{2}\\theta s^2}E[W(s)e^{-\\sigma\\int_0^sW(u)du}]\n",
    "$$"
   ]
  },
  {
   "cell_type": "markdown",
   "metadata": {},
   "source": [
    "$$\n",
    "E[e^{-\\sigma\\int_0^sW(u)du}]=e^{\\frac{1}{6} \\sigma ^2 s^3}\n",
    "$$\n",
    "\n",
    "$$\n",
    "E[W(s)e^{-\\sigma\\int_0^sW(u)du}]=-\\frac{1}{\\sigma}\\frac{d}{ds}E[e^{-\\sigma\\int_0^sW(u)du}]=-\\frac{1}{2}\\sigma s^2e^{\\frac{1}{6} \\sigma ^2 s^3}\n",
    "$$"
   ]
  },
  {
   "cell_type": "markdown",
   "metadata": {},
   "source": [
    "therefore\n",
    "\n",
    "$$\n",
    "p^{protection}=(1-R)\\int_0^T (\\lambda_0+\\theta s-\\frac{1}{2}\\sigma^2 s^2)e^{-\\lambda_0 s -\\frac{1}{2}\\theta s^2+\\frac{1}{6}\\sigma^2s^3}e^{-rs}ds\n",
    "$$"
   ]
  },
  {
   "cell_type": "markdown",
   "metadata": {},
   "source": [
    "$$\n",
    "A=\\sum_j \\frac{1}{4} e^{-\\lambda_0 s -\\frac{1}{2}\\theta s^2+\\frac{1}{6}\\sigma^2s^3}e^{-r t_j}+\\sum_j\\int_{T_{j-1}}^{T_j}(s-T_{j-1}) (\\lambda_0+\\theta s-\\frac{1}{2}\\sigma^2 s^2)e^{-\\lambda_0 s -\\frac{1}{2}\\theta s^2+\\frac{1}{6}\\sigma^2s^3}e^{-rs}ds\n",
    "$$"
   ]
  },
  {
   "cell_type": "markdown",
   "metadata": {},
   "source": [
    "$$\n",
    "c=\\frac{p^{protection}}{A}\n",
    "$$\n"
   ]
  },
  {
   "cell_type": "code",
   "execution_count": null,
   "metadata": {},
   "outputs": [],
   "source": []
  }
 ],
 "metadata": {
  "kernelspec": {
   "display_name": "Python 3",
   "language": "python",
   "name": "python3"
  },
  "language_info": {
   "codemirror_mode": {
    "name": "ipython",
    "version": 3
   },
   "file_extension": ".py",
   "mimetype": "text/x-python",
   "name": "python",
   "nbconvert_exporter": "python",
   "pygments_lexer": "ipython3",
   "version": "3.7.0"
  }
 },
 "nbformat": 4,
 "nbformat_minor": 2
}
